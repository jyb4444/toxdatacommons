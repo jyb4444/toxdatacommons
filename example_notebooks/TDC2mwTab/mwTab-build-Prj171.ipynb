{
 "cells": [
  {
   "attachments": {},
   "cell_type": "markdown",
   "metadata": {},
   "source": [
    "<h1 align=\"center\">ToxDataCommons to mwTab</h1> \n",
    "\n",
    "This Jupyter notebook demonstrates how to export data from [ToxDataCommons](fairtox.com) in order to deposit mass spectrometry data to the [Metabolomics Workbench](metabolomicsworkbench.org). \n",
    "\n",
    "__Created by: Rance Nault, Michigan State University; Shuangyu Zhao, Michigan State University__\n",
    "\n",
    "-------"
   ]
  },
  {
   "cell_type": "markdown",
   "metadata": {},
   "source": [
    "## Load packages\n",
    "Import the mwtab python package. See https://github.com/MoseleyBioinformaticsLab/mwtab for installation instructions and documentation"
   ]
  },
  {
   "cell_type": "code",
   "execution_count": 41,
   "metadata": {},
   "outputs": [],
   "source": [
    "import os\n",
    "import sys\n",
    "import csv\n",
    "import gen3\n",
    "import json\n",
    "import mwtab\n",
    "import warnings\n",
    "\n",
    "import matplotlib.pyplot as plt\n",
    "\n",
    "from io import StringIO\n",
    "from datetime import datetime\n",
    "from collections import OrderedDict\n",
    "from expansion import Gen3Expansion # https://raw.githubusercontent.com/cgmeyer/gen3sdk-python/master/expansion/expansion.py\n",
    "\n",
    "from gen3.auth import Gen3Auth\n",
    "from gen3.index import Gen3Index\n",
    "from gen3.query import Gen3Query\n",
    "from gen3.submission import Gen3Submission \n",
    "\n",
    "from TDCexpansion import Gen3process  # https://raw.githubusercontent.com/naultran/toxdatacommons/main/script/TDCexpansion.py\n",
    "\n",
    "current_date = datetime.now().date()\n",
    "formatted_date = current_date.strftime('%Y-%m-%d')\n",
    "\n",
    "warnings.filterwarnings(\"ignore\", category=UserWarning)"
   ]
  },
  {
   "cell_type": "code",
   "execution_count": 42,
   "metadata": {},
   "outputs": [
    {
     "name": "stdout",
     "output_type": "stream",
     "text": [
      "Getting all project_ids you have access to in the data commons.\n",
      "['MyFirstProgram-MyFirstProject']\n"
     ]
    },
    {
     "data": {
      "text/plain": [
       "['MyFirstProgram-MyFirstProject']"
      ]
     },
     "execution_count": 42,
     "metadata": {},
     "output_type": "execute_result"
    }
   ],
   "source": [
    "# Initiate instances of the Gen3 SDK Classes using credentials file for authentication.\n",
    "# Change the directory path in \"cred\" to reflect the location of your credentials file.\n",
    "api = \"https://fairtox.com\"\n",
    "cred = \"/Users/apple/Desktop/CEC/credentials.json\"\n",
    "auth = Gen3Auth(api, refresh_file=cred) \n",
    "sub = Gen3Submission(api, auth) \n",
    "process = Gen3process( sub )\n",
    "query = Gen3Query(auth) \n",
    "exp = Gen3Expansion(api,auth,sub) \n",
    "exp.get_project_ids()"
   ]
  },
  {
   "cell_type": "markdown",
   "metadata": {},
   "source": [
    "<h1 align=\"center\">Obtain project data from <i>ToxDataCommons</i></h1> "
   ]
  },
  {
   "cell_type": "markdown",
   "metadata": {},
   "source": [
    "<h2 align=\"center\">Study details</h2> "
   ]
  },
  {
   "cell_type": "code",
   "execution_count": 43,
   "metadata": {},
   "outputs": [
    {
     "data": {
      "text/html": [
       "<div>\n",
       "<style scoped>\n",
       "    .dataframe tbody tr th:only-of-type {\n",
       "        vertical-align: middle;\n",
       "    }\n",
       "\n",
       "    .dataframe tbody tr th {\n",
       "        vertical-align: top;\n",
       "    }\n",
       "\n",
       "    .dataframe thead th {\n",
       "        text-align: right;\n",
       "    }\n",
       "</style>\n",
       "<table border=\"1\" class=\"dataframe\">\n",
       "  <thead>\n",
       "    <tr style=\"text-align: right;\">\n",
       "      <th></th>\n",
       "      <th>studies.type</th>\n",
       "      <th>studies.project_id</th>\n",
       "      <th>studies.submitter_id</th>\n",
       "      <th>experimental_setting</th>\n",
       "      <th>organism</th>\n",
       "      <th>studies.provenance</th>\n",
       "      <th>study_description</th>\n",
       "      <th>study_design</th>\n",
       "      <th>study_title</th>\n",
       "      <th>study_type</th>\n",
       "      <th>...</th>\n",
       "      <th>location</th>\n",
       "      <th>middle_name</th>\n",
       "      <th>contacts.provenance</th>\n",
       "      <th>publications.type</th>\n",
       "      <th>publications.project_id</th>\n",
       "      <th>publications.submitter_id</th>\n",
       "      <th>DOI</th>\n",
       "      <th>PMC_id</th>\n",
       "      <th>PMID</th>\n",
       "      <th>publications.provenance</th>\n",
       "    </tr>\n",
       "  </thead>\n",
       "  <tbody>\n",
       "    <tr>\n",
       "      <th>0</th>\n",
       "      <td>study</td>\n",
       "      <td>MyFirstProgram-MyFirstProject</td>\n",
       "      <td>Prj171</td>\n",
       "      <td>in vivo</td>\n",
       "      <td>Mus musculus</td>\n",
       "      <td>NaN</td>\n",
       "      <td>Male mice were treated with TCDD every 4 days ...</td>\n",
       "      <td>dose response design</td>\n",
       "      <td>Prj171_Mm_TCDD_RDDR-28D_Male</td>\n",
       "      <td>Toxicogenomics</td>\n",
       "      <td>...</td>\n",
       "      <td>48824:East Lansing</td>\n",
       "      <td>NaN</td>\n",
       "      <td>NaN</td>\n",
       "      <td>publication</td>\n",
       "      <td>MyFirstProgram-MyFirstProject</td>\n",
       "      <td>Prj171:9418907</td>\n",
       "      <td>10.1016/j.jbc.2022.102301</td>\n",
       "      <td>9418907</td>\n",
       "      <td>35931118</td>\n",
       "      <td>NaN</td>\n",
       "    </tr>\n",
       "  </tbody>\n",
       "</table>\n",
       "<p>1 rows × 37 columns</p>\n",
       "</div>"
      ],
      "text/plain": [
       "  studies.type             studies.project_id studies.submitter_id  \\\n",
       "0        study  MyFirstProgram-MyFirstProject               Prj171   \n",
       "\n",
       "  experimental_setting      organism  studies.provenance  \\\n",
       "0              in vivo  Mus musculus                 NaN   \n",
       "\n",
       "                                   study_description          study_design  \\\n",
       "0  Male mice were treated with TCDD every 4 days ...  dose response design   \n",
       "\n",
       "                    study_title      study_type  ...            location  \\\n",
       "0  Prj171_Mm_TCDD_RDDR-28D_Male  Toxicogenomics  ...  48824:East Lansing   \n",
       "\n",
       "  middle_name contacts.provenance publications.type  \\\n",
       "0         NaN                 NaN       publication   \n",
       "\n",
       "         publications.project_id publications.submitter_id  \\\n",
       "0  MyFirstProgram-MyFirstProject            Prj171:9418907   \n",
       "\n",
       "                         DOI   PMC_id      PMID publications.provenance  \n",
       "0  10.1016/j.jbc.2022.102301  9418907  35931118                     NaN  \n",
       "\n",
       "[1 rows x 37 columns]"
      ]
     },
     "execution_count": 43,
     "metadata": {},
     "output_type": "execute_result"
    }
   ],
   "source": [
    "study_df = process.build_study('MyFirstProgram', 'MyFirstProject', studies_to_match = ['Prj171'])\n",
    "study_df"
   ]
  },
  {
   "cell_type": "markdown",
   "metadata": {},
   "source": [
    "<h2 align=\"center\">Subject details</h2>"
   ]
  },
  {
   "cell_type": "code",
   "execution_count": 12,
   "metadata": {
    "scrolled": false
   },
   "outputs": [
    {
     "data": {
      "text/plain": [
       "Index(['subjects.type', 'subjects.project_id', 'subjects.submitter_id',\n",
       "       'euthanasia_date', 'euthanasia_method', 'euthanasia_zt',\n",
       "       'experiment_start_date', 'experiment_start_zt', 'subjects.provenance',\n",
       "       'sex', 'start_date', 'start_date_age', 'strain', 'strain_source',\n",
       "       'studies.submitter_id', 'treatments.type', 'treatments.project_id',\n",
       "       'treatments.submitter_id', 'treatment_protocol', 'addition_volume',\n",
       "       'administration_volume_ml', 'concentration_unit', 'treatments.date',\n",
       "       'dose_amount', 'dose_amount_unit', 'final_concentration',\n",
       "       'treatments.provenance', 'route', 'stock_concentration',\n",
       "       'test_article_administration_duration',\n",
       "       'test_article_administration_zt', 'test_article_dtxsid',\n",
       "       'test_article_name', 'vehicle_dtxsid', 'vehicle_name',\n",
       "       'cell_subjects.submitter_id', 'housings.type', 'housings.project_id',\n",
       "       'housings.submitter_id', 'bedding_type', 'cageID', 'cage_type',\n",
       "       'housing_change_date', 'housings.provenance',\n",
       "       'vivarium_humidity_percentage', 'vivarium_light_cycle',\n",
       "       'vivarium_temperature_C', 'diets.type', 'diets.project_id',\n",
       "       'diets.submitter_id', 'diets.date', 'feed_catalog_number',\n",
       "       'feed_description', 'feed_name', 'feed_paradigm', 'feed_vendor',\n",
       "       'diets.provenance', 'water_type', 'num_days', 'age'],\n",
       "      dtype='object')"
      ]
     },
     "execution_count": 12,
     "metadata": {},
     "output_type": "execute_result"
    }
   ],
   "source": [
    "subject_df = process.build_subject('MyFirstProgram', 'MyFirstProject', studies_to_match = ['Prj171'], subjects_to_match = [])\n",
    "subject_df.columns"
   ]
  },
  {
   "cell_type": "code",
   "execution_count": 13,
   "metadata": {},
   "outputs": [
    {
     "data": {
      "image/png": "[encoded data removed]",
      "text/plain": [
       "<Figure size 1200x1200 with 4 Axes>"
      ]
     },
     "metadata": {},
     "output_type": "display_data"
    }
   ],
   "source": [
    "# Create a 2x2 subplot\n",
    "fig, axes = plt.subplots(2, 2, figsize=(12, 12))\n",
    "\n",
    "# Breakdown 1: Strain\n",
    "strain_counts = subject_df['strain'].value_counts()\n",
    "axes[0, 0].pie(strain_counts, labels=strain_counts.index, autopct='%1.1f%%')\n",
    "axes[0, 0].set_title('Breakdown by Strain')\n",
    "\n",
    "# Breakdown 2: Strain + Sex\n",
    "strain_sex_counts = subject_df.groupby(['strain', 'sex']).size().unstack()\n",
    "axes[0, 1].pie(strain_sex_counts.values.flatten(), labels=strain_sex_counts.columns, autopct='%1.1f%%')\n",
    "axes[0, 1].set_title('Breakdown by Strain and Sex')\n",
    "\n",
    "# Breakdown 3: Strain + Sex + Treatment\n",
    "strain_sex_treatment_counts = subject_df.groupby(['strain', 'sex', 'test_article_name']).size().unstack()\n",
    "axes[1, 0].pie(strain_sex_treatment_counts.values.flatten(), labels=strain_sex_treatment_counts.columns, autopct='%1.1f%%')\n",
    "axes[1, 0].set_title('Breakdown by Strain, Sex, and Treatment')\n",
    "\n",
    "# Breakdown 4: Strain + Sex + Treatment + Dose\n",
    "strain_sex_treatment_dose_counts = subject_df.groupby(['strain', 'sex', 'test_article_name', 'dose_amount']).size().unstack()\n",
    "axes[1, 1].pie(strain_sex_treatment_dose_counts.values.flatten(), labels=strain_sex_treatment_dose_counts.columns, autopct='%1.1f%%')\n",
    "axes[1, 1].set_title('Breakdown by Strain, Sex, Treatment, and Dose')\n",
    "\n",
    "# Adjust spacing between subplots\n",
    "plt.tight_layout()\n",
    "\n",
    "# Show the plot\n",
    "plt.show()"
   ]
  },
  {
   "cell_type": "markdown",
   "metadata": {},
   "source": [
    "<h2 align=\"center\">Sample details</h2>"
   ]
  },
  {
   "cell_type": "code",
   "execution_count": 14,
   "metadata": {
    "scrolled": false
   },
   "outputs": [
    {
     "data": {
      "text/plain": [
       "Index(['samples.type', 'samples.project_id', 'samples.submitter_id',\n",
       "       'biospecimen_anatomic_site', 'collection_protocol', 'date',\n",
       "       'method_of_sample_procurement', 'preservation_method',\n",
       "       'samples.provenance', 'storage_vessel', 'volume', 'weight',\n",
       "       'cell_subjects.submitter_id', 'subjects.submitter_id', 'aliquots.type',\n",
       "       'aliquots.project_id', 'aliquots.submitter_id', 'analyte_protocol',\n",
       "       'analyte_type', 'derivitization', 'extract_preservation_method',\n",
       "       'aliquots.provenance', 'mass_spec_assays.project_id',\n",
       "       'mass_spec_assays.submitter_id', 'calibration_standard', 'carrier_gas',\n",
       "       'chromatography_column', 'chromatography_instrument',\n",
       "       'chromatography_method_filename', 'chromatography_protocol',\n",
       "       'chromatography_type', 'elution_program', 'flow_rate', 'ion_mode',\n",
       "       'ms_method_filename', 'ms_protocol', 'ms_type',\n",
       "       'oven_temperature_program', 'mass_spec_assays.provenance',\n",
       "       'sample_dilution', 'solventA', 'solventB', 'solventC',\n",
       "       'mass_spec_assays.type', 'ms_raw_datas.type', 'ms_raw_datas.project_id',\n",
       "       'ms_raw_datas.submitter_id', 'consent_codes', 'data_category',\n",
       "       'data_format', 'data_type', 'file_name', 'file_size',\n",
       "       'file_source_repository', 'md5sum', 'object_id',\n",
       "       'ms_raw_datas.provenance', 'repository_accession_id',\n",
       "       'repository_download_ftp', 'state_comment',\n",
       "       'core_metadata_collections.submitter_id'],\n",
       "      dtype='object')"
      ]
     },
     "metadata": {},
     "output_type": "display_data"
    },
    {
     "data": {
      "text/html": [
       "<div>\n",
       "<style scoped>\n",
       "    .dataframe tbody tr th:only-of-type {\n",
       "        vertical-align: middle;\n",
       "    }\n",
       "\n",
       "    .dataframe tbody tr th {\n",
       "        vertical-align: top;\n",
       "    }\n",
       "\n",
       "    .dataframe thead th {\n",
       "        text-align: right;\n",
       "    }\n",
       "</style>\n",
       "<table border=\"1\" class=\"dataframe\">\n",
       "  <thead>\n",
       "    <tr style=\"text-align: right;\">\n",
       "      <th></th>\n",
       "      <th>samples.type</th>\n",
       "      <th>samples.project_id</th>\n",
       "      <th>samples.submitter_id</th>\n",
       "      <th>biospecimen_anatomic_site</th>\n",
       "      <th>collection_protocol</th>\n",
       "      <th>date</th>\n",
       "      <th>method_of_sample_procurement</th>\n",
       "      <th>preservation_method</th>\n",
       "      <th>samples.provenance</th>\n",
       "      <th>storage_vessel</th>\n",
       "      <th>...</th>\n",
       "      <th>file_name</th>\n",
       "      <th>file_size</th>\n",
       "      <th>file_source_repository</th>\n",
       "      <th>md5sum</th>\n",
       "      <th>object_id</th>\n",
       "      <th>ms_raw_datas.provenance</th>\n",
       "      <th>repository_accession_id</th>\n",
       "      <th>repository_download_ftp</th>\n",
       "      <th>state_comment</th>\n",
       "      <th>core_metadata_collections.submitter_id</th>\n",
       "    </tr>\n",
       "  </thead>\n",
       "  <tbody>\n",
       "    <tr>\n",
       "      <th>0</th>\n",
       "      <td>sample</td>\n",
       "      <td>MyFirstProgram-MyFirstProject</td>\n",
       "      <td>Prj171:L83</td>\n",
       "      <td>Liver</td>\n",
       "      <td>Tissue was carefully excised and immediately f...</td>\n",
       "      <td>2022-04-11</td>\n",
       "      <td>NaN</td>\n",
       "      <td>Snap Frozen</td>\n",
       "      <td>DataHarmonizer v1.4.10, Sample v4.3.1</td>\n",
       "      <td>2 mL screwcap tube</td>\n",
       "      <td>...</td>\n",
       "      <td>TQSm_042122_016.mzML</td>\n",
       "      <td>3489881</td>\n",
       "      <td>NaN</td>\n",
       "      <td>c27a557b720aebbb86834c9c9b3acfaf</td>\n",
       "      <td>PREFIX/c8b48931-9442-4d7b-8cde-9e5f37f88d7c</td>\n",
       "      <td>NaN</td>\n",
       "      <td>NaN</td>\n",
       "      <td>NaN</td>\n",
       "      <td>NaN</td>\n",
       "      <td>NaN</td>\n",
       "    </tr>\n",
       "    <tr>\n",
       "      <th>1</th>\n",
       "      <td>sample</td>\n",
       "      <td>MyFirstProgram-MyFirstProject</td>\n",
       "      <td>Prj171:L113</td>\n",
       "      <td>Liver</td>\n",
       "      <td>Tissue was carefully excised and immediately f...</td>\n",
       "      <td>2022-04-11</td>\n",
       "      <td>NaN</td>\n",
       "      <td>Snap Frozen</td>\n",
       "      <td>DataHarmonizer v1.4.10, Sample v4.3.1</td>\n",
       "      <td>2 mL screwcap tube</td>\n",
       "      <td>...</td>\n",
       "      <td>TQSm_042122_028.mzML</td>\n",
       "      <td>3490000</td>\n",
       "      <td>NaN</td>\n",
       "      <td>2d8027f104da3bff7d40588aaff4d28e</td>\n",
       "      <td>PREFIX/f990eb1d-09b5-452f-be74-2602838dc9b2</td>\n",
       "      <td>NaN</td>\n",
       "      <td>NaN</td>\n",
       "      <td>NaN</td>\n",
       "      <td>NaN</td>\n",
       "      <td>NaN</td>\n",
       "    </tr>\n",
       "    <tr>\n",
       "      <th>2</th>\n",
       "      <td>sample</td>\n",
       "      <td>MyFirstProgram-MyFirstProject</td>\n",
       "      <td>Prj171:L85</td>\n",
       "      <td>Liver</td>\n",
       "      <td>Tissue was carefully excised and immediately f...</td>\n",
       "      <td>2022-04-11</td>\n",
       "      <td>NaN</td>\n",
       "      <td>Snap Frozen</td>\n",
       "      <td>DataHarmonizer v1.4.10, Sample v4.3.1</td>\n",
       "      <td>2 mL screwcap tube</td>\n",
       "      <td>...</td>\n",
       "      <td>TQSm_042122_020.mzML</td>\n",
       "      <td>3490136</td>\n",
       "      <td>NaN</td>\n",
       "      <td>28b0dce0ec11fdc5756cdf6971fa7f8b</td>\n",
       "      <td>PREFIX/28ea8716-f52e-40e9-9c48-3376a41c2dae</td>\n",
       "      <td>NaN</td>\n",
       "      <td>NaN</td>\n",
       "      <td>NaN</td>\n",
       "      <td>NaN</td>\n",
       "      <td>NaN</td>\n",
       "    </tr>\n",
       "    <tr>\n",
       "      <th>3</th>\n",
       "      <td>sample</td>\n",
       "      <td>MyFirstProgram-MyFirstProject</td>\n",
       "      <td>Prj171:L112</td>\n",
       "      <td>Liver</td>\n",
       "      <td>Tissue was carefully excised and immediately f...</td>\n",
       "      <td>2022-04-11</td>\n",
       "      <td>NaN</td>\n",
       "      <td>Snap Frozen</td>\n",
       "      <td>DataHarmonizer v1.4.10, Sample v4.3.1</td>\n",
       "      <td>2 mL screwcap tube</td>\n",
       "      <td>...</td>\n",
       "      <td>TQSm_042122_027.mzML</td>\n",
       "      <td>3490247</td>\n",
       "      <td>NaN</td>\n",
       "      <td>3ce2e6599ff61d9e63bd5fc1d29d6f01</td>\n",
       "      <td>PREFIX/30f918bc-7d85-4a1c-8aa3-78f5464ef47e</td>\n",
       "      <td>NaN</td>\n",
       "      <td>NaN</td>\n",
       "      <td>NaN</td>\n",
       "      <td>NaN</td>\n",
       "      <td>NaN</td>\n",
       "    </tr>\n",
       "    <tr>\n",
       "      <th>4</th>\n",
       "      <td>sample</td>\n",
       "      <td>MyFirstProgram-MyFirstProject</td>\n",
       "      <td>Prj171:L143</td>\n",
       "      <td>Liver</td>\n",
       "      <td>Tissue was carefully excised and immediately f...</td>\n",
       "      <td>2022-04-11</td>\n",
       "      <td>NaN</td>\n",
       "      <td>Snap Frozen</td>\n",
       "      <td>DataHarmonizer v1.4.10, Sample v4.3.1</td>\n",
       "      <td>2 mL screwcap tube</td>\n",
       "      <td>...</td>\n",
       "      <td>TQSm_042122_039.mzML</td>\n",
       "      <td>3490363</td>\n",
       "      <td>NaN</td>\n",
       "      <td>a8bb43fdb40319f4b050f10137a57695</td>\n",
       "      <td>PREFIX/a722c253-dcd7-4c0a-8d21-1ad14f292d82</td>\n",
       "      <td>NaN</td>\n",
       "      <td>NaN</td>\n",
       "      <td>NaN</td>\n",
       "      <td>NaN</td>\n",
       "      <td>NaN</td>\n",
       "    </tr>\n",
       "  </tbody>\n",
       "</table>\n",
       "<p>5 rows × 61 columns</p>\n",
       "</div>"
      ],
      "text/plain": [
       "  samples.type             samples.project_id samples.submitter_id  \\\n",
       "0       sample  MyFirstProgram-MyFirstProject           Prj171:L83   \n",
       "1       sample  MyFirstProgram-MyFirstProject          Prj171:L113   \n",
       "2       sample  MyFirstProgram-MyFirstProject           Prj171:L85   \n",
       "3       sample  MyFirstProgram-MyFirstProject          Prj171:L112   \n",
       "4       sample  MyFirstProgram-MyFirstProject          Prj171:L143   \n",
       "\n",
       "  biospecimen_anatomic_site  \\\n",
       "0                     Liver   \n",
       "1                     Liver   \n",
       "2                     Liver   \n",
       "3                     Liver   \n",
       "4                     Liver   \n",
       "\n",
       "                                 collection_protocol        date  \\\n",
       "0  Tissue was carefully excised and immediately f...  2022-04-11   \n",
       "1  Tissue was carefully excised and immediately f...  2022-04-11   \n",
       "2  Tissue was carefully excised and immediately f...  2022-04-11   \n",
       "3  Tissue was carefully excised and immediately f...  2022-04-11   \n",
       "4  Tissue was carefully excised and immediately f...  2022-04-11   \n",
       "\n",
       "   method_of_sample_procurement preservation_method  \\\n",
       "0                           NaN         Snap Frozen   \n",
       "1                           NaN         Snap Frozen   \n",
       "2                           NaN         Snap Frozen   \n",
       "3                           NaN         Snap Frozen   \n",
       "4                           NaN         Snap Frozen   \n",
       "\n",
       "                      samples.provenance      storage_vessel  ...  \\\n",
       "0  DataHarmonizer v1.4.10, Sample v4.3.1  2 mL screwcap tube  ...   \n",
       "1  DataHarmonizer v1.4.10, Sample v4.3.1  2 mL screwcap tube  ...   \n",
       "2  DataHarmonizer v1.4.10, Sample v4.3.1  2 mL screwcap tube  ...   \n",
       "3  DataHarmonizer v1.4.10, Sample v4.3.1  2 mL screwcap tube  ...   \n",
       "4  DataHarmonizer v1.4.10, Sample v4.3.1  2 mL screwcap tube  ...   \n",
       "\n",
       "              file_name  file_size  file_source_repository  \\\n",
       "0  TQSm_042122_016.mzML    3489881                     NaN   \n",
       "1  TQSm_042122_028.mzML    3490000                     NaN   \n",
       "2  TQSm_042122_020.mzML    3490136                     NaN   \n",
       "3  TQSm_042122_027.mzML    3490247                     NaN   \n",
       "4  TQSm_042122_039.mzML    3490363                     NaN   \n",
       "\n",
       "                             md5sum  \\\n",
       "0  c27a557b720aebbb86834c9c9b3acfaf   \n",
       "1  2d8027f104da3bff7d40588aaff4d28e   \n",
       "2  28b0dce0ec11fdc5756cdf6971fa7f8b   \n",
       "3  3ce2e6599ff61d9e63bd5fc1d29d6f01   \n",
       "4  a8bb43fdb40319f4b050f10137a57695   \n",
       "\n",
       "                                     object_id ms_raw_datas.provenance  \\\n",
       "0  PREFIX/c8b48931-9442-4d7b-8cde-9e5f37f88d7c                     NaN   \n",
       "1  PREFIX/f990eb1d-09b5-452f-be74-2602838dc9b2                     NaN   \n",
       "2  PREFIX/28ea8716-f52e-40e9-9c48-3376a41c2dae                     NaN   \n",
       "3  PREFIX/30f918bc-7d85-4a1c-8aa3-78f5464ef47e                     NaN   \n",
       "4  PREFIX/a722c253-dcd7-4c0a-8d21-1ad14f292d82                     NaN   \n",
       "\n",
       "  repository_accession_id repository_download_ftp state_comment  \\\n",
       "0                     NaN                     NaN           NaN   \n",
       "1                     NaN                     NaN           NaN   \n",
       "2                     NaN                     NaN           NaN   \n",
       "3                     NaN                     NaN           NaN   \n",
       "4                     NaN                     NaN           NaN   \n",
       "\n",
       "   core_metadata_collections.submitter_id  \n",
       "0                                     NaN  \n",
       "1                                     NaN  \n",
       "2                                     NaN  \n",
       "3                                     NaN  \n",
       "4                                     NaN  \n",
       "\n",
       "[5 rows x 61 columns]"
      ]
     },
     "metadata": {},
     "output_type": "display_data"
    }
   ],
   "source": [
    "#subject_df['submitter_id_x'].unique()\n",
    "\n",
    "sample_df = process.build_sample('MyFirstProgram', 'MyFirstProject', subjects_to_match = [])\n",
    "display(sample_df.columns)\n",
    "display(sample_df.head())"
   ]
  },
  {
   "cell_type": "code",
   "execution_count": 15,
   "metadata": {},
   "outputs": [
    {
     "data": {
      "image/png": "[encoded data removed]",
      "text/plain": [
       "<Figure size 1200x1200 with 4 Axes>"
      ]
     },
     "metadata": {},
     "output_type": "display_data"
    }
   ],
   "source": [
    "# Create a 2x2 subplot\n",
    "fig, axes = plt.subplots(2, 2, figsize=(12, 12))\n",
    "\n",
    "# Breakdown 1: Strain\n",
    "strain_counts = sample_df['biospecimen_anatomic_site'].value_counts()\n",
    "axes[0, 0].pie(strain_counts, labels=strain_counts.index, autopct='%1.1f%%')\n",
    "axes[0, 0].set_title('Breakdown by Tissue')\n",
    "\n",
    "# Breakdown 2: Strain + Sex\n",
    "strain_sex_counts = sample_df.groupby(['biospecimen_anatomic_site', 'preservation_method']).size().unstack()\n",
    "axes[0, 1].pie(strain_sex_counts.values.flatten(), labels=strain_sex_counts.columns, autopct='%1.1f%%')\n",
    "axes[0, 1].set_title('Breakdown by Strain and Sex')\n",
    "\n",
    "\n",
    "# Breakdown 1: Strain\n",
    "strain_counts = sample_df['biospecimen_anatomic_site'].value_counts()\n",
    "axes[1, 0].pie(strain_counts, labels=strain_counts.index, autopct='%1.1f%%')\n",
    "axes[1, 0].set_title('Breakdown by Tissue')\n",
    "\n",
    "# Breakdown 2: Strain + Sex\n",
    "strain_sex_counts = sample_df.groupby(['biospecimen_anatomic_site', 'preservation_method']).size().unstack()\n",
    "axes[1, 1].pie(strain_sex_counts.values.flatten(), labels=strain_sex_counts.columns, autopct='%1.1f%%')\n",
    "axes[1, 1].set_title('Breakdown by Strain and Sex')\n",
    "\n",
    "# Adjust spacing between subplots\n",
    "plt.tight_layout()\n",
    "\n",
    "# Show the plot\n",
    "plt.show()"
   ]
  },
  {
   "cell_type": "markdown",
   "metadata": {},
   "source": [
    "<h2 align=\"center\">Mass spec data details</h2>"
   ]
  },
  {
   "cell_type": "code",
   "execution_count": 16,
   "metadata": {
    "scrolled": false
   },
   "outputs": [
    {
     "data": {
      "text/html": [
       "<div>\n",
       "<style scoped>\n",
       "    .dataframe tbody tr th:only-of-type {\n",
       "        vertical-align: middle;\n",
       "    }\n",
       "\n",
       "    .dataframe tbody tr th {\n",
       "        vertical-align: top;\n",
       "    }\n",
       "\n",
       "    .dataframe thead th {\n",
       "        text-align: right;\n",
       "    }\n",
       "</style>\n",
       "<table border=\"1\" class=\"dataframe\">\n",
       "  <thead>\n",
       "    <tr style=\"text-align: right;\">\n",
       "      <th></th>\n",
       "      <th>ms_raw_datas.type</th>\n",
       "      <th>ms_raw_datas.project_id</th>\n",
       "      <th>ms_raw_datas.submitter_id</th>\n",
       "      <th>ms_raw_datas.consent_codes</th>\n",
       "      <th>ms_raw_datas.data_category</th>\n",
       "      <th>ms_raw_datas.data_format</th>\n",
       "      <th>ms_raw_datas.data_type</th>\n",
       "      <th>ms_raw_datas.file_name</th>\n",
       "      <th>ms_raw_datas.file_size</th>\n",
       "      <th>ms_raw_datas.file_source_repository</th>\n",
       "      <th>...</th>\n",
       "      <th>ms_analyses.submitter_id</th>\n",
       "      <th>ms_analyses.type</th>\n",
       "      <th>ms_analyses.project_id</th>\n",
       "      <th>analysis_protocols</th>\n",
       "      <th>normalization</th>\n",
       "      <th>ms_analyses.provenance</th>\n",
       "      <th>transformation</th>\n",
       "      <th>transformation_description</th>\n",
       "      <th>transformation_purpose</th>\n",
       "      <th>unit</th>\n",
       "    </tr>\n",
       "  </thead>\n",
       "  <tbody>\n",
       "    <tr>\n",
       "      <th>0</th>\n",
       "      <td>ms_raw_data</td>\n",
       "      <td>MyFirstProgram-MyFirstProject</td>\n",
       "      <td>Prj171:TQSm_042122_022.mzML</td>\n",
       "      <td>NaN</td>\n",
       "      <td>targeted metabolomics</td>\n",
       "      <td>.mzML</td>\n",
       "      <td>chromatograms</td>\n",
       "      <td>TQSm_042122_022.mzML</td>\n",
       "      <td>3490163</td>\n",
       "      <td>NaN</td>\n",
       "      <td>...</td>\n",
       "      <td>Prj171:TQSm_042122_022</td>\n",
       "      <td>ms_analysis</td>\n",
       "      <td>MyFirstProgram-MyFirstProject</td>\n",
       "      <td>NaN</td>\n",
       "      <td>normalized to protein</td>\n",
       "      <td>DataHarmonizer v1.4.10, mass_spec_assay v1.0.0</td>\n",
       "      <td>NaN</td>\n",
       "      <td>NaN</td>\n",
       "      <td>NaN</td>\n",
       "      <td>normalized peak area</td>\n",
       "    </tr>\n",
       "    <tr>\n",
       "      <th>1</th>\n",
       "      <td>ms_raw_data</td>\n",
       "      <td>MyFirstProgram-MyFirstProject</td>\n",
       "      <td>Prj171:TQSm_042122_034.mzML</td>\n",
       "      <td>NaN</td>\n",
       "      <td>targeted metabolomics</td>\n",
       "      <td>.mzML</td>\n",
       "      <td>chromatograms</td>\n",
       "      <td>TQSm_042122_034.mzML</td>\n",
       "      <td>3490426</td>\n",
       "      <td>NaN</td>\n",
       "      <td>...</td>\n",
       "      <td>Prj171:TQSm_042122_034</td>\n",
       "      <td>ms_analysis</td>\n",
       "      <td>MyFirstProgram-MyFirstProject</td>\n",
       "      <td>NaN</td>\n",
       "      <td>normalized to protein</td>\n",
       "      <td>DataHarmonizer v1.4.10, mass_spec_assay v1.0.0</td>\n",
       "      <td>NaN</td>\n",
       "      <td>NaN</td>\n",
       "      <td>NaN</td>\n",
       "      <td>normalized peak area</td>\n",
       "    </tr>\n",
       "    <tr>\n",
       "      <th>2</th>\n",
       "      <td>ms_raw_data</td>\n",
       "      <td>MyFirstProgram-MyFirstProject</td>\n",
       "      <td>Prj171:TQSm_042122_015.mzML</td>\n",
       "      <td>NaN</td>\n",
       "      <td>targeted metabolomics</td>\n",
       "      <td>.mzML</td>\n",
       "      <td>chromatograms</td>\n",
       "      <td>TQSm_042122_015.mzML</td>\n",
       "      <td>3490190</td>\n",
       "      <td>NaN</td>\n",
       "      <td>...</td>\n",
       "      <td>Prj171:TQSm_042122_015</td>\n",
       "      <td>ms_analysis</td>\n",
       "      <td>MyFirstProgram-MyFirstProject</td>\n",
       "      <td>NaN</td>\n",
       "      <td>normalized to protein</td>\n",
       "      <td>DataHarmonizer v1.4.10, mass_spec_assay v1.0.0</td>\n",
       "      <td>NaN</td>\n",
       "      <td>NaN</td>\n",
       "      <td>NaN</td>\n",
       "      <td>normalized peak area</td>\n",
       "    </tr>\n",
       "    <tr>\n",
       "      <th>3</th>\n",
       "      <td>ms_raw_data</td>\n",
       "      <td>MyFirstProgram-MyFirstProject</td>\n",
       "      <td>Prj171:TQSm_042122_016.mzML</td>\n",
       "      <td>NaN</td>\n",
       "      <td>targeted metabolomics</td>\n",
       "      <td>.mzML</td>\n",
       "      <td>chromatograms</td>\n",
       "      <td>TQSm_042122_016.mzML</td>\n",
       "      <td>3489881</td>\n",
       "      <td>NaN</td>\n",
       "      <td>...</td>\n",
       "      <td>Prj171:TQSm_042122_016</td>\n",
       "      <td>ms_analysis</td>\n",
       "      <td>MyFirstProgram-MyFirstProject</td>\n",
       "      <td>NaN</td>\n",
       "      <td>normalized to protein</td>\n",
       "      <td>DataHarmonizer v1.4.10, mass_spec_assay v1.0.0</td>\n",
       "      <td>NaN</td>\n",
       "      <td>NaN</td>\n",
       "      <td>NaN</td>\n",
       "      <td>normalized peak area</td>\n",
       "    </tr>\n",
       "    <tr>\n",
       "      <th>4</th>\n",
       "      <td>ms_raw_data</td>\n",
       "      <td>MyFirstProgram-MyFirstProject</td>\n",
       "      <td>Prj171:TQSm_042122_031.mzML</td>\n",
       "      <td>NaN</td>\n",
       "      <td>targeted metabolomics</td>\n",
       "      <td>.mzML</td>\n",
       "      <td>chromatograms</td>\n",
       "      <td>TQSm_042122_031.mzML</td>\n",
       "      <td>3490107</td>\n",
       "      <td>NaN</td>\n",
       "      <td>...</td>\n",
       "      <td>Prj171:TQSm_042122_031</td>\n",
       "      <td>ms_analysis</td>\n",
       "      <td>MyFirstProgram-MyFirstProject</td>\n",
       "      <td>NaN</td>\n",
       "      <td>normalized to protein</td>\n",
       "      <td>DataHarmonizer v1.4.10, mass_spec_assay v1.0.0</td>\n",
       "      <td>NaN</td>\n",
       "      <td>NaN</td>\n",
       "      <td>NaN</td>\n",
       "      <td>normalized peak area</td>\n",
       "    </tr>\n",
       "  </tbody>\n",
       "</table>\n",
       "<p>5 rows × 44 columns</p>\n",
       "</div>"
      ],
      "text/plain": [
       "  ms_raw_datas.type        ms_raw_datas.project_id  \\\n",
       "0       ms_raw_data  MyFirstProgram-MyFirstProject   \n",
       "1       ms_raw_data  MyFirstProgram-MyFirstProject   \n",
       "2       ms_raw_data  MyFirstProgram-MyFirstProject   \n",
       "3       ms_raw_data  MyFirstProgram-MyFirstProject   \n",
       "4       ms_raw_data  MyFirstProgram-MyFirstProject   \n",
       "\n",
       "     ms_raw_datas.submitter_id  ms_raw_datas.consent_codes  \\\n",
       "0  Prj171:TQSm_042122_022.mzML                         NaN   \n",
       "1  Prj171:TQSm_042122_034.mzML                         NaN   \n",
       "2  Prj171:TQSm_042122_015.mzML                         NaN   \n",
       "3  Prj171:TQSm_042122_016.mzML                         NaN   \n",
       "4  Prj171:TQSm_042122_031.mzML                         NaN   \n",
       "\n",
       "  ms_raw_datas.data_category ms_raw_datas.data_format ms_raw_datas.data_type  \\\n",
       "0      targeted metabolomics                    .mzML          chromatograms   \n",
       "1      targeted metabolomics                    .mzML          chromatograms   \n",
       "2      targeted metabolomics                    .mzML          chromatograms   \n",
       "3      targeted metabolomics                    .mzML          chromatograms   \n",
       "4      targeted metabolomics                    .mzML          chromatograms   \n",
       "\n",
       "  ms_raw_datas.file_name  ms_raw_datas.file_size  \\\n",
       "0   TQSm_042122_022.mzML                 3490163   \n",
       "1   TQSm_042122_034.mzML                 3490426   \n",
       "2   TQSm_042122_015.mzML                 3490190   \n",
       "3   TQSm_042122_016.mzML                 3489881   \n",
       "4   TQSm_042122_031.mzML                 3490107   \n",
       "\n",
       "   ms_raw_datas.file_source_repository  ... ms_analyses.submitter_id  \\\n",
       "0                                  NaN  ...   Prj171:TQSm_042122_022   \n",
       "1                                  NaN  ...   Prj171:TQSm_042122_034   \n",
       "2                                  NaN  ...   Prj171:TQSm_042122_015   \n",
       "3                                  NaN  ...   Prj171:TQSm_042122_016   \n",
       "4                                  NaN  ...   Prj171:TQSm_042122_031   \n",
       "\n",
       "  ms_analyses.type         ms_analyses.project_id  analysis_protocols  \\\n",
       "0      ms_analysis  MyFirstProgram-MyFirstProject                 NaN   \n",
       "1      ms_analysis  MyFirstProgram-MyFirstProject                 NaN   \n",
       "2      ms_analysis  MyFirstProgram-MyFirstProject                 NaN   \n",
       "3      ms_analysis  MyFirstProgram-MyFirstProject                 NaN   \n",
       "4      ms_analysis  MyFirstProgram-MyFirstProject                 NaN   \n",
       "\n",
       "           normalization                          ms_analyses.provenance  \\\n",
       "0  normalized to protein  DataHarmonizer v1.4.10, mass_spec_assay v1.0.0   \n",
       "1  normalized to protein  DataHarmonizer v1.4.10, mass_spec_assay v1.0.0   \n",
       "2  normalized to protein  DataHarmonizer v1.4.10, mass_spec_assay v1.0.0   \n",
       "3  normalized to protein  DataHarmonizer v1.4.10, mass_spec_assay v1.0.0   \n",
       "4  normalized to protein  DataHarmonizer v1.4.10, mass_spec_assay v1.0.0   \n",
       "\n",
       "   transformation transformation_description transformation_purpose  \\\n",
       "0             NaN                        NaN                    NaN   \n",
       "1             NaN                        NaN                    NaN   \n",
       "2             NaN                        NaN                    NaN   \n",
       "3             NaN                        NaN                    NaN   \n",
       "4             NaN                        NaN                    NaN   \n",
       "\n",
       "                   unit  \n",
       "0  normalized peak area  \n",
       "1  normalized peak area  \n",
       "2  normalized peak area  \n",
       "3  normalized peak area  \n",
       "4  normalized peak area  \n",
       "\n",
       "[5 rows x 44 columns]"
      ]
     },
     "metadata": {},
     "output_type": "display_data"
    }
   ],
   "source": [
    "asssays_to_match = sample_df['mass_spec_assays.submitter_id'].unique()\n",
    "\n",
    "ms_raw_data_df = process.process_node_data('ms_raw_data', ['mass_spec_assays.submitter_id'], program='MyFirstProgram', project='MyFirstProject') \n",
    "ms_raw_data_df = ms_raw_data_df[ms_raw_data_df['mass_spec_assays.submitter_id'].isin(asssays_to_match)]\n",
    "ms_analysis_df = process.process_node_data('ms_analysis', ['ms_raw_datas.submitter_id'], program='MyFirstProgram', project='MyFirstProject') \n",
    "# ms_df = pd.merge(ms_raw_data_df, ms_analysis_df, left_on='submitter_id', right_on='ms_raw_datas.submitter_id')\n",
    "\n",
    "ms_analysed_data_df = process.process_node_data('ms_analysed_data', ['submitter_id', 'ms_analyses.submitter_id'], program='MyFirstProgram', project='MyFirstProject') \n",
    "# ms_df = pd.merge(ms_df, ms_analysed_data_df, left_on='ms_analyses.submitter_id', right_on='ms_analyses.submitter_id')\n",
    "\n",
    "dataframes = [('ms_raw_datas', ms_raw_data_df),('ms_analyses', ms_analysis_df), ('ms_analysed_datas', ms_analysed_data_df) ]\n",
    "ms_df = process.merge_dataframes(process.rename_overlapping(dataframes=dataframes))\n",
    "display(ms_df.head())"
   ]
  },
  {
   "cell_type": "markdown",
   "metadata": {},
   "source": [
    "<h1 align=\"center\">Build the mwTab File</h1> "
   ]
  },
  {
   "cell_type": "markdown",
   "metadata": {},
   "source": [
    "### Top-level \"keys\" in __mwTabFile__\n",
    "\n",
    "- 'METABOLOMICS WORKBENCH' \n",
    "- 'PROJECT'\n",
    "- 'STUDY'\n",
    "- 'SUBJECT'\n",
    "- 'SUBJECT_SAMPLE_FACTORS'\n",
    "- 'COLLECTION'\n",
    "- 'TREATMENT'\n",
    "- 'SAMPLEPREP'\n",
    "- 'CHROMATOGRAPHY'\n",
    "- 'ANALYSIS'\n",
    "- 'MS'\n",
    "- 'MS_METABOLITE_DATA'"
   ]
  },
  {
   "cell_type": "markdown",
   "metadata": {},
   "source": [
    "## Provide complete and descriptive summaries of the data"
   ]
  },
  {
   "cell_type": "code",
   "execution_count": 18,
   "metadata": {},
   "outputs": [],
   "source": [
    "project_summary = \"The aryl hydrocarbon receptor (AhR) is a transcription factor activated by structurally diverse chemicals, endogenous metabolites, and natural products. AhR activation causes the dissociation of chaperone proteins, followed by translocation to the nucleus and dimerization with the AhR nuclear translocator (ARNT). The complex binds dioxin response elements (DREs; 5’-GCGTG-3’) eliciting changes in gene expression. AhR activation by its most potent ligand 2,3,7,8-tetrachlorodibenzo-p-dioxin (TCDD) promotes the development and progression of non-alcoholic fatty liver disease (NAFLD). NAFLD is a spectrum of pathologies that spans simple, reversible, and benign lipid accumulation (hepatic steatosis), to steatosis with inflammation (steatohepatitis) and collagen deposition (fibrosis/cirrhosis) in the absence of excessive alcohol consumption. NAFLD prevalence is projected to increase from ~83 million in 2015 to ~101 million by 2030 in the US alone, while increasing the risk for more complex disorders including Metabolic Syndrome, cardiovascular disease, diabetes, cirrhosis, end-stage liver disease and hepatocellular carcinoma (HCC). The role of AhR-mediated metabolic dysregulation in hepatotoxicity and the etiology of more complex metabolic diseases warrants further investigation. Therofore, in this project on PND28 mice were orally gavaged at the start of the light cycle (zeitgeber [ZT] 0-1) with 0.1 ml sesame oil vehicle or 0.01, 0.03, 0.1, 0.3, 1, 3, 10, and 30 μg/kg body weight TCDD every 4 days for 28 days for a total of 7 treatments. The first gavage was administered on day 0, with the last gavage administered on day 24 of the 28-day study. On day 28, tissue samples were harvested (ZT 0-3), immediately flash frozen in liquid nitrogen and stored at -80°C until analysis.\"\n",
    "\n",
    "study_summary = \"In this study, we tested the hypothesis that the dose-dependent disruption of propionyl-CoA metabolism produces toxic intermediates that contribute to TCDD hepatotoxicity and progression of steatosis to steatohepatitis with fibrosis. Our results suggest TCDD dose-dependently reduced cobalamin (Cbl aka vitamin B12) levels compromising methylmalonyl-CoA mutase (MUT) activity and limiting the metabolism of propionyl-CoA to succinyl-CoA using the canonical Cbl-dependent carboxylation pathway. Consequently, accumulating propionyl-CoA was redirected to the alternate Cbl-independent β–oxidation-like pathway resulting in the dose-dependent accumulation of acrylyl-CoA, as indicated by the increase in S-(2-carboxyethyl)-L-cysteine, a conjugate produced following the spontaneous reaction between the sulfhydryl group of cysteine and highly reactive acrylyl-CoA.\""
   ]
  },
  {
   "cell_type": "markdown",
   "metadata": {},
   "source": [
    "## Create an empty mwTabFile object\n",
    "Look into another way to make an empty file or for a mechanism to ensure that we start with a completely blank object."
   ]
  },
  {
   "cell_type": "code",
   "execution_count": 19,
   "metadata": {},
   "outputs": [],
   "source": [
    "mwfiles_generator = mwtab.read_files(\"35\")\n",
    "mwfile = next(mwfiles_generator)"
   ]
  },
  {
   "cell_type": "code",
   "execution_count": 20,
   "metadata": {},
   "outputs": [],
   "source": [
    "for key in mwfile.keys():\n",
    "    mwfile[key] = OrderedDict()\n",
    "\n",
    "\n",
    "with open(\"empty_mwtab.txt\", \"w\") as outfile:\n",
    "\n",
    "    mwfile.write(outfile, file_format=\"mwtab\")"
   ]
  },
  {
   "cell_type": "code",
   "execution_count": 21,
   "metadata": {},
   "outputs": [
    {
     "data": {
      "text/plain": [
       "odict_keys(['Units', 'Data', 'Metabolites'])"
      ]
     },
     "execution_count": 21,
     "metadata": {},
     "output_type": "execute_result"
    }
   ],
   "source": [
    "keys = ['Units', 'Data', 'Metabolites']\n",
    "initial_values = [None] * len(keys)\n",
    "\n",
    "my_ordered_dict = OrderedDict(zip(keys, initial_values))\n",
    "\n",
    "mwfile[\"MS_METABOLITE_DATA\"] = my_ordered_dict\n",
    "\n",
    "mwfile[\"MS_METABOLITE_DATA\"].keys()"
   ]
  },
  {
   "cell_type": "markdown",
   "metadata": {},
   "source": [
    "## Build METABOLOMICS WORKBENCH block"
   ]
  },
  {
   "cell_type": "code",
   "execution_count": 22,
   "metadata": {},
   "outputs": [
    {
     "data": {
      "text/plain": [
       "OrderedDict([('VERSION', '1'), ('CREATED_ON', '2023-06-30')])"
      ]
     },
     "metadata": {},
     "output_type": "display_data"
    }
   ],
   "source": [
    "# For some reason the IDs don't change. Check this.\n",
    "json_data = {\n",
    "    \"VERSION\": \"1\",\n",
    "    \"CREATED_ON\": str(formatted_date)\n",
    "}\n",
    "\n",
    "ordered_dict = OrderedDict(json_data)\n",
    "\n",
    "mwfile['METABOLOMICS WORKBENCH'] = ordered_dict\n",
    "display(ordered_dict)"
   ]
  },
  {
   "cell_type": "markdown",
   "metadata": {},
   "source": [
    "## Build PROJECT block"
   ]
  },
  {
   "cell_type": "code",
   "execution_count": 23,
   "metadata": {},
   "outputs": [
    {
     "data": {
      "text/plain": [
       "OrderedDict([('PROJECT_TITLE', 'Prj171_Mm_TCDD_RDDR-28D_Male'),\n",
       "             ('PROJECT_TYPE', 'targeted metabolomics'),\n",
       "             ('PROJECT_SUMMARY',\n",
       "              'Male mice were treated with TCDD every 4 days for 28 days'),\n",
       "             ('INSTITUTE', 'Michigan State University'),\n",
       "             ('LAST_NAME', 'Zacharewski'),\n",
       "             ('FIRST_NAME', 'Timothy'),\n",
       "             ('DEPARTMENT', 'Biochemistry and Molecular Biology'),\n",
       "             ('ADDRESS', '48824:East Lansing'),\n",
       "             ('EMAIL', 'tzachare@msu.edu'),\n",
       "             ('PHONE', '517-884-2054'),\n",
       "             ('FUNDING_SOURCE',\n",
       "              'NIEHS; Superfund Basic Research Program R01ES029541:P42ES004911')])"
      ]
     },
     "metadata": {},
     "output_type": "display_data"
    }
   ],
   "source": [
    "json_data = {\n",
    "    \"PROJECT_TITLE\": process.get_unique_values(study_df, 'study_title'),\n",
    "    \"PROJECT_TYPE\": process.get_unique_values(sample_df, 'data_category'), \n",
    "    \"PROJECT_SUMMARY\": process.get_unique_values(study_df, 'study_description'),\n",
    "    \"INSTITUTE\": process.get_unique_values(study_df, 'contact_institution'),\n",
    "    \"LAST_NAME\": process.get_unique_values(study_df, 'last_name'),\n",
    "    \"FIRST_NAME\": process.get_unique_values(study_df, 'first_name'),\n",
    "    \"DEPARTMENT\": process.get_unique_values(study_df, 'contact_department'),\n",
    "    #\"LABORATORY\":\"dbzach.fst.msu.edu\",\n",
    "    \"ADDRESS\":process.get_unique_values(study_df, 'location'),\n",
    "    \"EMAIL\":process.get_unique_values(study_df, 'contact_email'),\n",
    "    \"PHONE\":process.get_unique_values(study_df, 'contact_telephone'),\n",
    "    \"FUNDING_SOURCE\": process.get_unique_values(study_df, 'support_source') + ' ' + process.get_unique_values(study_df, 'support_id')\n",
    "}\n",
    "\n",
    "mwfile['PROJECT'] = OrderedDict(json_data)\n",
    "display(OrderedDict(json_data))"
   ]
  },
  {
   "cell_type": "markdown",
   "metadata": {},
   "source": [
    "## Build STUDY block\n",
    "Most datasets just use the same data as Project. Here we may be able to do better."
   ]
  },
  {
   "cell_type": "code",
   "execution_count": 24,
   "metadata": {},
   "outputs": [],
   "source": [
    "# Subset the subjects for only those that have a matching MS assay\n",
    "ms_assay_df = process.process_node_data('mass_spec_assay', ['aliquots.submitter_id'], program='MyFirstProgram', project='MyFirstProject', fileformat='json', external_links=['aliquots'])\n",
    "aliquot_list = ms_assay_df['aliquots.submitter_id']\n",
    "subject_list = sample_df[sample_df['aliquots.submitter_id'].isin(aliquot_list)]['subjects.submitter_id']\n",
    "subject_subset = subject_df[subject_df['subjects.submitter_id'].isin(subject_list)]\n",
    "columns_to_include = ['subjects.submitter_id','sex','test_article_name', 'dose_amount']\n",
    "\n",
    "# Create a new DataFrame with only the specified columns\n",
    "selected_columns = columns_to_include\n",
    "subset_df = subject_subset[selected_columns].drop_duplicates()\n",
    "subset_df = subset_df.reset_index(drop=True)\n",
    "\n",
    "# Count the frequency of two values in the column\n",
    "value_counts = subset_df['sex'].value_counts()\n",
    "\n",
    "# Get the frequency of specific values\n",
    "female_count = value_counts.get('female', 0)\n",
    "male_count = value_counts.get('male', 0)\n",
    "groups = subset_df['dose_amount'].nunique()"
   ]
  },
  {
   "cell_type": "code",
   "execution_count": 25,
   "metadata": {},
   "outputs": [
    {
     "data": {
      "text/plain": [
       "OrderedDict([('STUDY_TITLE', 'Prj171_Mm_TCDD_RDDR-28D_Male'),\n",
       "             ('STUDY_TYPE', 'chromatograms'),\n",
       "             ('STUDY_SUMMARY',\n",
       "              'Male mice were treated with TCDD every 4 days for 28 days'),\n",
       "             ('INSTITUTE', 'Michigan State University'),\n",
       "             ('DEPARTMENT', 'Biochemistry and Molecular Biology'),\n",
       "             ('LAST_NAME', 'Zacharewski'),\n",
       "             ('FIRST_NAME', 'Timothy'),\n",
       "             ('ADDRESS', '48824:East Lansing'),\n",
       "             ('EMAIL', 'tzachare@msu.edu'),\n",
       "             ('PHONE', '517-884-2054'),\n",
       "             ('NUM_GROUPS', 6),\n",
       "             ('TOTAL_SUBJECTS', 30),\n",
       "             ('NUM_MALES', 30),\n",
       "             ('NUM_FEMALES', 0)])"
      ]
     },
     "metadata": {},
     "output_type": "display_data"
    }
   ],
   "source": [
    "json_data = { \n",
    "    \"STUDY_TITLE\": process.get_unique_values(study_df, 'study_title'),\n",
    "    \"STUDY_TYPE\": process.get_unique_values(sample_df, 'data_type'),\n",
    "    \"STUDY_SUMMARY\": process.get_unique_values(study_df, 'study_description'),\n",
    "    \"INSTITUTE\":process.get_unique_values(study_df, 'contact_institution'),\n",
    "    \"DEPARTMENT\":process.get_unique_values(study_df, 'contact_department'),\n",
    "    \"LAST_NAME\": process.get_unique_values(study_df, 'last_name'),\n",
    "    \"FIRST_NAME\": process.get_unique_values(study_df, 'first_name'),\n",
    "    \"ADDRESS\":process.get_unique_values(study_df, 'location'),\n",
    "    \"EMAIL\":process.get_unique_values(study_df, 'contact_email'),\n",
    "    \"PHONE\":process.get_unique_values(study_df, 'contact_telephone'),\n",
    "    \"NUM_GROUPS\":int(groups),\n",
    "    \"TOTAL_SUBJECTS\":int(len(process.get_unique_values(subset_df, 'subjects.submitter_id').split(','))),\n",
    "    \"NUM_MALES\":int(male_count),\n",
    "    \"NUM_FEMALES\":int(female_count)\n",
    "}\n",
    "\n",
    "\n",
    "# original dict\n",
    "ordered_dict = OrderedDict(json_data)\n",
    "\n",
    "# key transformation\n",
    "#renamed_dict = OrderedDict((key_mappings.get(key, key), value) for key, value in ordered_dict.items())\n",
    "\n",
    "mwfile['STUDY'] = ordered_dict\n",
    "display(ordered_dict)"
   ]
  },
  {
   "cell_type": "markdown",
   "metadata": {},
   "source": [
    "## Build SUBJECT block\n",
    "Each blocks are an `OrderedDict` class"
   ]
  },
  {
   "cell_type": "code",
   "execution_count": 26,
   "metadata": {},
   "outputs": [
    {
     "data": {
      "text/plain": [
       "OrderedDict([('SUBJECT_TYPE', 'Mammal'),\n",
       "             ('SUBJECT_SPECIES', 'Mus musculus'),\n",
       "             ('TAXONOMY_ID', '10090'),\n",
       "             ('SPECIES_GROUP', 'Mammal'),\n",
       "             ('AGE_OR_AGE_RANGE', '56'),\n",
       "             ('GENDER', 'male'),\n",
       "             ('ANIMAL_ANIMAL_SUPPLIER', 'Charles Rivers Laboratories'),\n",
       "             ('ANIMAL_HOUSING',\n",
       "              'cage_type: Innovive Innocage; bedding_type: ALPHA-dri'),\n",
       "             ('ANIMAL_LIGHT_CYCLE', '12:12'),\n",
       "             ('ANIMAL_FEED', 'Harlan Teklad 8940'),\n",
       "             ('ANIMAL_WATER', 'Innovive')])"
      ]
     },
     "metadata": {},
     "output_type": "display_data"
    }
   ],
   "source": [
    "# replace this with a gen3 query\n",
    "json_data = {\n",
    "    \"SUBJECT_TYPE\": \"Mammal\",  #*dropdown\n",
    "    \"SUBJECT_SPECIES\": process.get_unique_values(study_df, 'organism'),\n",
    "    \"TAXONOMY_ID\":\"10090\", \n",
    "    \"SPECIES_GROUP\": \"Mammal\",\n",
    "    \"AGE_OR_AGE_RANGE\": process.get_unique_values(subject_df, 'age'),\n",
    "    \"GENDER\": process.get_unique_values(subject_df, 'sex'),\n",
    "    \"ANIMAL_ANIMAL_SUPPLIER\": process.get_unique_values(subject_df, 'strain_source'),\n",
    "    \"ANIMAL_HOUSING\": 'cage_type: ' + \n",
    "                        process.get_unique_values(subject_df, 'cage_type') + \n",
    "                        '; bedding_type: ' + \n",
    "                        process.get_unique_values(subject_df, 'bedding_type'),\n",
    "    \"ANIMAL_LIGHT_CYCLE\":process.get_unique_values(subject_df, 'vivarium_light_cycle'),\n",
    "    \"ANIMAL_FEED\":process.get_unique_values(subject_df, 'feed_name'),\n",
    "    \"ANIMAL_WATER\":process.get_unique_values(subject_df, 'water_type')\n",
    "}\n",
    "\n",
    "# original dict\n",
    "ordered_dict = OrderedDict(json_data)\n",
    "\n",
    "mwfile['SUBJECT'] = ordered_dict\n",
    "display(ordered_dict)"
   ]
  },
  {
   "cell_type": "markdown",
   "metadata": {},
   "source": [
    "## Build SUBJECT_SAMPLE_FACTORS block\n",
    "Each blocks are an `OrderedDict` class"
   ]
  },
  {
   "cell_type": "code",
   "execution_count": 27,
   "metadata": {
    "scrolled": false
   },
   "outputs": [
    {
     "data": {
      "text/plain": [
       "[OrderedDict([('Subject ID', 'M83'),\n",
       "              ('Sample ID', 'TQSm_042122_016'),\n",
       "              ('Factors',\n",
       "               {'test_article_name': 'TCDD',\n",
       "                'dose_group': '0.3 microgram per kilogram'}),\n",
       "              ('Additional sample data',\n",
       "               {'RAW_FILE_NAME': 'TQSm_042122_016.mzML'})]),\n",
       " OrderedDict([('Subject ID', 'M113'),\n",
       "              ('Sample ID', 'TQSm_042122_028'),\n",
       "              ('Factors',\n",
       "               {'test_article_name': 'TCDD',\n",
       "                'dose_group': '3.0 microgram per kilogram'}),\n",
       "              ('Additional sample data',\n",
       "               {'RAW_FILE_NAME': 'TQSm_042122_028.mzML'})])]"
      ]
     },
     "metadata": {},
     "output_type": "display_data"
    }
   ],
   "source": [
    "subject_subset = subject_df[['subjects.submitter_id', 'dose_amount', 'dose_amount_unit', 'test_article_name']].drop_duplicates()\n",
    "\n",
    "subject_subset['dose_group'] = subject_subset['dose_amount'].astype(str) + ' ' + subject_subset['dose_amount_unit'].astype(str)\n",
    "\n",
    "sample_subset = sample_df[['subjects.submitter_id', 'ms_raw_datas.submitter_id', 'file_name']].drop_duplicates()\n",
    "\n",
    "json_SUBJECT_SAMPLE_FACTORS = []\n",
    "\n",
    "for index, row in sample_subset.iterrows():\n",
    "    subject_sample = {}\n",
    "    subject_sample.update({'Subject ID': row['subjects.submitter_id'].split(\":\")[-1].strip()})\n",
    "    subject_sample.update({'Sample ID': row['ms_raw_datas.submitter_id'].split(\":\")[-1].strip().split(\".\")[0].strip()})\n",
    "    factors = subject_subset[subject_subset['subjects.submitter_id'] == row['subjects.submitter_id']]\n",
    "    factor_vals = {}\n",
    "    for _, row_factors in factors.iterrows():\n",
    "        for f in row_factors.index:\n",
    "            if f not in ['subjects.submitter_id', 'dose_amount', 'dose_amount_unit']:\n",
    "                factor_vals.update({f: row_factors[f]})\n",
    "    subject_sample.update({'Factors':factor_vals})\n",
    "    subject_sample.update({'Additional sample data': {\"RAW_FILE_NAME\": row['file_name'].replace('.raw', '.mzML')}})\n",
    "    if subject_sample:\n",
    "        json_SUBJECT_SAMPLE_FACTORS.append(OrderedDict(subject_sample)) \n",
    "\n",
    "mwfile['SUBJECT_SAMPLE_FACTORS'] = json_SUBJECT_SAMPLE_FACTORS\n",
    "display(json_SUBJECT_SAMPLE_FACTORS[:2])"
   ]
  },
  {
   "cell_type": "markdown",
   "metadata": {},
   "source": [
    "## Build COLLECTION block\n",
    "Each blocks are an `OrderedDict` class"
   ]
  },
  {
   "cell_type": "code",
   "execution_count": 28,
   "metadata": {},
   "outputs": [
    {
     "data": {
      "text/plain": [
       "OrderedDict([('COLLECTION_SUMMARY',\n",
       "              'Samples were collected by necropsy and flash frozen in liquid nitrogren'),\n",
       "             ('SAMPLE_TYPE', 'Liver'),\n",
       "             ('STORAGE_CONDITIONS', 'Snap Frozen')])"
      ]
     },
     "metadata": {},
     "output_type": "display_data"
    }
   ],
   "source": [
    "json_data = {\n",
    "    #COLLECTION_SUMMARY\": get_unique_values(sample_df, 'method_of_sample_procurement'),\n",
    "    \"COLLECTION_SUMMARY\": 'Samples were collected by necropsy and flash frozen in liquid nitrogren',\n",
    "    #\"COLLECTION_PROTOCOL_ID\": ,\n",
    "    #\"COLLECTION_PROTOCOL_FILENAME\": ,\n",
    "    #\"COLLECTION_PROTOCOL_COMMENTS\": ,\n",
    "    \"SAMPLE_TYPE\": process.get_unique_values(sample_df, 'biospecimen_anatomic_site'), \n",
    "    #\"COLLECTION_METHOD\": ,\n",
    "    #\"COLLECTION_LOCATION\": ,\n",
    "    #\"COLLECTION_DURATION\": ,\n",
    "    #\"COLLECTION_FREQUENCY\": ,\n",
    "    \"STORAGE_CONDITIONS\":process.get_unique_values(sample_df, 'preservation_method'),\n",
    "    #\"STORAGE_VIALS\": \"Tube type\",\n",
    "    #\"COLLECTION_TUBE_TEMP\":\"Tube storage\",\n",
    "}\n",
    "\n",
    "# original dict\n",
    "ordered_dict = OrderedDict(json_data)\n",
    "\n",
    "mwfile['COLLECTION'] = ordered_dict\n",
    "display(ordered_dict)"
   ]
  },
  {
   "cell_type": "markdown",
   "metadata": {},
   "source": [
    "## Build TREATMENT block\n",
    "Each blocks are an `OrderedDict` class"
   ]
  },
  {
   "cell_type": "code",
   "execution_count": 29,
   "metadata": {},
   "outputs": [
    {
     "data": {
      "text/plain": [
       "OrderedDict([('TREATMENT_SUMMARY',\n",
       "              'Mice were orally gavaged with 0.1 mL of the test article in vehicle to achieve the expected dosage every 4 days for 28 days for a total of 7 administrations.'),\n",
       "             ('TREATMENT_COMPOUND', 'DTXSID4051378: TCDD'),\n",
       "             ('TREATMENT_ROUTE', 'Oral Gavage Route of Administration'),\n",
       "             ('TREATMENT_DOSE',\n",
       "              \"['0.0', '0.03', '0.1', '0.3', '1.0', '10.0', '3.0', '30.0']\"),\n",
       "             ('TREATMENT_DOSEVOLUME', '0.1 mL'),\n",
       "             ('TREATMENT_VEHICLE', 'DTXSID9033971: Sesame Oil'),\n",
       "             ('ANIMAL_FASTING', 'ad libitum'),\n",
       "             ('ANIMAL_ENDP_EUTHANASIA', 'Carbon dioxide asphyxiation'),\n",
       "             ('ANIMAL_ENDP_TISSUE_COLL_LIST', 'Liver')])"
      ]
     },
     "metadata": {},
     "output_type": "display_data"
    }
   ],
   "source": [
    "# replace this with a gen3 query\n",
    "json_data = {\n",
    "    #\"TREATMENT_SUMMARY\": get_unique_values(subject_df, 'treatment_protocol'),\n",
    "    \"TREATMENT_SUMMARY\": \"Mice were orally gavaged with 0.1 mL of the test article in vehicle to achieve the expected dosage every 4 days for 28 days for a total of 7 administrations.\",\n",
    "    #\"TREATMENT_PROTOCOL_ID\":,\n",
    "    #\"TREATMENT_PROTOCOL_FILENAME\":,\n",
    "    #\"TREATMENT_PROTOCOL_COMMENTS\":,\n",
    "    #\"TREATMENT\":,\n",
    "    \"TREATMENT_COMPOUND\": process.get_unique_values(subject_df, 'test_article_dtxsid') + ': ' + process.get_unique_values(subject_df, 'test_article_name'),\n",
    "    \"TREATMENT_ROUTE\":process.get_unique_values(subject_df, 'route'),\n",
    "    \"TREATMENT_DOSE\":str(sorted(process.get_unique_values(subject_df, 'dose_amount').split(','))),\n",
    "    \"TREATMENT_DOSEVOLUME\": process.get_unique_values(subject_df, 'administration_volume_ml') + ' ' + 'mL',\n",
    "    \"TREATMENT_VEHICLE\":process.get_unique_values(subject_df, 'vehicle_dtxsid') + ': ' + process.get_unique_values(subject_df, 'vehicle_name'),\n",
    "    #\"ANIMAL_VET_TREATMENTS\":,\n",
    "    #\"ANIMAL_ANESTHESIA\":,\n",
    "    #\"ANIMAL_ACCLIMATION_DURATION\":,\n",
    "    \"ANIMAL_FASTING\":process.get_unique_values(subject_df, 'feed_paradigm'),\n",
    "    \"ANIMAL_ENDP_EUTHANASIA\":process.get_unique_values(subject_df, 'euthanasia_method'),\n",
    "    \"ANIMAL_ENDP_TISSUE_COLL_LIST\":process.get_unique_values(sample_df, 'biospecimen_anatomic_site')\n",
    "    #\"ANIMAL_ENDP_TISSUE_PROC_METHOD\":get_unique_values(sample_df, 'method_of_sample_procurement')\n",
    "}\n",
    "\n",
    "# original dict\n",
    "ordered_dict = OrderedDict(json_data)\n",
    "\n",
    "mwfile['TREATMENT'] = ordered_dict\n",
    "display(ordered_dict)"
   ]
  },
  {
   "cell_type": "markdown",
   "metadata": {},
   "source": [
    "## Build SAMPLEPREP block\n",
    "Each blocks are an `OrderedDict` class"
   ]
  },
  {
   "cell_type": "code",
   "execution_count": 30,
   "metadata": {},
   "outputs": [
    {
     "data": {
      "text/plain": [
       "OrderedDict([('SAMPLEPREP_SUMMARY',\n",
       "              'Flash frozen liver samples (about 25 mg) were extracted using HPLC-grade methanol and water (5:3 ratio)containing 13C-,15N-labeled amino acid (Sigma; 767964) internal standards. HPLC-grade chloroform (methanol:water:chloroform ratio 5:3:5) was added, vortexed, shaken for 15 min at 4 Celsius, and centrifuged at maximum speed (3000 x g) to achieve phase separation. The methanol:water phase containing the polar metabolites was transferred, dried under nitrogen gas at room temperature. Untargeted extractions were reconstituted with 400 ul of 10 mM tributylamine and 15 mM acetic acid in 97:3 water:methanol for analysis.'),\n",
       "             ('PROCESSING_STORAGE_CONDITIONS', '-80C'),\n",
       "             ('SAMPLE_SPIKING', '13C,15N-methionine')])"
      ]
     },
     "metadata": {},
     "output_type": "display_data"
    }
   ],
   "source": [
    "# replace this with a gen3 query\n",
    "\n",
    "tmp_string = (\"Flash frozen liver samples (about 25 mg) were extracted using HPLC-grade methanol and water (5:3 ratio)\"\n",
    "    \"containing 13C-,15N-labeled amino acid (Sigma; 767964) internal standards. HPLC-grade chloroform (methanol:water:chloroform \"    \n",
    "    \"ratio 5:3:5) was added, vortexed, shaken for 15 min at 4 Celsius, and centrifuged at maximum speed (3000 x g) to achieve \"\n",
    "    \"phase separation. The methanol:water phase containing the polar metabolites was transferred, dried under nitrogen gas at \"\n",
    "    \"room temperature. Untargeted extractions were reconstituted with 400 ul of 10 mM tributylamine and 15 mM acetic acid in \"\n",
    "    \"97:3 water:methanol for analysis.\")\n",
    "\n",
    "json_data = {\n",
    "    #\"SAMPLEPREP_SUMMARY\": get_unique_values(sample_df, 'analyte_protocol'),\n",
    "    \"SAMPLEPREP_SUMMARY\": tmp_string,\n",
    "    \"PROCESSING_STORAGE_CONDITIONS\": process.get_unique_values(sample_df, 'extract_preservation_method'),\n",
    "    #\"SAMPLEPREP_PROTOCOL_ID\":\"protid\",\n",
    "    #\"SAMPLEPREP_PROTOCOL_FILENAME\":\"protfile\",\n",
    "    #\"SAMPLEPREP_PROTOCOL_COMMENTS\":\"procomm\",\n",
    "    #\"PROCESSING_METHOD\":\"procmethod\",\n",
    "    #\"PROCESSING_STORAGE_CONDITIONS\":\"80\",\n",
    "    #\"EXTRACTION_METHOD\":\"extmethod\",\n",
    "    #\"EXTRACT_CONCENTRATION_DILUTION\":\"dilution\",\n",
    "    #\"EXTRACT_ENRICHMENT\":\"enrch\",\n",
    "    #\"EXTRACT_CLEANUP\":\"clean\",\n",
    "    #\"EXTRACT_STORAGE\":\"-80\",\n",
    "    #\"SAMPLE_RESUSPENSION\":\"resyus\",\n",
    "    \"SAMPLE_DERIVATIZATION\":process.get_unique_values(sample_df, 'derivitization'),\n",
    "    \"SAMPLE_SPIKING\":process.get_unique_values(sample_df, 'calibration_standard')\n",
    "    #\"SUBCELLULAR_LOCATION\":\"subcell loc\",\n",
    "}\n",
    "\n",
    "json_data = {k: v for k, v in json_data.items() if v != 'nan'}\n",
    "\n",
    "# original dict\n",
    "ordered_dict = OrderedDict(json_data)\n",
    "\n",
    "mwfile['SAMPLEPREP'] = ordered_dict\n",
    "display(ordered_dict)"
   ]
  },
  {
   "cell_type": "markdown",
   "metadata": {},
   "source": [
    "## Build CHROMATOGRAPHY block\n",
    "Each blocks are an `OrderedDict` class"
   ]
  },
  {
   "cell_type": "code",
   "execution_count": 31,
   "metadata": {},
   "outputs": [
    {
     "data": {
      "text/plain": [
       "OrderedDict([('CHROMATOGRAPHY_SUMMARY',\n",
       "              'The mobile phases were 10mM PFHA in water (mobile phase A) and acetonitrile (mobile phase B) using the following gradient: 0 min - 100% A, 1.0 min - 100% A, 6.0 min - 35% A, 6.01 min - 10% A, 7.0 min - 10% A, 7.01 min - 100% A, 9.0 min - 100% A'),\n",
       "             ('CHROMATOGRAPHY_TYPE', 'Reversed phase'),\n",
       "             ('INSTRUMENT_NAME', 'Waters TQS'),\n",
       "             ('COLUMN_NAME', 'Waters ACQUITY UPLC HSS T3 (100 x 2.1mm,1.8um)'),\n",
       "             ('SOLVENT_A', '100% water; ; 10mM perfluoroheptanoic acid'),\n",
       "             ('SOLVENT_B', '100% acetonitrile; ;'),\n",
       "             ('FLOW_GRADIENT',\n",
       "              '0 min - 100% A, 1.0 min - 100% A, 6.0 min - 35% A, 6.01 min - 10% A, 7.0 min - 10% A, 7.01 min - 100% A, 9.0 min - 100% A'),\n",
       "             ('FLOW_RATE', '0.3 ml/minute')])"
      ]
     },
     "metadata": {},
     "output_type": "display_data"
    }
   ],
   "source": [
    "# replace this with a gen3 query\n",
    "json_data = {\n",
    "    \"CHROMATOGRAPHY_SUMMARY\": process.get_unique_values(ms_assay_df, 'chromatography_protocol'),\n",
    "    \"CHROMATOGRAPHY_TYPE\": process.get_unique_values(ms_assay_df, 'chromatography_type'),\n",
    "    \"INSTRUMENT_NAME\": process.get_unique_values(ms_assay_df, 'chromatography_instrument'),\n",
    "    \"COLUMN_NAME\": process.get_unique_values(ms_assay_df, 'chromatography_column'),\n",
    "    \"SOLVENT_A\": process.get_unique_values(ms_assay_df, 'solventA'),\n",
    "    \"SOLVENT_B\": process.get_unique_values(ms_assay_df, 'solventB'),\n",
    "    \"SOLVENT_C\": process.get_unique_values(ms_assay_df, 'solventC'),\n",
    "    \"FLOW_GRADIENT\": process.get_unique_values(ms_assay_df, 'elution_program'),\n",
    "    \"FLOW_RATE\":process.get_unique_values(ms_assay_df, 'flow_rate'),\n",
    "    #\"COLUMN_TEMPERATURE\":\"376\",\n",
    "    \"METHODS_FILENAME\":process.get_unique_values(ms_assay_df, 'chromatography_method_filename')\n",
    "    #\"METHODS_ID\":\"id\",\n",
    "    #\"COLUMN_PRESSURE\":\"colpress\",\n",
    "    #\"INJECTION_TEMPERATURE\":\"injtemp\"\n",
    "}\n",
    "json_data = {key: value for key, value in json_data.items() if value != 'nan'}\n",
    "# original dict\n",
    "ordered_dict = OrderedDict(json_data)\n",
    "\n",
    "mwfile['CHROMATOGRAPHY'] = ordered_dict\n",
    "display(ordered_dict)"
   ]
  },
  {
   "cell_type": "markdown",
   "metadata": {},
   "source": [
    "## Build ANALYSIS block\n",
    "Each blocks are an `OrderedDict` class"
   ]
  },
  {
   "cell_type": "code",
   "execution_count": 32,
   "metadata": {},
   "outputs": [
    {
     "data": {
      "text/plain": [
       "OrderedDict([('ANALYSIS_TYPE', 'MS')])"
      ]
     },
     "metadata": {},
     "output_type": "display_data"
    }
   ],
   "source": [
    "# replace this with a gen3 query\n",
    "json_data = {\n",
    "    \"ANALYSIS_TYPE\": \"MS\"\n",
    "}\n",
    "\n",
    "# original dict\n",
    "ordered_dict = OrderedDict(json_data)\n",
    "\n",
    "mwfile['ANALYSIS'] = ordered_dict\n",
    "display(ordered_dict)"
   ]
  },
  {
   "cell_type": "markdown",
   "metadata": {},
   "source": [
    "## Build MS block\n",
    "Each blocks are an `OrderedDict` class"
   ]
  },
  {
   "cell_type": "code",
   "execution_count": 33,
   "metadata": {},
   "outputs": [
    {
     "data": {
      "text/plain": [
       "OrderedDict([('INSTRUMENT_NAME', 'Waters Xevo-TQ-S'),\n",
       "             ('INSTRUMENT_TYPE', 'Triple quadrupole'),\n",
       "             ('MS_TYPE', 'ESI'),\n",
       "             ('ION_MODE', 'POSITIVE'),\n",
       "             ('MS_COMMENTS', 'protocol')])"
      ]
     },
     "metadata": {},
     "output_type": "display_data"
    }
   ],
   "source": [
    "# replace this with a gen3 query\n",
    "json_data = {\n",
    "    \"INSTRUMENT_NAME\": \"Waters Xevo-TQ-S\", \n",
    "    \"INSTRUMENT_TYPE\": \"Triple quadrupole\",\n",
    "    \"MS_TYPE\": process.get_unique_values(ms_assay_df, 'ms_type'),\n",
    "    \"ION_MODE\": process.get_unique_values(ms_assay_df, 'ion_mode'),\n",
    "    \"MS_COMMENTS\": \"protocol\"\n",
    "}\n",
    "\n",
    "# original dict\n",
    "ordered_dict = OrderedDict(json_data)\n",
    "\n",
    "mwfile['MS'] = ordered_dict\n",
    "display(ordered_dict)"
   ]
  },
  {
   "cell_type": "markdown",
   "metadata": {},
   "source": [
    "## Build MS_METABOLITE_DATA block\n",
    "\n",
    "#### The following block use hard-coded file paths until ToxDataCommons implements S3 buckets."
   ]
  },
  {
   "cell_type": "code",
   "execution_count": 34,
   "metadata": {},
   "outputs": [],
   "source": [
    "mwfile[\"MS_METABOLITE_DATA\"][\"Units\"] = 'normalized peak area'"
   ]
  },
  {
   "cell_type": "code",
   "execution_count": 36,
   "metadata": {},
   "outputs": [
    {
     "name": "stdout",
     "output_type": "stream",
     "text": [
      ": S-(2-carboxyethyl)-L-cysteine\n",
      "TQSm_042122_010: 0.000868122\n",
      "TQSm_042122_011: 0.000620638\n",
      "TQSm_042122_012: 0.000915673\n"
     ]
    }
   ],
   "source": [
    "file_path = '/Volumes/Zacharewski/ToxDataCommons/PRJ171/DataFiles/CEC_normalized_peak_area.txt'\n",
    "\n",
    "# Read the tab-delimited file\n",
    "with open(file_path, 'r', newline='') as file:\n",
    "    reader = csv.reader(file, delimiter='\\t')\n",
    "    # Extract the keys from the first row\n",
    "    keys = next(reader)\n",
    "\n",
    "    # Create a list of OrderedDict objects\n",
    "    metabolite_data = [\n",
    "        OrderedDict(zip(keys, row)) for row in reader\n",
    "    ]\n",
    "\n",
    "mwfile['MS_METABOLITE_DATA']['Data'] = metabolite_data\n",
    "# Print the first four key-value pairs\n",
    "for key, value in list(metabolite_data[0].items())[:4]:\n",
    "    print(f\"{key}: {value}\")"
   ]
  },
  {
   "cell_type": "code",
   "execution_count": 37,
   "metadata": {},
   "outputs": [],
   "source": [
    "ms_analysed_data_id = [\"Prj171:CEC_normalized_peak_area.txt\"]\n",
    "exclude_list = [process.get_unique_values(ms_assay_df, 'calibration_standard')]\n",
    "\n",
    "# METABOLITE_ID NODE\n",
    "metabolite_df = process.process_node_data('metabolite_id', ['ms_analysed_datas.submitter_id'], program='MyFirstProgram', project='MyFirstProject')\n",
    "metabolite_df = metabolite_df[(metabolite_df['ms_analysed_datas.submitter_id'].isin(ms_analysed_data_id)) &\n",
    "                            (~metabolite_df['metabolite_name'].isin(exclude_list))]\n",
    "\n"
   ]
  },
  {
   "cell_type": "code",
   "execution_count": 38,
   "metadata": {},
   "outputs": [
    {
     "data": {
      "text/plain": [
       "[OrderedDict([('Metabolite', 'S-(2-carboxyethyl)-L-cysteine'),\n",
       "              ('DTXSID', 'DTXSID40193329'),\n",
       "              ('InChI',\n",
       "               'InChI=1S/C6H11NO4S/c7-4(6(10)11)3-12-2-1-5(8)9/h4H,1-3,7H2,(H,8,9)(H,10,11)/t4-/m0/s1'),\n",
       "              ('Average Mass', '193.22'),\n",
       "              ('elution_time', '2.6')])]"
      ]
     },
     "metadata": {},
     "output_type": "display_data"
    }
   ],
   "source": [
    "json_data = []\n",
    "\n",
    "for _, row in metabolite_df.iterrows():\n",
    "    js = {\n",
    "        \"Metabolite\": row['metabolite_name'],\n",
    "        \"DTXSID\": row['dtxsid'],\n",
    "        \"InChI\": 'InChI=' + row['inchikey'],\n",
    "        \"Average Mass\": str(row['mass']),\n",
    "        \"elution_time\": str(row['elution_time'])\n",
    "    }\n",
    "    json_data.append(OrderedDict(js))\n",
    "\n",
    "mwfile[\"MS_METABOLITE_DATA\"][\"Metabolites\"] = json_data\n",
    "display(json_data)"
   ]
  },
  {
   "cell_type": "markdown",
   "metadata": {},
   "source": [
    "## Export the file"
   ]
  },
  {
   "cell_type": "code",
   "execution_count": 39,
   "metadata": {},
   "outputs": [],
   "source": [
    "from mwtab.converter import Converter\n",
    "\n",
    "with open(\"temp_mwtab.json\", \"w\") as outfile:\n",
    "    mwfile.write(outfile, file_format=\"json\")\n",
    "\n",
    "converter = Converter(from_path=\"temp_mwtab.json\", to_path=\"temp_mwtab.txt\",\n",
    "                      from_format=\"json\", to_format=\"mwtab\")\n",
    "converter.convert()"
   ]
  },
  {
   "cell_type": "markdown",
   "metadata": {},
   "source": [
    "# Validate & upload your mwTab file"
   ]
  },
  {
   "cell_type": "markdown",
   "metadata": {},
   "source": [
    "## Validation\n",
    "\n",
    "mwTab files can be validated using the python mwTab command line (doesn't work??) or the [online validator](https://www.metabolomicsworkbench.org/data/mwtab_validate_form.php)"
   ]
  },
  {
   "cell_type": "code",
   "execution_count": 40,
   "metadata": {},
   "outputs": [
    {
     "name": "stdout",
     "output_type": "stream",
     "text": [
      "Processed file: /Users/apple/toxdatacommons/example_notebooks/temp_mwtab.txt\n",
      "Validation Log\n",
      "2023-06-30 10:11:31.746922\n",
      "mwtab Python Library Version: 1.2.5\n",
      "Source:        temp_mwtab.txt\n",
      "Study ID:      None\n",
      "Analysis ID:   None\n",
      "File format:   txt\n",
      "Status: Contains Validation Errors\n",
      "Number Errors: 1\n",
      "\n",
      "Error Log:\n",
      "METABOLITES: Data entry #1 contains field name \"InChI\" which matches a commonly used field name \"inchi_key\".\n"
     ]
    }
   ],
   "source": [
    "! mwtab validate temp_mwtab.txt --verbose"
   ]
  },
  {
   "cell_type": "markdown",
   "metadata": {},
   "source": [
    "# Upload to the metabolomic workbench ftp server\n",
    "\n",
    "- Compress your folder containing mwTab and associated files (.zip or .7z)\n",
    "- Log into [metabolomic workbench](metabolomicsworkbench.org)\n",
    "- Find the NMDR FTP information. It will have the following:\n",
    "    __Server name__:\n",
    "    __User name__:\n",
    "    __Password__:\n",
    "- Connect to the FTP server using a tool such as _FileZilla_ or _WinSCP_ and upload the data"
   ]
  },
  {
   "cell_type": "code",
   "execution_count": null,
   "metadata": {},
   "outputs": [],
   "source": []
  }
 ],
 "metadata": {
  "kernelspec": {
   "display_name": "Python 3",
   "language": "python",
   "name": "python3"
  },
  "language_info": {
   "codemirror_mode": {
    "name": "ipython",
    "version": 3
   },
   "file_extension": ".py",
   "mimetype": "text/x-python",
   "name": "python",
   "nbconvert_exporter": "python",
   "pygments_lexer": "ipython3",
   "version": "3.9.16"
  }
 },
 "nbformat": 4,
 "nbformat_minor": 4
}
