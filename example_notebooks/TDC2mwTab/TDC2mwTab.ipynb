{
 "cells": [
  {
   "cell_type": "markdown",
   "metadata": {},
   "source": [
    "<h1 align=\"center\">ToxDataCommons to mwTab</h1> \n",
    "\n",
    "This Jupyter notebook demonstrates how to export data from [ToxDataCommons](fairtox.com) in order to deposit mass spectrometry data to the [Metabolomics Workbench](metabolomicsworkbench.org). \n",
    "\n",
    "__Created by: Rance Nault, Michigan State University__\n",
    "\n",
    "-------"
   ]
  },
  {
   "cell_type": "markdown",
   "metadata": {},
   "source": [
    "## Load packages\n",
    "Import the mwtab python package. See https://github.com/MoseleyBioinformaticsLab/mwtab for installation instructions and documentation"
   ]
  },
  {
   "cell_type": "code",
   "execution_count": 163,
   "metadata": {},
   "outputs": [],
   "source": [
    "import os\n",
    "import sys\n",
    "import csv\n",
    "import gen3\n",
    "import json\n",
    "import mwtab\n",
    "import warnings\n",
    "import pandas as pd\n",
    "import matplotlib.pyplot as plt\n",
    "\n",
    "from io import StringIO\n",
    "from datetime import datetime\n",
    "from collections import OrderedDict\n",
    "from expansion import Gen3Expansion # https://raw.githubusercontent.com/cgmeyer/gen3sdk-python/master/expansion/expansion.py\n",
    "\n",
    "from gen3.auth import Gen3Auth\n",
    "from gen3.index import Gen3Index\n",
    "from gen3.query import Gen3Query\n",
    "\n",
    "from gen3.submission import Gen3Submission\n",
    "\n",
    "current_date = datetime.now().date()\n",
    "formatted_date = current_date.strftime('%Y-%m-%d')\n",
    "\n",
    "warnings.filterwarnings(\"ignore\", category=UserWarning)"
   ]
  },
  {
   "cell_type": "code",
   "execution_count": 164,
   "metadata": {},
   "outputs": [],
   "source": [
    "def process_node_data(node_name, data, key):\n",
    "    node_df = pd.read_csv(StringIO(data), sep='\\t', header=0)\n",
    "    node_df[key] = node_df[key].str.split(',')\n",
    "    node_df = node_df.explode(key)\n",
    "    pattern = r'(^|\\.)id($|\\.)'\n",
    "    drop_columns = [col for col in node_df.columns if pd.Series(col).str.contains(pattern).any()]\n",
    "    node_df = node_df.drop(drop_columns, axis=1)\n",
    "    node_df = node_df.reset_index(drop=True)\n",
    "    return node_df\n",
    "\n",
    "def get_unique_values(dataframe, column_name):\n",
    "    unique_values = dataframe[column_name].unique()\n",
    "    unique_string = ','.join(map(str, unique_values))\n",
    "    return unique_string\n",
    "\n",
    "def remove_newlines(obj):\n",
    "    if isinstance(obj, dict):\n",
    "        return {key: remove_newlines(value) for key, value in obj.items()}\n",
    "    elif isinstance(obj, list):\n",
    "        return [remove_newlines(element) for element in obj]\n",
    "    elif isinstance(obj, str):\n",
    "        return obj.replace('\\n', '').replace('\\r', '')\n",
    "    else:\n",
    "        return obj"
   ]
  },
  {
   "cell_type": "code",
   "execution_count": 165,
   "metadata": {},
   "outputs": [
    {
     "name": "stdout",
     "output_type": "stream",
     "text": [
      "Getting all project_ids you have access to in the data commons.\n",
      "['MyFirstProgram-MyFirstProject']\n"
     ]
    },
    {
     "data": {
      "text/plain": [
       "['MyFirstProgram-MyFirstProject']"
      ]
     },
     "execution_count": 165,
     "metadata": {},
     "output_type": "execute_result"
    }
   ],
   "source": [
    "# Initiate instances of the Gen3 SDK Classes using credentials file for authentication.\n",
    "# Change the directory path in \"cred\" to reflect the location of your credentials file.\n",
    "api = \"https://fairtox.com\"\n",
    "cred = \"credentials.json\"\n",
    "auth = Gen3Auth(api, refresh_file=cred) # authentication class\n",
    "sub = Gen3Submission(api, auth) # submission class\n",
    "query = Gen3Query(auth) # query class\n",
    "exp = Gen3Expansion(api,auth,sub) # class with some custom scripts\n",
    "exp.get_project_ids()"
   ]
  },
  {
   "cell_type": "markdown",
   "metadata": {},
   "source": [
    "<h1 align=\"center\">Obtain project data from <i>ToxDataCommons</i></h1> "
   ]
  },
  {
   "cell_type": "markdown",
   "metadata": {},
   "source": [
    "<h2 align=\"center\">Study details</h2> "
   ]
  },
  {
   "cell_type": "code",
   "execution_count": 166,
   "metadata": {},
   "outputs": [
    {
     "data": {
      "text/html": [
       "<div>\n",
       "<style scoped>\n",
       "    .dataframe tbody tr th:only-of-type {\n",
       "        vertical-align: middle;\n",
       "    }\n",
       "\n",
       "    .dataframe tbody tr th {\n",
       "        vertical-align: top;\n",
       "    }\n",
       "\n",
       "    .dataframe thead th {\n",
       "        text-align: right;\n",
       "    }\n",
       "</style>\n",
       "<table border=\"1\" class=\"dataframe\">\n",
       "  <thead>\n",
       "    <tr style=\"text-align: right;\">\n",
       "      <th></th>\n",
       "      <th>type_x</th>\n",
       "      <th>project_id_x</th>\n",
       "      <th>submitter_id_x</th>\n",
       "      <th>experimental_setting</th>\n",
       "      <th>organism</th>\n",
       "      <th>provenance_x</th>\n",
       "      <th>study_description</th>\n",
       "      <th>study_design</th>\n",
       "      <th>study_title</th>\n",
       "      <th>study_type</th>\n",
       "      <th>...</th>\n",
       "      <th>middle_name</th>\n",
       "      <th>provenance_y</th>\n",
       "      <th>studies.submitter_id_x</th>\n",
       "      <th>type</th>\n",
       "      <th>project_id</th>\n",
       "      <th>submitter_id</th>\n",
       "      <th>provenance</th>\n",
       "      <th>support_id</th>\n",
       "      <th>support_source</th>\n",
       "      <th>studies.submitter_id_y</th>\n",
       "    </tr>\n",
       "  </thead>\n",
       "  <tbody>\n",
       "    <tr>\n",
       "      <th>0</th>\n",
       "      <td>study</td>\n",
       "      <td>MyFirstProgram-MyFirstProject</td>\n",
       "      <td>Prj171</td>\n",
       "      <td>in vivo</td>\n",
       "      <td>Mus musculus</td>\n",
       "      <td>NaN</td>\n",
       "      <td>Male mice were treated with TCDD every 4 days ...</td>\n",
       "      <td>dose response design</td>\n",
       "      <td>Prj171_Mm_TCDD_RDDR-28D_Male</td>\n",
       "      <td>Toxicogenomics</td>\n",
       "      <td>...</td>\n",
       "      <td>NaN</td>\n",
       "      <td>NaN</td>\n",
       "      <td>Prj171</td>\n",
       "      <td>funding</td>\n",
       "      <td>MyFirstProgram-MyFirstProject</td>\n",
       "      <td>Prj171:R01ES029541:P42ES004911</td>\n",
       "      <td>NaN</td>\n",
       "      <td>R01ES029541:P42ES004911</td>\n",
       "      <td>NIEHS; Superfund Basic Research Program</td>\n",
       "      <td>Prj171</td>\n",
       "    </tr>\n",
       "  </tbody>\n",
       "</table>\n",
       "<p>1 rows × 32 columns</p>\n",
       "</div>"
      ],
      "text/plain": [
       "  type_x                   project_id_x submitter_id_x experimental_setting  \\\n",
       "0  study  MyFirstProgram-MyFirstProject         Prj171              in vivo   \n",
       "\n",
       "       organism  provenance_x  \\\n",
       "0  Mus musculus           NaN   \n",
       "\n",
       "                                   study_description          study_design  \\\n",
       "0  Male mice were treated with TCDD every 4 days ...  dose response design   \n",
       "\n",
       "                    study_title      study_type  ... middle_name provenance_y  \\\n",
       "0  Prj171_Mm_TCDD_RDDR-28D_Male  Toxicogenomics  ...         NaN          NaN   \n",
       "\n",
       "  studies.submitter_id_x     type                     project_id  \\\n",
       "0                 Prj171  funding  MyFirstProgram-MyFirstProject   \n",
       "\n",
       "                     submitter_id provenance               support_id  \\\n",
       "0  Prj171:R01ES029541:P42ES004911        NaN  R01ES029541:P42ES004911   \n",
       "\n",
       "                            support_source studies.submitter_id_y  \n",
       "0  NIEHS; Superfund Basic Research Program                 Prj171  \n",
       "\n",
       "[1 rows x 32 columns]"
      ]
     },
     "metadata": {},
     "output_type": "display_data"
    }
   ],
   "source": [
    "studies_to_match = ['Prj171']\n",
    "\n",
    "# STUDY NODE\n",
    "node_data = sub.export_node(program='MyFirstProgram', project='MyFirstProject', node_type='study', fileformat='tsv')\n",
    "study_df = process_node_data('study', node_data, 'submitter_id')\n",
    "study_df = study_df[study_df['submitter_id'].isin(studies_to_match)]\n",
    "\n",
    "# CONTACT NODE\n",
    "node_data = sub.export_node(program='MyFirstProgram', project='MyFirstProject', node_type='contact', fileformat='tsv')\n",
    "contact_df = process_node_data('contact', node_data, 'studies.submitter_id') \n",
    "study_df = pd.merge(study_df, contact_df, left_on='submitter_id', right_on='studies.submitter_id')\n",
    "\n",
    "# FUNDING NODE\n",
    "node_data = sub.export_node(program='MyFirstProgram', project='MyFirstProject', node_type='funding', fileformat='tsv')\n",
    "funding_df = process_node_data('funding', node_data, 'studies.submitter_id') \n",
    "study_df = pd.merge(study_df, funding_df, left_on='submitter_id_x', right_on='studies.submitter_id')\n",
    "\n",
    "# PUBLICATION NODE\n",
    "#publication = sub.export_node(program='MyFirstProgram',project='MyFirstProject',node_type='publication',fileformat='tsv')\n",
    "#publication_df = pd.read_csv(StringIO(funding), sep='\\t', header=0)\n",
    "#study_df = pd.merge(study_df, publication_df, left_on='submitter_id_x', right_on='studies.submitter_id')\n",
    "\n",
    "display(study_df)"
   ]
  },
  {
   "cell_type": "markdown",
   "metadata": {},
   "source": [
    "<h2 align=\"center\">Subject details</h2>"
   ]
  },
  {
   "cell_type": "code",
   "execution_count": 167,
   "metadata": {},
   "outputs": [],
   "source": [
    "studies_to_match = study_df['submitter_id_x'].unique()\n",
    "pattern = r'(^|\\.)id($|\\.)'\n",
    "\n",
    "# SUBJECT NODE\n",
    "node_data = sub.export_node(program='MyFirstProgram', project='MyFirstProject', node_type='subject', fileformat='tsv')\n",
    "subject_df = process_node_data('subject', node_data, 'studies.submitter_id')\n",
    "subject_df = subject_df[subject_df['studies.submitter_id'].isin(studies_to_match)]\n",
    "\n",
    "# HOUSING NODE\n",
    "node_data = sub.export_node(program='MyFirstProgram', project='MyFirstProject', node_type='housing', fileformat='tsv')\n",
    "housing_df = process_node_data('housing', node_data, 'subjects.submitter_id') \n",
    "subject_df = pd.merge(subject_df, housing_df, left_on='submitter_id', right_on='subjects.submitter_id')\n",
    "\n",
    "# DIET NODE\n",
    "node_data = sub.export_node(program='MyFirstProgram', project='MyFirstProject', node_type='diet', fileformat='tsv')\n",
    "diet_df = process_node_data('diet', node_data, 'housings.submitter_id') \n",
    "subject_df = pd.merge(subject_df, diet_df, left_on='submitter_id_y', right_on='housings.submitter_id')\n",
    "\n",
    "# TREATMENT NODE\n",
    "node_data = sub.export_node(program='MyFirstProgram', project='MyFirstProject', node_type='treatment', fileformat='tsv')\n",
    "treatment_df = process_node_data('treatment', node_data, 'subjects.submitter_id') \n",
    "drop_columns = [col for col in treatment_df.columns if pd.Series(col).str.contains(pattern).any()]\n",
    "drop_columns.append('submitter_id')\n",
    "drop_columns.append('date')\n",
    "treatment_df = treatment_df.drop(drop_columns, axis=1)\n",
    "treatment_df = treatment_df.drop_duplicates()\n",
    "treatment_df = treatment_df.reset_index(drop=True)\n",
    "subject_df = pd.merge(subject_df, treatment_df, left_on='submitter_id_x', right_on='subjects.submitter_id')\n",
    "\n",
    "## Calculate animal age\n",
    "# Convert the date columns to datetime objects\n",
    "subject_df['euthanasia_date'] = pd.to_datetime(subject_df['euthanasia_date'])\n",
    "subject_df['start_date'] = pd.to_datetime(subject_df['start_date'])\n",
    "\n",
    "# Calculate the number of days between the two dates\n",
    "subject_df['num_days'] = (subject_df['euthanasia_date'] - subject_df['start_date']).dt.days\n",
    "\n",
    "# Add the values from another column, assuming the column is called 'another_column'\n",
    "subject_df['age'] = subject_df['num_days'] + subject_df['start_date_age']"
   ]
  },
  {
   "cell_type": "code",
   "execution_count": 168,
   "metadata": {},
   "outputs": [
    {
     "data": {
      "image/png": "[encoded data removed]",
      "text/plain": [
       "<Figure size 864x864 with 4 Axes>"
      ]
     },
     "metadata": {},
     "output_type": "display_data"
    }
   ],
   "source": [
    "# Create a 2x2 subplot\n",
    "fig, axes = plt.subplots(2, 2, figsize=(12, 12))\n",
    "\n",
    "# Breakdown 1: Strain\n",
    "strain_counts = subject_df['strain'].value_counts()\n",
    "axes[0, 0].pie(strain_counts, labels=strain_counts.index, autopct='%1.1f%%')\n",
    "axes[0, 0].set_title('Breakdown by Strain')\n",
    "\n",
    "# Breakdown 2: Strain + Sex\n",
    "strain_sex_counts = subject_df.groupby(['strain', 'sex']).size().unstack()\n",
    "axes[0, 1].pie(strain_sex_counts.values.flatten(), labels=strain_sex_counts.columns, autopct='%1.1f%%')\n",
    "axes[0, 1].set_title('Breakdown by Strain and Sex')\n",
    "\n",
    "# Breakdown 3: Strain + Sex + Treatment\n",
    "strain_sex_treatment_counts = subject_df.groupby(['strain', 'sex', 'test_article_name']).size().unstack()\n",
    "axes[1, 0].pie(strain_sex_treatment_counts.values.flatten(), labels=strain_sex_treatment_counts.columns, autopct='%1.1f%%')\n",
    "axes[1, 0].set_title('Breakdown by Strain, Sex, and Treatment')\n",
    "\n",
    "# Breakdown 4: Strain + Sex + Treatment + Dose\n",
    "strain_sex_treatment_dose_counts = subject_df.groupby(['strain', 'sex', 'test_article_name', 'dose_amount']).size().unstack()\n",
    "axes[1, 1].pie(strain_sex_treatment_dose_counts.values.flatten(), labels=strain_sex_treatment_dose_counts.columns, autopct='%1.1f%%')\n",
    "axes[1, 1].set_title('Breakdown by Strain, Sex, Treatment, and Dose')\n",
    "\n",
    "# Adjust spacing between subplots\n",
    "plt.tight_layout()\n",
    "\n",
    "# Show the plot\n",
    "plt.show()"
   ]
  },
  {
   "cell_type": "markdown",
   "metadata": {},
   "source": [
    "<h2 align=\"center\">Sample details</h2>"
   ]
  },
  {
   "cell_type": "code",
   "execution_count": 169,
   "metadata": {
    "scrolled": false
   },
   "outputs": [],
   "source": [
    "# Filter based on the previous query\n",
    "subjects_to_match = subject_df['submitter_id_x'].unique()\n",
    "\n",
    "# SAMPLE NODE\n",
    "node_data = sub.export_node(program='MyFirstProgram', project='MyFirstProject', node_type='sample', fileformat='tsv')\n",
    "sample_df = process_node_data('sample', node_data, 'subjects.submitter_id')\n",
    "sample_df = sample_df[sample_df['subjects.submitter_id'].isin(subjects_to_match)]\n",
    "\n",
    "# ALIQUOT NODE\n",
    "node_data = sub.export_node(program='MyFirstProgram', project='MyFirstProject', node_type='aliquot', fileformat='tsv')\n",
    "aliquot_df = process_node_data('aliquot', node_data, 'samples.submitter_id')\n",
    "drop_columns = [col for col in aliquot_df.columns if pd.Series(col).str.contains(pattern).any()]\n",
    "aliquot_df = aliquot_df.drop(drop_columns, axis=1)\n",
    "aliquot_df = aliquot_df.reset_index(drop=True)\n",
    "sample_df = pd.merge(sample_df, aliquot_df, left_on='submitter_id', right_on='samples.submitter_id')\n",
    "\n",
    "# MASS_SPEC_ASSAY NODE\n",
    "# Uses a different code to handle exceptions in the characters for long-form text\n",
    "node_data = sub.export_node(program='MyFirstProgram', project='MyFirstProject', node_type='mass_spec_assay', fileformat='json')\n",
    "node_data = remove_newlines(node_data)\n",
    "ms_assay_df = pd.json_normalize(node_data['data'])\n",
    "ms_assay_df = ms_assay_df.explode('aliquots')\n",
    "ms_assay_df['aliquots.id'] = ms_assay_df['aliquots'].apply(lambda x: x['node_id'])\n",
    "ms_assay_df['aliquots.submitter_id'] = ms_assay_df['aliquots'].apply(lambda x: x['submitter_id'])\n",
    "ms_assay_df = ms_assay_df.drop('aliquots', axis=1)\n",
    "drop_columns = [col for col in ms_assay_df.columns if pd.Series(col).str.contains(pattern).any()]\n",
    "ms_assay_df = ms_assay_df.drop(drop_columns, axis=1)\n",
    "ms_assay_df = ms_assay_df.drop_duplicates()\n",
    "ms_assay_df = ms_assay_df.reset_index(drop=True)\n",
    "sample_df = pd.merge(sample_df, ms_assay_df, left_on='submitter_id_y', right_on='aliquots.submitter_id')\n",
    "\n",
    "# MS_RAW_DATA NODE\n",
    "node_data = sub.export_node(program='MyFirstProgram', project='MyFirstProject', node_type='ms_raw_data', fileformat='tsv')\n",
    "ms_raw_data_df = process_node_data('ms_raw_data', node_data, 'mass_spec_assays.submitter_id')\n",
    "drop_columns = [col for col in ms_raw_data_df.columns if pd.Series(col).str.contains(pattern).any()]\n",
    "ms_raw_data_df = ms_raw_data_df.drop(drop_columns, axis=1)\n",
    "ms_raw_data_df = ms_raw_data_df.drop_duplicates()\n",
    "ms_raw_data_df = ms_raw_data_df.reset_index(drop=True)\n",
    "sample_df = pd.merge(sample_df, ms_raw_data_df, left_on='submitter_id', right_on='mass_spec_assays.submitter_id')"
   ]
  },
  {
   "cell_type": "code",
   "execution_count": 170,
   "metadata": {},
   "outputs": [
    {
     "data": {
      "image/png": "[encoded data removed]",
      "text/plain": [
       "<Figure size 864x864 with 4 Axes>"
      ]
     },
     "metadata": {},
     "output_type": "display_data"
    }
   ],
   "source": [
    "# Create a 2x2 subplot\n",
    "fig, axes = plt.subplots(2, 2, figsize=(12, 12))\n",
    "\n",
    "# Breakdown 1: Strain\n",
    "strain_counts = sample_df['biospecimen_anatomic_site'].value_counts()\n",
    "axes[0, 0].pie(strain_counts, labels=strain_counts.index, autopct='%1.1f%%')\n",
    "axes[0, 0].set_title('Breakdown by Tissue')\n",
    "\n",
    "# Breakdown 2: Strain + Sex\n",
    "strain_sex_counts = sample_df.groupby(['biospecimen_anatomic_site', 'preservation_method']).size().unstack()\n",
    "axes[0, 1].pie(strain_sex_counts.values.flatten(), labels=strain_sex_counts.columns, autopct='%1.1f%%')\n",
    "axes[0, 1].set_title('Breakdown by Strain and Sex')\n",
    "\n",
    "\n",
    "# Breakdown 1: Strain\n",
    "strain_counts = sample_df['biospecimen_anatomic_site'].value_counts()\n",
    "axes[1, 0].pie(strain_counts, labels=strain_counts.index, autopct='%1.1f%%')\n",
    "axes[1, 0].set_title('Breakdown by Tissue')\n",
    "\n",
    "# Breakdown 2: Strain + Sex\n",
    "strain_sex_counts = sample_df.groupby(['biospecimen_anatomic_site', 'preservation_method']).size().unstack()\n",
    "axes[1, 1].pie(strain_sex_counts.values.flatten(), labels=strain_sex_counts.columns, autopct='%1.1f%%')\n",
    "axes[1, 1].set_title('Breakdown by Strain and Sex')\n",
    "\n",
    "# Adjust spacing between subplots\n",
    "plt.tight_layout()\n",
    "\n",
    "# Show the plot\n",
    "plt.show()"
   ]
  },
  {
   "cell_type": "markdown",
   "metadata": {},
   "source": [
    "<h2 align=\"center\">Mass spec data details</h2>"
   ]
  },
  {
   "cell_type": "code",
   "execution_count": 171,
   "metadata": {
    "scrolled": false
   },
   "outputs": [],
   "source": [
    "asssays_to_match = sample_df['mass_spec_assays.submitter_id'].unique()\n",
    "\n",
    "node_data = sub.export_node(program='MyFirstProgram', project='MyFirstProject', node_type='ms_raw_data', fileformat='tsv')\n",
    "ms_raw_data_df = process_node_data('ms_raw_data', node_data, 'mass_spec_assays.submitter_id') \n",
    "ms_raw_data_df = ms_raw_data_df[ms_raw_data_df['mass_spec_assays.submitter_id'].isin(asssays_to_match)]\n",
    "\n",
    "node_data = sub.export_node(program='MyFirstProgram', project='MyFirstProject', node_type='ms_analysis', fileformat='tsv')\n",
    "ms_analysis_df = process_node_data('ms_analysed_data', node_data, 'ms_raw_datas.submitter_id') \n",
    "ms_df = pd.merge(ms_raw_data_df, ms_analysis_df, left_on='submitter_id', right_on='ms_raw_datas.submitter_id')\n",
    "\n",
    "node_data = sub.export_node(program='MyFirstProgram', project='MyFirstProject', node_type='ms_analysed_data', fileformat='tsv')\n",
    "ms_analysed_data_df = process_node_data('ms_analysed_data', node_data, 'submitter_id') \n",
    "ms_df = pd.merge(ms_df, ms_analysed_data_df, left_on='submitter_id_y', right_on='ms_analyses.submitter_id')"
   ]
  },
  {
   "cell_type": "markdown",
   "metadata": {},
   "source": [
    "<h1 align=\"center\">Build the mwTab File</h1> "
   ]
  },
  {
   "cell_type": "markdown",
   "metadata": {},
   "source": [
    "### Top-level \"keys\" in __mwTabFile__\n",
    "\n",
    "- 'METABOLOMICS WORKBENCH' \n",
    "- 'PROJECT'\n",
    "- 'STUDY'\n",
    "- 'SUBJECT'\n",
    "- 'SUBJECT_SAMPLE_FACTORS'\n",
    "- 'COLLECTION'\n",
    "- 'TREATMENT'\n",
    "- 'SAMPLEPREP'\n",
    "- 'CHROMATOGRAPHY'\n",
    "- 'ANALYSIS'\n",
    "- 'MS'\n",
    "- 'MS_METABOLITE_DATA'"
   ]
  },
  {
   "cell_type": "markdown",
   "metadata": {},
   "source": [
    "## Create an empty mwTabFile object\n",
    "Look into another way to make an empty file or for a mechanism to ensure that we start with a completely blank object."
   ]
  },
  {
   "cell_type": "code",
   "execution_count": 172,
   "metadata": {},
   "outputs": [],
   "source": [
    "mwfiles_generator = mwtab.read_files(\"35\")\n",
    "mwfile = next(mwfiles_generator)"
   ]
  },
  {
   "cell_type": "code",
   "execution_count": 173,
   "metadata": {},
   "outputs": [],
   "source": [
    "for key in mwfile.keys():\n",
    "    mwfile[key] = OrderedDict()\n",
    "\n",
    "with open(\"empty_mwtab.txt\", \"w\") as outfile:\n",
    "    mwfile.write(outfile, file_format=\"mwtab\")"
   ]
  },
  {
   "cell_type": "code",
   "execution_count": 174,
   "metadata": {},
   "outputs": [
    {
     "data": {
      "text/plain": [
       "odict_keys(['Units', 'Data', 'Metabolites'])"
      ]
     },
     "execution_count": 174,
     "metadata": {},
     "output_type": "execute_result"
    }
   ],
   "source": [
    "keys = ['Units', 'Data', 'Metabolites']\n",
    "initial_values = [None] * len(keys)\n",
    "\n",
    "my_ordered_dict = OrderedDict(zip(keys, initial_values))\n",
    "\n",
    "mwfile[\"MS_METABOLITE_DATA\"] = my_ordered_dict\n",
    "\n",
    "mwfile[\"MS_METABOLITE_DATA\"].keys()"
   ]
  },
  {
   "cell_type": "markdown",
   "metadata": {},
   "source": [
    "## Build METABOLOMICS WORKBENCH block"
   ]
  },
  {
   "cell_type": "code",
   "execution_count": 175,
   "metadata": {},
   "outputs": [],
   "source": [
    "# For some reason the IDs don't change. Check this.\n",
    "json_data = {\n",
    "    \"VERSION\": \"1\",\n",
    "    \"CREATED_ON\": str(formatted_date)\n",
    "}\n",
    "\n",
    "ordered_dict = OrderedDict(json_data)\n",
    "\n",
    "mwfile['METABOLOMICS WORKBENCH'] = ordered_dict"
   ]
  },
  {
   "cell_type": "markdown",
   "metadata": {},
   "source": [
    "## Build PROJECT block"
   ]
  },
  {
   "cell_type": "code",
   "execution_count": 176,
   "metadata": {},
   "outputs": [],
   "source": [
    "json_data = {\n",
    "    \"PROJECT_TITLE\": get_unique_values(study_df, 'study_title'),\n",
    "    \"PROJECT_TYPE\": get_unique_values(sample_df, 'data_category'), \n",
    "    \"PROJECT_SUMMARY\": get_unique_values(study_df, 'study_description'),\n",
    "    \"INSTITUTE\": get_unique_values(study_df, 'contact_institution'),\n",
    "    \"LAST_NAME\": get_unique_values(study_df, 'last_name'),\n",
    "    \"FIRST_NAME\": get_unique_values(study_df, 'first_name'),\n",
    "    \"DEPARTMENT\": get_unique_values(study_df, 'contact_department'),\n",
    "    #\"LABORATORY\":\"dbzach.fst.msu.edu\",\n",
    "    \"ADDRESS\":get_unique_values(study_df, 'location'),\n",
    "    \"EMAIL\":get_unique_values(study_df, 'contact_email'),\n",
    "    \"PHONE\":get_unique_values(study_df, 'contact_telephone'),\n",
    "    \"FUNDING_SOURCE\": get_unique_values(study_df, 'support_source') + ' ' + get_unique_values(study_df, 'support_id')\n",
    "}\n",
    "\n",
    "mwfile['PROJECT'] = OrderedDict(json_data)"
   ]
  },
  {
   "cell_type": "markdown",
   "metadata": {},
   "source": [
    "## Build STUDY block\n",
    "Most datasets just use the same data as Project. Here we may be able to do better."
   ]
  },
  {
   "cell_type": "code",
   "execution_count": 177,
   "metadata": {},
   "outputs": [],
   "source": [
    "# Subset the subjects for only those that have a matching MS assay\n",
    "aliquot_list = ms_assay_df['aliquots.submitter_id']\n",
    "subject_list = sample_df[sample_df['aliquots.submitter_id'].isin(aliquot_list)]['subjects.submitter_id']\n",
    "subject_subset = subject_df[subject_df['submitter_id_x'].isin(subject_list)]\n",
    "\n",
    "columns_to_include = ['submitter_id_x','sex','test_article_name', 'dose_amount']\n",
    "\n",
    "# Create a new DataFrame with only the specified columns\n",
    "selected_columns = columns_to_include\n",
    "subset_df = subject_subset[selected_columns].drop_duplicates()\n",
    "subset_df = subset_df.reset_index(drop=True)\n",
    "\n",
    "# Count the frequency of two values in the column\n",
    "value_counts = subset_df['sex'].value_counts()\n",
    "\n",
    "# Get the frequency of specific values\n",
    "female_count = value_counts.get('female', 0)\n",
    "male_count = value_counts.get('male', 0)\n",
    "groups = subset_df['dose_amount'].nunique()"
   ]
  },
  {
   "cell_type": "code",
   "execution_count": 178,
   "metadata": {},
   "outputs": [],
   "source": [
    "json_data = { \n",
    "    \"STUDY_TITLE\": get_unique_values(study_df, 'study_title'),\n",
    "    \"STUDY_TYPE\": get_unique_values(sample_df, 'data_type'),\n",
    "    \"STUDY_SUMMARY\": get_unique_values(study_df, 'study_description'),\n",
    "    \"INSTITUTE\":get_unique_values(study_df, 'contact_institution'),\n",
    "    \"DEPARTMENT\":get_unique_values(study_df, 'contact_department'),\n",
    "    \"LAST_NAME\": get_unique_values(study_df, 'last_name'),\n",
    "    \"FIRST_NAME\": get_unique_values(study_df, 'first_name'),\n",
    "    \"ADDRESS\":get_unique_values(study_df, 'location'),\n",
    "    \"EMAIL\":get_unique_values(study_df, 'contact_email'),\n",
    "    \"PHONE\":get_unique_values(study_df, 'contact_telephone'),\n",
    "    \"NUM_GROUPS\":int(groups),\n",
    "    \"TOTAL_SUBJECTS\":int(len(get_unique_values(subset_df, 'submitter_id_x').split(','))),\n",
    "    \"NUM_MALES\":int(male_count),\n",
    "    \"NUM_FEMALES\":int(female_count)\n",
    "}\n",
    "\n",
    "\n",
    "# original dict\n",
    "ordered_dict = OrderedDict(json_data)\n",
    "\n",
    "# key transformation\n",
    "#renamed_dict = OrderedDict((key_mappings.get(key, key), value) for key, value in ordered_dict.items())\n",
    "\n",
    "mwfile['STUDY'] = ordered_dict"
   ]
  },
  {
   "cell_type": "markdown",
   "metadata": {},
   "source": [
    "## Build SUBJECT block\n",
    "Each blocks are an `OrderedDict` class"
   ]
  },
  {
   "cell_type": "code",
   "execution_count": 179,
   "metadata": {},
   "outputs": [],
   "source": [
    "# replace this with a gen3 query\n",
    "json_data = {\n",
    "    \"SUBJECT_TYPE\": \"Mammal\",  #*dropdown\n",
    "    \"SUBJECT_SPECIES\": get_unique_values(study_df, 'organism'),\n",
    "    \"TAXONOMY_ID\":\"10090\", \n",
    "    \"SPECIES_GROUP\": \"Mammal\",\n",
    "    \"AGE_OR_AGE_RANGE\": get_unique_values(subject_df, 'age'),\n",
    "    \"GENDER\": get_unique_values(subject_df, 'sex'),\n",
    "    \"ANIMAL_ANIMAL_SUPPLIER\": get_unique_values(subject_df, 'strain_source'),\n",
    "    \"ANIMAL_HOUSING\": 'cage_type: ' + \n",
    "                        get_unique_values(subject_df, 'cage_type') + \n",
    "                        '; bedding_type: ' + \n",
    "                        get_unique_values(subject_df, 'bedding_type'),\n",
    "    \"ANIMAL_LIGHT_CYCLE\":get_unique_values(subject_df, 'vivarium_light_cycle'),\n",
    "    \"ANIMAL_FEED\":get_unique_values(subject_df, 'feed_name'),\n",
    "    \"ANIMAL_WATER\":get_unique_values(subject_df, 'water_type')\n",
    "}\n",
    "\n",
    "# original dict\n",
    "ordered_dict = OrderedDict(json_data)\n",
    "\n",
    "mwfile['SUBJECT'] = ordered_dict"
   ]
  },
  {
   "cell_type": "markdown",
   "metadata": {},
   "source": [
    "## Build SUBJECT_SAMPLE_FACTORS block\n",
    "Each blocks are an `OrderedDict` class"
   ]
  },
  {
   "cell_type": "code",
   "execution_count": 180,
   "metadata": {
    "scrolled": false
   },
   "outputs": [],
   "source": [
    "subject_subset = subject_df[['submitter_id_x', 'dose_amount', 'dose_amount_unit', 'test_article_name']].drop_duplicates()\n",
    "\n",
    "subject_subset['dose_group'] = subject_subset['dose_amount'].astype(str) + ' ' + subject_subset['dose_amount_unit'].astype(str)\n",
    "\n",
    "sample_subset = sample_df[['subjects.submitter_id', 'submitter_id_x', 'file_name']].drop_duplicates()\n",
    "\n",
    "json_SUBJECT_SAMPLE_FACTORS = []\n",
    "\n",
    "for index, row in sample_subset.iterrows():\n",
    "    subject_sample = {}\n",
    "    subject_sample.update({'Subject ID': row['subjects.submitter_id'].split(\":\")[-1].strip()})\n",
    "    subject_sample.update({'Sample ID': row.submitter_id_x[1].split(\":\")[-1].strip()})\n",
    "    factors = subject_subset[subject_subset['submitter_id_x'] == row['subjects.submitter_id']]\n",
    "    factor_vals = {}\n",
    "    for _, row_factors in factors.iterrows():\n",
    "        for f in row_factors.index:\n",
    "            if f not in ['submitter_id_x', 'dose_amount', 'dose_amount_unit']:\n",
    "                factor_vals.update({f: row_factors[f]})\n",
    "    subject_sample.update({'Factors':factor_vals})\n",
    "    subject_sample.update({'Additional sample data': {\"RAW_FILE_NAME\": row['file_name'].replace('.raw', '.mzML')}})\n",
    "    if subject_sample:\n",
    "        json_SUBJECT_SAMPLE_FACTORS.append(OrderedDict(subject_sample)) \n",
    "\n",
    "mwfile['SUBJECT_SAMPLE_FACTORS'] = json_SUBJECT_SAMPLE_FACTORS"
   ]
  },
  {
   "cell_type": "markdown",
   "metadata": {},
   "source": [
    "## Build COLLECTION block\n",
    "Each blocks are an `OrderedDict` class"
   ]
  },
  {
   "cell_type": "code",
   "execution_count": 181,
   "metadata": {},
   "outputs": [],
   "source": [
    "json_data = {\n",
    "    #COLLECTION_SUMMARY\": get_unique_values(sample_df, 'method_of_sample_procurement'),\n",
    "    \"COLLECTION_SUMMARY\": 'Samples were collected by necropsy and flash frozen in liquid nitrogren',\n",
    "    #\"COLLECTION_PROTOCOL_ID\": ,\n",
    "    #\"COLLECTION_PROTOCOL_FILENAME\": ,\n",
    "    #\"COLLECTION_PROTOCOL_COMMENTS\": ,\n",
    "    \"SAMPLE_TYPE\": get_unique_values(sample_df, 'biospecimen_anatomic_site'), \n",
    "    #\"COLLECTION_METHOD\": ,\n",
    "    #\"COLLECTION_LOCATION\": ,\n",
    "    #\"COLLECTION_DURATION\": ,\n",
    "    #\"COLLECTION_FREQUENCY\": ,\n",
    "    \"STORAGE_CONDITIONS\":get_unique_values(sample_df, 'preservation_method'),\n",
    "    #\"STORAGE_VIALS\": \"Tube type\",\n",
    "    #\"COLLECTION_TUBE_TEMP\":\"Tube storage\",\n",
    "}\n",
    "\n",
    "# original dict\n",
    "ordered_dict = OrderedDict(json_data)\n",
    "\n",
    "mwfile['COLLECTION'] = ordered_dict"
   ]
  },
  {
   "cell_type": "markdown",
   "metadata": {},
   "source": [
    "## Build TREATMENT block\n",
    "Each blocks are an `OrderedDict` class"
   ]
  },
  {
   "cell_type": "code",
   "execution_count": 182,
   "metadata": {},
   "outputs": [],
   "source": [
    "# replace this with a gen3 query\n",
    "json_data = {\n",
    "    #\"TREATMENT_SUMMARY\": get_unique_values(subject_df, 'treatment_protocol'),\n",
    "    \"TREATMENT_SUMMARY\": \"Mice were orally gavaged with 0.1 mL of the test article in vehicle to achieve the expected dosage every 4 days for 28 days for a total of 7 administrations.\",\n",
    "    #\"TREATMENT_PROTOCOL_ID\":,\n",
    "    #\"TREATMENT_PROTOCOL_FILENAME\":,\n",
    "    #\"TREATMENT_PROTOCOL_COMMENTS\":,\n",
    "    #\"TREATMENT\":,\n",
    "    \"TREATMENT_COMPOUND\": get_unique_values(subject_df, 'test_article_dtxsid') + ': ' + get_unique_values(subject_df, 'test_article_name'),\n",
    "    \"TREATMENT_ROUTE\":get_unique_values(subject_df, 'route'),\n",
    "    \"TREATMENT_DOSE\":str(sorted(get_unique_values(subject_df, 'dose_amount').split(','))),\n",
    "    \"TREATMENT_DOSEVOLUME\": get_unique_values(subject_df, 'administration_volume_ml') + ' ' + 'mL',\n",
    "    \"TREATMENT_VEHICLE\":get_unique_values(subject_df, 'vehicle_dtxsid') + ': ' + get_unique_values(subject_df, 'vehicle_name'),\n",
    "    #\"ANIMAL_VET_TREATMENTS\":,\n",
    "    #\"ANIMAL_ANESTHESIA\":,\n",
    "    #\"ANIMAL_ACCLIMATION_DURATION\":,\n",
    "    \"ANIMAL_FASTING\":get_unique_values(subject_df, 'feed_paradigm'),\n",
    "    \"ANIMAL_ENDP_EUTHANASIA\":get_unique_values(subject_df, 'euthanasia_method'),\n",
    "    \"ANIMAL_ENDP_TISSUE_COLL_LIST\":get_unique_values(sample_df, 'biospecimen_anatomic_site')\n",
    "    #\"ANIMAL_ENDP_TISSUE_PROC_METHOD\":get_unique_values(sample_df, 'method_of_sample_procurement')\n",
    "}\n",
    "\n",
    "# original dict\n",
    "ordered_dict = OrderedDict(json_data)\n",
    "\n",
    "mwfile['TREATMENT'] = ordered_dict"
   ]
  },
  {
   "cell_type": "markdown",
   "metadata": {},
   "source": [
    "## Build SAMPLEPREP block\n",
    "Each blocks are an `OrderedDict` class"
   ]
  },
  {
   "cell_type": "code",
   "execution_count": 183,
   "metadata": {},
   "outputs": [],
   "source": [
    "# replace this with a gen3 query\n",
    "\n",
    "tmp_string = (\"Flash frozen liver samples (about 25 mg) were extracted using HPLC-grade methanol and water (5:3 ratio)\"\n",
    "    \"containing 13C-,15N-labeled amino acid (Sigma; 767964) internal standards. HPLC-grade chloroform (methanol:water:chloroform \"    \n",
    "    \"ratio 5:3:5) was added, vortexed, shaken for 15 min at 4 Celsius, and centrifuged at maximum speed (3000 x g) to achieve \"\n",
    "    \"phase separation. The methanol:water phase containing the polar metabolites was transferred, dried under nitrogen gas at \"\n",
    "    \"room temperature. Untargeted extractions were reconstituted with 400 ul of 10 mM tributylamine and 15 mM acetic acid in \"\n",
    "    \"97:3 water:methanol for analysis.\")\n",
    "\n",
    "json_data = {\n",
    "    #\"SAMPLEPREP_SUMMARY\": get_unique_values(sample_df, 'analyte_protocol'),\n",
    "    \"SAMPLEPREP_SUMMARY\": tmp_string,\n",
    "    \"PROCESSING_STORAGE_CONDITIONS\": get_unique_values(sample_df, 'extract_preservation_method'),\n",
    "    #\"SAMPLEPREP_PROTOCOL_ID\":\"protid\",\n",
    "    #\"SAMPLEPREP_PROTOCOL_FILENAME\":\"protfile\",\n",
    "    #\"SAMPLEPREP_PROTOCOL_COMMENTS\":\"procomm\",\n",
    "    #\"PROCESSING_METHOD\":\"procmethod\",\n",
    "    #\"PROCESSING_STORAGE_CONDITIONS\":\"80\",\n",
    "    #\"EXTRACTION_METHOD\":\"extmethod\",\n",
    "    #\"EXTRACT_CONCENTRATION_DILUTION\":\"dilution\",\n",
    "    #\"EXTRACT_ENRICHMENT\":\"enrch\",\n",
    "    #\"EXTRACT_CLEANUP\":\"clean\",\n",
    "    #\"EXTRACT_STORAGE\":\"-80\",\n",
    "    #\"SAMPLE_RESUSPENSION\":\"resyus\",\n",
    "    \"SAMPLE_DERIVATIZATION\":get_unique_values(sample_df, 'derivitization'),\n",
    "    \"SAMPLE_SPIKING\":get_unique_values(sample_df, 'calibration_standard')\n",
    "    #\"SUBCELLULAR_LOCATION\":\"subcell loc\",\n",
    "}\n",
    "\n",
    "json_data = {k: v for k, v in json_data.items() if v != 'nan'}\n",
    "\n",
    "# original dict\n",
    "ordered_dict = OrderedDict(json_data)\n",
    "\n",
    "mwfile['SAMPLEPREP'] = ordered_dict"
   ]
  },
  {
   "cell_type": "markdown",
   "metadata": {},
   "source": [
    "## Build CHROMATOGRAPHY block\n",
    "Each blocks are an `OrderedDict` class"
   ]
  },
  {
   "cell_type": "code",
   "execution_count": 184,
   "metadata": {},
   "outputs": [],
   "source": [
    "# replace this with a gen3 query\n",
    "json_data = {\n",
    "    \"CHROMATOGRAPHY_SUMMARY\": get_unique_values(ms_assay_df, 'chromatography_protocol'),\n",
    "    \"CHROMATOGRAPHY_TYPE\": get_unique_values(ms_assay_df, 'chromatography_type'),\n",
    "    \"INSTRUMENT_NAME\": get_unique_values(ms_assay_df, 'chromatography_instrument'),\n",
    "    \"COLUMN_NAME\": get_unique_values(ms_assay_df, 'chromatography_column'),\n",
    "    \"SOLVENT_A\": get_unique_values(ms_assay_df, 'solventA'),\n",
    "    \"SOLVENT_B\": get_unique_values(ms_assay_df, 'solventB'),\n",
    "    \"SOLVENT_C\": get_unique_values(ms_assay_df, 'solventC'),\n",
    "    \"FLOW_GRADIENT\": get_unique_values(ms_assay_df, 'elution_program'),\n",
    "    \"FLOW_RATE\":get_unique_values(ms_assay_df, 'flow_rate'),\n",
    "    #\"COLUMN_TEMPERATURE\":\"376\",\n",
    "    \"METHODS_FILENAME\":get_unique_values(ms_assay_df, 'chromatography_method_filename')\n",
    "    #\"METHODS_ID\":\"id\",\n",
    "    #\"COLUMN_PRESSURE\":\"colpress\",\n",
    "    #\"INJECTION_TEMPERATURE\":\"injtemp\"\n",
    "}\n",
    "\n",
    "# original dict\n",
    "ordered_dict = OrderedDict(json_data)\n",
    "\n",
    "mwfile['CHROMATOGRAPHY'] = ordered_dict"
   ]
  },
  {
   "cell_type": "markdown",
   "metadata": {},
   "source": [
    "## Build ANALYSIS block\n",
    "Each blocks are an `OrderedDict` class"
   ]
  },
  {
   "cell_type": "code",
   "execution_count": 185,
   "metadata": {},
   "outputs": [],
   "source": [
    "# replace this with a gen3 query\n",
    "json_data = {\n",
    "    \"ANALYSIS_TYPE\": \"MS\"\n",
    "}\n",
    "\n",
    "# original dict\n",
    "ordered_dict = OrderedDict(json_data)\n",
    "\n",
    "mwfile['ANALYSIS'] = ordered_dict"
   ]
  },
  {
   "cell_type": "markdown",
   "metadata": {},
   "source": [
    "## Build MS block\n",
    "Each blocks are an `OrderedDict` class"
   ]
  },
  {
   "cell_type": "code",
   "execution_count": 186,
   "metadata": {},
   "outputs": [],
   "source": [
    "# replace this with a gen3 query\n",
    "json_data = {\n",
    "    \"INSTRUMENT_NAME\": \"Waters Xevo-TQ-S\", \n",
    "    \"INSTRUMENT_TYPE\": \"Triple quadrupole\",\n",
    "    \"MS_TYPE\": get_unique_values(ms_assay_df, 'ms_type'),\n",
    "    \"ION_MODE\": get_unique_values(ms_assay_df, 'ion_mode'),\n",
    "    \"MS_COMMENTS\": \"protocol\"\n",
    "}\n",
    "\n",
    "# original dict\n",
    "ordered_dict = OrderedDict(json_data)\n",
    "\n",
    "mwfile['MS'] = ordered_dict"
   ]
  },
  {
   "cell_type": "markdown",
   "metadata": {},
   "source": [
    "## Build MS_METABOLITE_DATA block\n",
    "\n",
    "#### The following block use hard-coded file paths until ToxDataCommons implements S3 buckets."
   ]
  },
  {
   "cell_type": "code",
   "execution_count": 187,
   "metadata": {},
   "outputs": [],
   "source": [
    "mwfile[\"MS_METABOLITE_DATA\"][\"Units\"] = 'normalized peak area'"
   ]
  },
  {
   "cell_type": "code",
   "execution_count": 188,
   "metadata": {},
   "outputs": [],
   "source": [
    "file_path = './Karina_realData/CEC_mn_normalized_peak_area.txt'\n",
    "\n",
    "# Read the tab-delimited file\n",
    "with open(file_path, 'r', newline='') as file:\n",
    "    reader = csv.reader(file, delimiter='\\t')\n",
    "    # Extract the keys from the first row\n",
    "    keys = next(reader)\n",
    "\n",
    "    # Create a list of OrderedDict objects\n",
    "    metabolite_data = [\n",
    "        OrderedDict(zip(keys, row)) for row in reader\n",
    "    ]\n",
    "\n",
    "mwfile['MS_METABOLITE_DATA']['Data'] = metabolite_data"
   ]
  },
  {
   "cell_type": "code",
   "execution_count": 193,
   "metadata": {},
   "outputs": [],
   "source": [
    "ms_analysed_data_id = [\"Prj171:CEC_normalized_peak_area.txt\"]\n",
    "exclude_list = [get_unique_values(ms_assay_df, 'calibration_standard')]\n",
    "\n",
    "# METABOLITE_ID NODE\n",
    "node_data = sub.export_node(program='MyFirstProgram', project='MyFirstProject', node_type='metabolite_id', fileformat='tsv')\n",
    "metabolite_df = process_node_data('metabolite_id', node_data, 'ms_analysed_datas.submitter_id')\n",
    "metabolite_df = metabolite_df[(metabolite_df['ms_analysed_datas.submitter_id'].isin(ms_analysed_data_id)) &\n",
    "                            (~metabolite_df['metabolite_name'].isin(exclude_list))]\n",
    "\n"
   ]
  },
  {
   "cell_type": "code",
   "execution_count": 194,
   "metadata": {},
   "outputs": [
    {
     "name": "stdout",
     "output_type": "stream",
     "text": [
      "[OrderedDict([('Metabolite', 'S-(2-carboxyethyl)-L-cysteine'), ('DTXSID', 'DTXSID40193329'), ('InChI', 'InChI=1S/C6H11NO4S/c7-4(6(10)11)3-12-2-1-5(8)9/h4H,1-3,7H2,(H,8,9)(H,10,11)/t4-/m0/s1'), ('Average Mass', '193.22'), ('elution_time', '2.6')])]\n"
     ]
    }
   ],
   "source": [
    "json_data = []\n",
    "\n",
    "for _, row in metabolite_df.iterrows():\n",
    "    js = {\n",
    "        \"Metabolite\": row['metabolite_name'],\n",
    "        \"DTXSID\": row['dtxsid'],\n",
    "        \"InChI\": 'InChI=' + row['inchikey'],\n",
    "        \"Average Mass\": str(row['mass']),\n",
    "        \"elution_time\": str(row['elution_time'])\n",
    "    }\n",
    "    json_data.append(OrderedDict(js))\n",
    "\n",
    "mwfile[\"MS_METABOLITE_DATA\"][\"Metabolites\"] = json_data"
   ]
  },
  {
   "cell_type": "markdown",
   "metadata": {},
   "source": [
    "## Export the file"
   ]
  },
  {
   "cell_type": "code",
   "execution_count": 195,
   "metadata": {},
   "outputs": [],
   "source": [
    "from mwtab.converter import Converter\n",
    "\n",
    "with open(\"temp_mwtab.json\", \"w\") as outfile:\n",
    "    mwfile.write(outfile, file_format=\"json\")\n",
    "\n",
    "converter = Converter(from_path=\"temp_mwtab.json\", to_path=\"temp_mwtab.txt\",\n",
    "                      from_format=\"json\", to_format=\"mwtab\")\n",
    "converter.convert()"
   ]
  },
  {
   "cell_type": "markdown",
   "metadata": {},
   "source": [
    "# Validate & upload your mwTab file"
   ]
  },
  {
   "cell_type": "markdown",
   "metadata": {},
   "source": [
    "## Validation\n",
    "\n",
    "mwTab files can be validated using the python mwTab command line or the [online validator](https://www.metabolomicsworkbench.org/data/mwtab_validate_form.php). It is recommended to use both forms of validation as they report different things. "
   ]
  },
  {
   "cell_type": "code",
   "execution_count": 4,
   "metadata": {},
   "outputs": [
    {
     "name": "stdout",
     "output_type": "stream",
     "text": [
      "Processed file: C:\\Users\\15177\\OneDrive - Michigan State University\\Documents\\Projects\\FAIRTox\\DH_RealData\\SRC_TZES004911_Prj171\\CEC_Prj171_mwTab.txt\n",
      "Validation Log\n",
      "2023-06-16 16:41:53.617148\n",
      "mwtab Python Library Version: 1.2.5\n",
      "Source:        ../../../DH_RealData/SRC_TZES004911_Prj171/CEC_Prj171_mwTab.txt\n",
      "Study ID:      None\n",
      "Analysis ID:   None\n",
      "File format:   \n",
      "Status: Passing\n"
     ]
    }
   ],
   "source": [
    "! mwtab validate ../../../DH_RealData/SRC_TZES004911_Prj171/CEC_Prj171_mwTab.txt --verbose"
   ]
  },
  {
   "cell_type": "markdown",
   "metadata": {},
   "source": [
    "## Upload to the metabolomic workbench ftp server\n",
    "\n",
    "- Compress your folder containing mwTab and associated files (.zip or .7z)\n",
    "- Log into [metabolomic workbench](metabolomicsworkbench.org)\n",
    "- Find the NMDR FTP information. It will have the following:\n",
    "    __Server name__:\n",
    "    __User name__:\n",
    "    __Password__:\n",
    "- Connect to the FTP server using a tool such as _FileZilla_ or _WinSCP_ and upload the data"
   ]
  }
 ],
 "metadata": {
  "kernelspec": {
   "display_name": "Python 3",
   "language": "python",
   "name": "python3"
  },
  "language_info": {
   "codemirror_mode": {
    "name": "ipython",
    "version": 3
   },
   "file_extension": ".py",
   "mimetype": "text/x-python",
   "name": "python",
   "nbconvert_exporter": "python",
   "pygments_lexer": "ipython3",
   "version": "3.7.7"
  }
 },
 "nbformat": 4,
 "nbformat_minor": 4
}
