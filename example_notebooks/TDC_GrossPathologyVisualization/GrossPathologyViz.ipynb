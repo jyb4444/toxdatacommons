{
 "cells": [
  {
   "cell_type": "markdown",
   "id": "b0dd140e",
   "metadata": {},
   "source": [
    "<h1 align=\"center\">Study specific gross pathology visualization</h1> \n",
    "\n",
    "__Created by: Rance Nault, Michigan State University__<br>"
   ]
  },
  {
   "cell_type": "markdown",
   "id": "d4a8464d",
   "metadata": {},
   "source": [
    "---\n",
    "This Jupyter notebook presents a use case for the [toxdatacommons](https://fairtox.com) to plot basic endpoints such as body weight, food consumption, and terminal endpoints."
   ]
  },
  {
   "cell_type": "markdown",
   "id": "582e2d49",
   "metadata": {},
   "source": [
    "## Set up your environment and packages"
   ]
  },
  {
   "cell_type": "code",
   "execution_count": 22,
   "id": "67cd0380",
   "metadata": {},
   "outputs": [],
   "source": [
    "import os\n",
    "import sys\n",
    "import csv\n",
    "import gen3\n",
    "import json\n",
    "import uuid\n",
    "import mwtab\n",
    "import warnings\n",
    "import matplotlib.pyplot as plt\n",
    "import pandas as pd\n",
    "import plotly.graph_objects as go\n",
    "import plotly.express as px\n",
    "import numpy as np\n",
    "\n",
    "\n",
    "#sys.path.append('c://Users/15177/OneDrive - Michigan State University/Documents/Projects/FAIRTox/PythonShared')\n",
    "from io import StringIO\n",
    "from datetime import datetime\n",
    "from collections import OrderedDict\n",
    "from expansion import Gen3Expansion # https://raw.githubusercontent.com/cgmeyer/gen3sdk-python/master/expansion/expansion.py\n",
    "\n",
    "from gen3.submission import Gen3Submission\n",
    "from gen3.auth import Gen3Auth\n",
    "from gen3.index import Gen3Index\n",
    "from gen3.query import Gen3Query\n",
    "from gen3.metadata import Gen3Metadata\n",
    "from gen3.file import Gen3File\n",
    "from TDCexpansion import Gen3process  # https://raw.githubusercontent.com/naultran/toxdatacommons/main/script/TDCexpansion.py\n",
    "\n",
    "current_date = datetime.now().date()\n",
    "formatted_date = current_date.strftime('%Y-%m-%d')\n",
    "\n",
    "warnings.filterwarnings(\"ignore\", category=UserWarning)"
   ]
  },
  {
   "cell_type": "code",
   "execution_count": 2,
   "id": "66963856",
   "metadata": {},
   "outputs": [
    {
     "name": "stdout",
     "output_type": "stream",
     "text": [
      "Getting all project_ids you have access to in the data commons.\n",
      "['MyFirstProgram-MyFirstProject']\n"
     ]
    },
    {
     "data": {
      "text/plain": [
       "['MyFirstProgram-MyFirstProject']"
      ]
     },
     "execution_count": 2,
     "metadata": {},
     "output_type": "execute_result"
    }
   ],
   "source": [
    "api = 'https://fairtox.com/'\n",
    "cred = 'c://Users/15177/OneDrive - Michigan State University/Documents/Projects/FAIRTox/PythonShared/credentials.json'\n",
    "auth = Gen3Auth(api, refresh_file=cred)\n",
    "sub = Gen3Submission(api, auth)\n",
    "query = Gen3Query(auth)\n",
    "index = Gen3Index(auth)\n",
    "file = Gen3File(auth)\n",
    "metadata = Gen3Metadata(auth)\n",
    "exp = Gen3Expansion(api,auth,sub) \n",
    "process = Gen3process( sub )\n",
    "exp.get_project_ids()"
   ]
  },
  {
   "cell_type": "markdown",
   "id": "cbe0c999",
   "metadata": {},
   "source": [
    "### Set up a temporary folder for downloading data files"
   ]
  },
  {
   "cell_type": "code",
   "execution_count": 3,
   "id": "b3f5abba",
   "metadata": {},
   "outputs": [
    {
     "name": "stdout",
     "output_type": "stream",
     "text": [
      "Directory 'C:\\Users\\15177\\OneDrive - Michigan State University\\Documents\\Projects\\FAIRTox\\DH_RealData\\SRC_TZES004911_PRJ161\\tmp_download_prj161_vis_080223' already exists.\n"
     ]
    }
   ],
   "source": [
    "vis_id = \"prj161_vis_080223\"\n",
    "folder_name = f\"tmp_download_{vis_id}\"\n",
    "current_directory = os.getcwd()\n",
    "folder_path = os.path.join(current_directory, folder_name)\n",
    "\n",
    "# Check if the directory already exists\n",
    "if not os.path.exists(folder_path):\n",
    "    # Create the directory and any necessary parent directories\n",
    "    os.makedirs(folder_path)\n",
    "    print(f\"Directory '{folder_path}' created successfully.\")\n",
    "else:\n",
    "    print(f\"Directory '{folder_path}' already exists.\")"
   ]
  },
  {
   "cell_type": "markdown",
   "id": "dafd119c",
   "metadata": {},
   "source": [
    "---\n",
    "<h1 align=\"center\">Longitudinal body weight measurements</h1> \n",
    "\n",
    "Over the course of an experiment the study subjects will vary in body weight, sometimes diverging based on the treatment compounds. Here we will examine what effect repeated gavage with 2,3,7,8-Tetrachlorodibenzo-p-dioxin had on body weight over a 28 day treatment period.\n",
    "\n",
    "---\n",
    "## Build your subjects metadata table\n",
    "\n",
    "We use the `TDCexpansion` python package to build a subject metadata table. In this example we are looking at a study in which male mice were treated with TCDD every 4 days for 28 days."
   ]
  },
  {
   "cell_type": "code",
   "execution_count": 12,
   "id": "4a9e92ac",
   "metadata": {},
   "outputs": [],
   "source": [
    "# Provide a list of projects you want to filter by\n",
    "prog = 'MyFirstProgram'\n",
    "proj = 'MyFirstProject'\n",
    "StudyFilter = ['PRJ161']\n",
    "\n",
    "# Get study details\n",
    "study_df = process.build_study('MyFirstProgram', 'MyFirstProject', studies_to_match = StudyFilter)\n",
    "\n",
    "# Build the subject table from TDC\n",
    "subject_df = process.build_subject('MyFirstProgram', 'MyFirstProject', studies_to_match = StudyFilter)"
   ]
  },
  {
   "cell_type": "markdown",
   "id": "b7605335",
   "metadata": {},
   "source": [
    "### Print study details"
   ]
  },
  {
   "cell_type": "code",
   "execution_count": 13,
   "id": "748b5e16",
   "metadata": {},
   "outputs": [
    {
     "name": "stdout",
     "output_type": "stream",
     "text": [
      "Publications available at DOI: 10.1093/toxsci/kfac109; 10.1093/nar/gkac019; 10.3390/receptors2020009; 10.1101/2022.10.05.510890\n",
      "\n",
      "This study was funded by: NIEHS; Superfund Basic Research Program P42ES004911\n"
     ]
    }
   ],
   "source": [
    "print('Publications available at DOI: ' + study_df['DOI'].item().replace(\":\", \"; \") + '\\n')\n",
    "print('This study was funded by: ' + study_df['support_source'].item() + ' ' + study_df['support_id'].item())"
   ]
  },
  {
   "cell_type": "markdown",
   "id": "d117a1a3",
   "metadata": {},
   "source": [
    "### Collect bodyweight data measurements"
   ]
  },
  {
   "cell_type": "code",
   "execution_count": 15,
   "id": "215483bf",
   "metadata": {},
   "outputs": [],
   "source": [
    "# Build a dataframe to find the body weight data files for the study\n",
    "weight_data = process.process_node_data('weight_measurement', ['subjects.submitter_id'], \n",
    "                                        program=prog, \n",
    "                                        project=proj) \n",
    "\n",
    "# Cleanup the weight data table\n",
    "bw_data = weight_data[weight_data['submitter_id'] == 'PRJ161:BodyWeights'] # A more efficient method in development\n",
    "bw_data = bw_data.dropna(axis=1) # Remove empty columns\n",
    "bw_combinations = bw_data.drop_duplicates(subset=[\"file_name\", \"object_id\"]) # Find only unique file names\n",
    "\n",
    "# Collected linked filename and GUID to download correct data file\n",
    "bw_filename = bw_combinations['file_name']\n",
    "bw_objectid = bw_combinations['object_id']"
   ]
  },
  {
   "cell_type": "markdown",
   "id": "83722e57",
   "metadata": {},
   "source": [
    "### Cleanup metadata table and merge with bodyweight data"
   ]
  },
  {
   "cell_type": "code",
   "execution_count": 16,
   "id": "e14f1b77",
   "metadata": {},
   "outputs": [
    {
     "data": {
      "text/html": [
       "<div>\n",
       "<style scoped>\n",
       "    .dataframe tbody tr th:only-of-type {\n",
       "        vertical-align: middle;\n",
       "    }\n",
       "\n",
       "    .dataframe tbody tr th {\n",
       "        vertical-align: top;\n",
       "    }\n",
       "\n",
       "    .dataframe thead th {\n",
       "        text-align: right;\n",
       "    }\n",
       "</style>\n",
       "<table border=\"1\" class=\"dataframe\">\n",
       "  <thead>\n",
       "    <tr style=\"text-align: right;\">\n",
       "      <th></th>\n",
       "      <th>subjects.submitter_id</th>\n",
       "      <th>sex</th>\n",
       "      <th>dose_amount</th>\n",
       "      <th>test_article_administration_zt</th>\n",
       "      <th>test_article_dtxsid</th>\n",
       "      <th>test_article_name</th>\n",
       "      <th>vehicle_dtxsid</th>\n",
       "      <th>vehicle_name</th>\n",
       "      <th>strain</th>\n",
       "    </tr>\n",
       "  </thead>\n",
       "  <tbody>\n",
       "    <tr>\n",
       "      <th>0</th>\n",
       "      <td>M37</td>\n",
       "      <td>male</td>\n",
       "      <td>0.1</td>\n",
       "      <td>0</td>\n",
       "      <td>DTXSID2021315</td>\n",
       "      <td>TCDD</td>\n",
       "      <td>DTXSID9033971</td>\n",
       "      <td>Sesame Oil</td>\n",
       "      <td>C57BL/6NCrl</td>\n",
       "    </tr>\n",
       "    <tr>\n",
       "      <th>7</th>\n",
       "      <td>M38</td>\n",
       "      <td>male</td>\n",
       "      <td>0.1</td>\n",
       "      <td>0</td>\n",
       "      <td>DTXSID2021315</td>\n",
       "      <td>TCDD</td>\n",
       "      <td>DTXSID9033971</td>\n",
       "      <td>Sesame Oil</td>\n",
       "      <td>C57BL/6NCrl</td>\n",
       "    </tr>\n",
       "    <tr>\n",
       "      <th>14</th>\n",
       "      <td>M39</td>\n",
       "      <td>male</td>\n",
       "      <td>0.1</td>\n",
       "      <td>0</td>\n",
       "      <td>DTXSID2021315</td>\n",
       "      <td>TCDD</td>\n",
       "      <td>DTXSID9033971</td>\n",
       "      <td>Sesame Oil</td>\n",
       "      <td>C57BL/6NCrl</td>\n",
       "    </tr>\n",
       "    <tr>\n",
       "      <th>21</th>\n",
       "      <td>M55</td>\n",
       "      <td>male</td>\n",
       "      <td>0.0</td>\n",
       "      <td>0</td>\n",
       "      <td>DTXSID2021315</td>\n",
       "      <td>TCDD</td>\n",
       "      <td>DTXSID9033971</td>\n",
       "      <td>Sesame Oil</td>\n",
       "      <td>C57BL/6NCrl</td>\n",
       "    </tr>\n",
       "    <tr>\n",
       "      <th>28</th>\n",
       "      <td>M56</td>\n",
       "      <td>male</td>\n",
       "      <td>0.0</td>\n",
       "      <td>0</td>\n",
       "      <td>DTXSID2021315</td>\n",
       "      <td>TCDD</td>\n",
       "      <td>DTXSID9033971</td>\n",
       "      <td>Sesame Oil</td>\n",
       "      <td>C57BL/6NCrl</td>\n",
       "    </tr>\n",
       "  </tbody>\n",
       "</table>\n",
       "</div>"
      ],
      "text/plain": [
       "   subjects.submitter_id   sex  dose_amount  test_article_administration_zt  \\\n",
       "0                    M37  male          0.1                               0   \n",
       "7                    M38  male          0.1                               0   \n",
       "14                   M39  male          0.1                               0   \n",
       "21                   M55  male          0.0                               0   \n",
       "28                   M56  male          0.0                               0   \n",
       "\n",
       "   test_article_dtxsid test_article_name vehicle_dtxsid vehicle_name  \\\n",
       "0        DTXSID2021315              TCDD  DTXSID9033971   Sesame Oil   \n",
       "7        DTXSID2021315              TCDD  DTXSID9033971   Sesame Oil   \n",
       "14       DTXSID2021315              TCDD  DTXSID9033971   Sesame Oil   \n",
       "21       DTXSID2021315              TCDD  DTXSID9033971   Sesame Oil   \n",
       "28       DTXSID2021315              TCDD  DTXSID9033971   Sesame Oil   \n",
       "\n",
       "         strain  \n",
       "0   C57BL/6NCrl  \n",
       "7   C57BL/6NCrl  \n",
       "14  C57BL/6NCrl  \n",
       "21  C57BL/6NCrl  \n",
       "28  C57BL/6NCrl  "
      ]
     },
     "metadata": {},
     "output_type": "display_data"
    }
   ],
   "source": [
    "# Identify columns to be used for grouping and plotting\n",
    "keep = ['subjects.submitter_id', 'sex', 'dose_amount', 'test_article_administration_zt', \n",
    "        'test_article_dtxsid', 'test_article_name', 'vehicle_dtxsid', 'vehicle_name', 'strain'\n",
    "       ]\n",
    "\n",
    "dataframes = [('subject_df', subject_df),('bw_data', bw_data)]\n",
    "metadata = process.merge_dataframes(process.rename_overlapping(dataframes=dataframes))\n",
    "\n",
    "# Remove the 'PRJ161:' string from the identifier to match the datafile input \n",
    "metadata[\"subjects.submitter_id\"] = metadata[\"subjects.submitter_id\"].str.replace(\"^PRJ161:\", \"\", regex=True)\n",
    "metadata = metadata[keep].drop_duplicates()\n",
    "display(metadata.head())"
   ]
  },
  {
   "cell_type": "markdown",
   "id": "60f8ad8e",
   "metadata": {},
   "source": [
    "### Download the bodyweight data file(s)"
   ]
  },
  {
   "cell_type": "markdown",
   "id": "52a8eee9",
   "metadata": {},
   "source": [
    "To download the data files we use the [Gen3 data client](https://github.com/uc-cdis/cdis-data-client/releases/). This is done using the `GUID` which can be obtained from the code above or through the online portal."
   ]
  },
  {
   "cell_type": "code",
   "execution_count": 18,
   "id": "db5d0a3b",
   "metadata": {},
   "outputs": [
    {
     "name": "stdout",
     "output_type": "stream",
     "text": [
      "Run the following commands using the gen3 client to download the data: \n",
      "\n",
      "cd C:\\Users\\15177\\OneDrive - Michigan State University\\Documents\\Projects\\FAIRTox\\DH_RealData\\SRC_TZES004911_PRJ161\\tmp_download_prj161_vis_080223\n",
      "\n",
      "gen3-client download-single --profile=\"fairtox\" --guid=\"dg.TDC/7e994d69-e5ce-4bb0-972d-1b3d87b1607c\"\n"
     ]
    }
   ],
   "source": [
    "print(\"Run the following commands using the gen3 client to download the data: \\n\")\n",
    "print(\"cd \" + folder_path + '\\n')\n",
    "profile = \"fairtox\" # You will have set this up when uploading the data files\n",
    "file_identifier = str(bw_objectid.item())\n",
    "cmd = r'gen3-client download-single --profile=\"{}\" --guid=\"{}\"'.format(profile, file_identifier)\n",
    "print(cmd)"
   ]
  },
  {
   "cell_type": "markdown",
   "id": "5bab4d91",
   "metadata": {},
   "source": [
    "### Prepare the data for plotting"
   ]
  },
  {
   "cell_type": "code",
   "execution_count": 19,
   "id": "b66acd8a",
   "metadata": {},
   "outputs": [
    {
     "data": {
      "text/html": [
       "<div>\n",
       "<style scoped>\n",
       "    .dataframe tbody tr th:only-of-type {\n",
       "        vertical-align: middle;\n",
       "    }\n",
       "\n",
       "    .dataframe tbody tr th {\n",
       "        vertical-align: top;\n",
       "    }\n",
       "\n",
       "    .dataframe thead th {\n",
       "        text-align: right;\n",
       "    }\n",
       "</style>\n",
       "<table border=\"1\" class=\"dataframe\">\n",
       "  <thead>\n",
       "    <tr style=\"text-align: right;\">\n",
       "      <th></th>\n",
       "      <th>subjects.submitter_id</th>\n",
       "      <th>days_relative_first_dose</th>\n",
       "      <th>measurement_ZT</th>\n",
       "      <th>value</th>\n",
       "      <th>is_terminal</th>\n",
       "      <th>comment</th>\n",
       "    </tr>\n",
       "  </thead>\n",
       "  <tbody>\n",
       "    <tr>\n",
       "      <th>0</th>\n",
       "      <td>M01</td>\n",
       "      <td>0</td>\n",
       "      <td>01:00:00</td>\n",
       "      <td>17.2</td>\n",
       "      <td>False</td>\n",
       "      <td>NaN</td>\n",
       "    </tr>\n",
       "    <tr>\n",
       "      <th>1</th>\n",
       "      <td>M02</td>\n",
       "      <td>0</td>\n",
       "      <td>01:00:00</td>\n",
       "      <td>15.9</td>\n",
       "      <td>False</td>\n",
       "      <td>NaN</td>\n",
       "    </tr>\n",
       "    <tr>\n",
       "      <th>2</th>\n",
       "      <td>M03</td>\n",
       "      <td>0</td>\n",
       "      <td>01:00:00</td>\n",
       "      <td>16.1</td>\n",
       "      <td>False</td>\n",
       "      <td>NaN</td>\n",
       "    </tr>\n",
       "    <tr>\n",
       "      <th>3</th>\n",
       "      <td>M04</td>\n",
       "      <td>0</td>\n",
       "      <td>01:00:00</td>\n",
       "      <td>17.2</td>\n",
       "      <td>False</td>\n",
       "      <td>NaN</td>\n",
       "    </tr>\n",
       "    <tr>\n",
       "      <th>4</th>\n",
       "      <td>M05</td>\n",
       "      <td>0</td>\n",
       "      <td>01:00:00</td>\n",
       "      <td>15.7</td>\n",
       "      <td>False</td>\n",
       "      <td>NaN</td>\n",
       "    </tr>\n",
       "  </tbody>\n",
       "</table>\n",
       "</div>"
      ],
      "text/plain": [
       "  subjects.submitter_id  days_relative_first_dose measurement_ZT  value  \\\n",
       "0                   M01                         0       01:00:00   17.2   \n",
       "1                   M02                         0       01:00:00   15.9   \n",
       "2                   M03                         0       01:00:00   16.1   \n",
       "3                   M04                         0       01:00:00   17.2   \n",
       "4                   M05                         0       01:00:00   15.7   \n",
       "\n",
       "   is_terminal  comment  \n",
       "0        False      NaN  \n",
       "1        False      NaN  \n",
       "2        False      NaN  \n",
       "3        False      NaN  \n",
       "4        False      NaN  "
      ]
     },
     "execution_count": 19,
     "metadata": {},
     "output_type": "execute_result"
    }
   ],
   "source": [
    "df = pd.read_table(folder_path + '/' + bw_filename.item())\n",
    "df.head()"
   ]
  },
  {
   "cell_type": "code",
   "execution_count": 20,
   "id": "cccf041c",
   "metadata": {},
   "outputs": [
    {
     "data": {
      "text/html": [
       "<div>\n",
       "<style scoped>\n",
       "    .dataframe tbody tr th:only-of-type {\n",
       "        vertical-align: middle;\n",
       "    }\n",
       "\n",
       "    .dataframe tbody tr th {\n",
       "        vertical-align: top;\n",
       "    }\n",
       "\n",
       "    .dataframe thead th {\n",
       "        text-align: right;\n",
       "    }\n",
       "</style>\n",
       "<table border=\"1\" class=\"dataframe\">\n",
       "  <thead>\n",
       "    <tr style=\"text-align: right;\">\n",
       "      <th></th>\n",
       "      <th>subjects.submitter_id</th>\n",
       "      <th>sex</th>\n",
       "      <th>dose_amount</th>\n",
       "      <th>test_article_administration_zt</th>\n",
       "      <th>test_article_dtxsid</th>\n",
       "      <th>test_article_name</th>\n",
       "      <th>vehicle_dtxsid</th>\n",
       "      <th>vehicle_name</th>\n",
       "      <th>strain</th>\n",
       "      <th>days_relative_first_dose</th>\n",
       "      <th>measurement_ZT</th>\n",
       "      <th>value</th>\n",
       "      <th>is_terminal</th>\n",
       "      <th>comment</th>\n",
       "    </tr>\n",
       "  </thead>\n",
       "  <tbody>\n",
       "    <tr>\n",
       "      <th>0</th>\n",
       "      <td>M37</td>\n",
       "      <td>male</td>\n",
       "      <td>0.1</td>\n",
       "      <td>0</td>\n",
       "      <td>DTXSID2021315</td>\n",
       "      <td>TCDD</td>\n",
       "      <td>DTXSID9033971</td>\n",
       "      <td>Sesame Oil</td>\n",
       "      <td>C57BL/6NCrl</td>\n",
       "      <td>0</td>\n",
       "      <td>01:00:00</td>\n",
       "      <td>13.2</td>\n",
       "      <td>False</td>\n",
       "      <td>NaN</td>\n",
       "    </tr>\n",
       "    <tr>\n",
       "      <th>1</th>\n",
       "      <td>M37</td>\n",
       "      <td>male</td>\n",
       "      <td>0.1</td>\n",
       "      <td>0</td>\n",
       "      <td>DTXSID2021315</td>\n",
       "      <td>TCDD</td>\n",
       "      <td>DTXSID9033971</td>\n",
       "      <td>Sesame Oil</td>\n",
       "      <td>C57BL/6NCrl</td>\n",
       "      <td>1</td>\n",
       "      <td>01:00:00</td>\n",
       "      <td>14.2</td>\n",
       "      <td>False</td>\n",
       "      <td>NaN</td>\n",
       "    </tr>\n",
       "    <tr>\n",
       "      <th>2</th>\n",
       "      <td>M37</td>\n",
       "      <td>male</td>\n",
       "      <td>0.1</td>\n",
       "      <td>0</td>\n",
       "      <td>DTXSID2021315</td>\n",
       "      <td>TCDD</td>\n",
       "      <td>DTXSID9033971</td>\n",
       "      <td>Sesame Oil</td>\n",
       "      <td>C57BL/6NCrl</td>\n",
       "      <td>2</td>\n",
       "      <td>01:00:00</td>\n",
       "      <td>14.7</td>\n",
       "      <td>False</td>\n",
       "      <td>NaN</td>\n",
       "    </tr>\n",
       "    <tr>\n",
       "      <th>3</th>\n",
       "      <td>M37</td>\n",
       "      <td>male</td>\n",
       "      <td>0.1</td>\n",
       "      <td>0</td>\n",
       "      <td>DTXSID2021315</td>\n",
       "      <td>TCDD</td>\n",
       "      <td>DTXSID9033971</td>\n",
       "      <td>Sesame Oil</td>\n",
       "      <td>C57BL/6NCrl</td>\n",
       "      <td>3</td>\n",
       "      <td>01:00:00</td>\n",
       "      <td>15.5</td>\n",
       "      <td>False</td>\n",
       "      <td>NaN</td>\n",
       "    </tr>\n",
       "    <tr>\n",
       "      <th>4</th>\n",
       "      <td>M37</td>\n",
       "      <td>male</td>\n",
       "      <td>0.1</td>\n",
       "      <td>0</td>\n",
       "      <td>DTXSID2021315</td>\n",
       "      <td>TCDD</td>\n",
       "      <td>DTXSID9033971</td>\n",
       "      <td>Sesame Oil</td>\n",
       "      <td>C57BL/6NCrl</td>\n",
       "      <td>4</td>\n",
       "      <td>01:00:00</td>\n",
       "      <td>16.3</td>\n",
       "      <td>False</td>\n",
       "      <td>NaN</td>\n",
       "    </tr>\n",
       "  </tbody>\n",
       "</table>\n",
       "</div>"
      ],
      "text/plain": [
       "  subjects.submitter_id   sex  dose_amount  test_article_administration_zt  \\\n",
       "0                   M37  male          0.1                               0   \n",
       "1                   M37  male          0.1                               0   \n",
       "2                   M37  male          0.1                               0   \n",
       "3                   M37  male          0.1                               0   \n",
       "4                   M37  male          0.1                               0   \n",
       "\n",
       "  test_article_dtxsid test_article_name vehicle_dtxsid vehicle_name  \\\n",
       "0       DTXSID2021315              TCDD  DTXSID9033971   Sesame Oil   \n",
       "1       DTXSID2021315              TCDD  DTXSID9033971   Sesame Oil   \n",
       "2       DTXSID2021315              TCDD  DTXSID9033971   Sesame Oil   \n",
       "3       DTXSID2021315              TCDD  DTXSID9033971   Sesame Oil   \n",
       "4       DTXSID2021315              TCDD  DTXSID9033971   Sesame Oil   \n",
       "\n",
       "        strain  days_relative_first_dose measurement_ZT  value  is_terminal  \\\n",
       "0  C57BL/6NCrl                         0       01:00:00   13.2        False   \n",
       "1  C57BL/6NCrl                         1       01:00:00   14.2        False   \n",
       "2  C57BL/6NCrl                         2       01:00:00   14.7        False   \n",
       "3  C57BL/6NCrl                         3       01:00:00   15.5        False   \n",
       "4  C57BL/6NCrl                         4       01:00:00   16.3        False   \n",
       "\n",
       "   comment  \n",
       "0      NaN  \n",
       "1      NaN  \n",
       "2      NaN  \n",
       "3      NaN  \n",
       "4      NaN  "
      ]
     },
     "execution_count": 20,
     "metadata": {},
     "output_type": "execute_result"
    }
   ],
   "source": [
    "merged_df = pd.merge(metadata, df, on='subjects.submitter_id')\n",
    "merged_df.head()"
   ]
  },
  {
   "cell_type": "markdown",
   "id": "7969ca39",
   "metadata": {},
   "source": [
    "---\n",
    "## Plotly interactive bodyweight visualization"
   ]
  },
  {
   "cell_type": "code",
   "execution_count": 25,
   "id": "fbc8d78b",
   "metadata": {},
   "outputs": [
    {
     "data": {
      "application/vnd.plotly.v1+json": {
       "config": {
        "plotlyServerURL": "https://plot.ly"
       },
       "data": [
        {
         "error_y": {
          "array": [
           0.6305739106481676,
           0.6150880695748645,
           0.5740800477586451,
           0.5873144571734449,
           0.5374838498865703,
           0.435181245057025,
           0.37932688922470154,
           0.34600899153377823,
           0.3045944480416178,
           0.23733343736993107,
           0.3554253233716289,
           0.3027650354097495,
           0.2911238334794202,
           0.3758118783397281,
           0.3611111111111116,
           0.3918537772129412,
           0.38042374035044446,
           0.47045420658532433,
           0.45899783479410766,
           0.4062019202317981,
           0.44569269155847957,
           0.4307615994440029,
           0.4089281382128435,
           0.4062019202317981,
           0.4443402655678845,
           0.5045472239885654,
           0.4014249311000027,
           0.45157474806107084,
           0.4958158260214509
          ],
          "type": "data"
         },
         "mode": "markers+lines",
         "name": "Dose: 0.0, Sex: Male",
         "text": "Dose: 0.0, Sex: Male",
         "type": "scatter",
         "x": [
          0,
          1,
          2,
          3,
          4,
          5,
          6,
          7,
          8,
          9,
          10,
          11,
          12,
          13,
          14,
          15,
          16,
          17,
          18,
          19,
          20,
          21,
          22,
          23,
          24,
          25,
          26,
          27,
          28
         ],
         "y": [
          0,
          0.6444444444444422,
          1.3222222222222193,
          1.9333333333333318,
          2.744444444444442,
          2.933333333333332,
          3.1111111111111125,
          3.511111111111111,
          4.011111111111111,
          4.188888888888888,
          4.588888888888887,
          4.344444444444443,
          4.666666666666666,
          4.999999999999998,
          5.02222222222222,
          5.188888888888888,
          5.477777777777776,
          5.433333333333332,
          5.299999999999999,
          5.244444444444442,
          5.455555555555554,
          5.511111111111111,
          5.744444444444442,
          5.777777777777777,
          5.8888888888888875,
          5.822222222222221,
          5.955555555555554,
          6.166666666666666,
          6.277777777777777
         ]
        },
        {
         "error_y": {
          "array": [
           0.7206178761707133,
           0.7817557005283953,
           0.8521396454271107,
           0.7965202096899008,
           0.6632784269105533,
           0.7563517047211352,
           0.645879627970383,
           0.6359594676112973,
           0.5367368254117527,
           0.4853406592853678,
           0.5560275772537424,
           0.5270462766947299,
           0.617291975256482,
           0.6186903731090193,
           0.5945223209631886,
           0.5679180083405799,
           0.6163913299235629,
           0.5791383552899091,
           0.6825198409814425,
           0.6442288911540145,
           0.7186020379103363,
           0.6463095615745725,
           0.6775728287583594,
           0.6245245104858023,
           0.6089608635481705,
           0.6073876464716907,
           0.6992279693250404,
           0.6827459083060424,
           0.7591621437438958
          ],
          "type": "data"
         },
         "mode": "markers+lines",
         "name": "Dose: 0.01, Sex: Male",
         "text": "Dose: 0.01, Sex: Male",
         "type": "scatter",
         "x": [
          0,
          1,
          2,
          3,
          4,
          5,
          6,
          7,
          8,
          9,
          10,
          11,
          12,
          13,
          14,
          15,
          16,
          17,
          18,
          19,
          20,
          21,
          22,
          23,
          24,
          25,
          26,
          27,
          28
         ],
         "y": [
          0,
          0.7666666666666657,
          1.5666666666666682,
          2.0444444444444443,
          2.988888888888887,
          2.9222222222222207,
          2.988888888888887,
          3.2444444444444436,
          3.666666666666668,
          3.677777777777777,
          4.077777777777779,
          4.177777777777777,
          4.18888888888889,
          4.444444444444446,
          4.522222222222222,
          4.866666666666667,
          4.888888888888889,
          4.900000000000002,
          4.977777777777778,
          5.166666666666668,
          5.544444444444444,
          5.333333333333336,
          5.333333333333336,
          5.555555555555554,
          5.577777777777779,
          5.866666666666667,
          5.455555555555556,
          5.966666666666669,
          6.133333333333333
         ]
        },
        {
         "error_y": {
          "array": [
           0.39149917616550817,
           0.4234266447175834,
           0.43422273399264705,
           0.4609772228646442,
           0.46755867130351786,
           0.4570774038239256,
           0.4176654695380553,
           0.49266220616434153,
           0.39514804226851724,
           0.38167920082928114,
           0.39007754847871046,
           0.4099457958749615,
           0.3252254678500314,
           0.36481011465293317,
           0.34761089357690317,
           0.2779443944744218,
           0.28480012484391815,
           0.30479703831878247,
           0.292393274820906,
           0.32489314482696513,
           0.2861515613261315,
           0.32890578034701545,
           0.3972125095937659,
           0.37826765623442676,
           0.37197338282579323,
           0.3384788047050624,
           0.3383419995241135,
           0.37822685726367405,
           0.3630290945045452
          ],
          "type": "data"
         },
         "mode": "markers+lines",
         "name": "Dose: 0.03, Sex: Male",
         "text": "Dose: 0.03, Sex: Male",
         "type": "scatter",
         "x": [
          0,
          1,
          2,
          3,
          4,
          5,
          6,
          7,
          8,
          9,
          10,
          11,
          12,
          13,
          14,
          15,
          16,
          17,
          18,
          19,
          20,
          21,
          22,
          23,
          24,
          25,
          26,
          27,
          28
         ],
         "y": [
          0,
          0.8666666666666689,
          1.7555555555555582,
          2.377777777777778,
          3.1444444444444475,
          3.6222222222222253,
          3.5111111111111146,
          3.700000000000001,
          4.322222222222225,
          4.46666666666667,
          3.8000000000000025,
          4.6777777777777825,
          5.1,
          5.122222222222225,
          5.311111111111112,
          5.333333333333334,
          5.444444444444445,
          5.388888888888891,
          5.4555555555555575,
          5.611111111111116,
          5.85555555555556,
          5.888888888888891,
          6.1111111111111125,
          6.233333333333336,
          6.522222222222224,
          6.666666666666666,
          6.722222222222223,
          6.911111111111113,
          6.988888888888889
         ]
        },
        {
         "error_y": {
          "array": [
           0.5783384032225211,
           0.6476691351623726,
           0.6547075494513882,
           0.631894076136808,
           0.6134551006339642,
           0.6485263446870034,
           0.5929628472945039,
           0.5152609311411975,
           0.5335936864527371,
           0.4965000963534775,
           0.5849976258261415,
           0.45443629441211275,
           0.46211403648455596,
           0.5063790606713706,
           0.5296166794583551,
           0.5099019513592783,
           0.4612115017892721,
           0.5136410813922767,
           0.5120161069997315,
           0.5890199015690764,
           0.516965266163746,
           0.5242572641483814,
           0.459199518217152,
           0.4679875486367262,
           0.45765100725819957,
           0.47251624833255385,
           0.45044559556943325,
           0.5326674083339757,
           0.5030462757595523
          ],
          "type": "data"
         },
         "mode": "markers+lines",
         "name": "Dose: 0.1, Sex: Male",
         "text": "Dose: 0.1, Sex: Male",
         "type": "scatter",
         "x": [
          0,
          1,
          2,
          3,
          4,
          5,
          6,
          7,
          8,
          9,
          10,
          11,
          12,
          13,
          14,
          15,
          16,
          17,
          18,
          19,
          20,
          21,
          22,
          23,
          24,
          25,
          26,
          27,
          28
         ],
         "y": [
          0,
          0.81111111111111,
          1.5,
          2.2666666666666657,
          2.9777777777777743,
          2.8999999999999986,
          3.333333333333332,
          3.333333333333332,
          3.9222222222222207,
          4.166666666666664,
          4.022222222222222,
          4.566666666666666,
          4.877777777777776,
          4.911111111111111,
          5.177777777777777,
          5.222222222222221,
          5.533333333333331,
          5.677777777777777,
          5.677777777777777,
          5.688888888888886,
          5.911111111111111,
          5.966666666666665,
          6.111111111111111,
          6.066666666666666,
          6.255555555555553,
          6.577777777777776,
          6.444444444444443,
          6.766666666666666,
          6.722222222222221
         ]
        },
        {
         "error_y": {
          "array": [
           0.5624296938229943,
           0.5423997887759522,
           0.5163977794943223,
           0.4856267428111157,
           0.40824829046386296,
           0.46231436047481206,
           0.3508367423077096,
           0.27711030918533175,
           0.3011295607303926,
           0.21984843263788165,
           0.21822799268224854,
           0.21666666666666665,
           0.2478300891466165,
           0.317591242843477,
           0.3151033536108275,
           0.2837143407734157,
           0.36544408972652614,
           0.36200743461433155,
           0.3774917217635374,
           0.3872186354050359,
           0.38622100754188243,
           0.3713505548237423,
           0.39157800414902405,
           0.38224483137265697,
           0.3931512447323144,
           0.39585038949607926,
           0.39818259971531833,
           0.4310123025370294,
           0.4265856404544996
          ],
          "type": "data"
         },
         "mode": "markers+lines",
         "name": "Dose: 0.3, Sex: Male",
         "text": "Dose: 0.3, Sex: Male",
         "type": "scatter",
         "x": [
          0,
          1,
          2,
          3,
          4,
          5,
          6,
          7,
          8,
          9,
          10,
          11,
          12,
          13,
          14,
          15,
          16,
          17,
          18,
          19,
          20,
          21,
          22,
          23,
          24,
          25,
          26,
          27,
          28
         ],
         "y": [
          0,
          0.7333333333333361,
          1.711111111111114,
          2.4444444444444446,
          3.2444444444444454,
          2.988888888888889,
          3.333333333333334,
          3.888888888888891,
          4.188888888888892,
          4.344444444444447,
          4.666666666666666,
          4.6444444444444475,
          4.822222222222225,
          4.833333333333334,
          5.166666666666666,
          5.1,
          5.200000000000001,
          5.400000000000004,
          5.511111111111115,
          5.700000000000001,
          5.6777777777777825,
          5.866666666666669,
          6.1444444444444475,
          6.211111111111114,
          6.288888888888893,
          6.433333333333335,
          6.35555555555556,
          6.6,
          6.933333333333335
         ]
        },
        {
         "error_y": {
          "array": [
           0.36328406053937395,
           0.4731037523565284,
           0.4112987559751024,
           0.37790030692671933,
           0.36059792594735024,
           0.32574700476153445,
           0.3492496365667048,
           0.36404788723124176,
           0.4254989808637028,
           0.3876965849415088,
           0.4139168521500751,
           0.3809507275096391,
           0.4113362746758394,
           0.35555555555555546,
           0.3608546097567775,
           0.3756475889861546,
           0.3916174121906022,
           0.31140858793870024,
           0.38421798082614983,
           0.4269110989652916,
           0.33573210954973615,
           0.3892458679022966,
           0.36209268304000725,
           0.34858620982335536,
           0.4133572275052953,
           0.3495146546672405,
           0.37822685726367383,
           0.4053271807525251,
           0.3668349782048705
          ],
          "type": "data"
         },
         "mode": "markers+lines",
         "name": "Dose: 1.0, Sex: Male",
         "text": "Dose: 1.0, Sex: Male",
         "type": "scatter",
         "x": [
          0,
          1,
          2,
          3,
          4,
          5,
          6,
          7,
          8,
          9,
          10,
          11,
          12,
          13,
          14,
          15,
          16,
          17,
          18,
          19,
          20,
          21,
          22,
          23,
          24,
          25,
          26,
          27,
          28
         ],
         "y": [
          0,
          0.6666666666666661,
          1.4444444444444429,
          2.1999999999999993,
          2.6999999999999993,
          3.211111111111112,
          3.3999999999999986,
          3.488888888888887,
          3.822222222222223,
          3.8888888888888893,
          4.322222222222223,
          4.355555555555558,
          4.600000000000001,
          4.588888888888889,
          4.822222222222223,
          5.111111111111111,
          5.288888888888888,
          5.088888888888889,
          5.233333333333331,
          5.300000000000001,
          5.522222222222222,
          5.555555555555554,
          5.81111111111111,
          6.155555555555555,
          5.988888888888887,
          6.166666666666664,
          6.244444444444447,
          6.233333333333331,
          6.355555555555554
         ]
        },
        {
         "error_y": {
          "array": [
           0.49074772881118217,
           0.5684883572648425,
           0.5236387407976967,
           0.47192801292434,
           0.4478342947514806,
           0.4050986772029806,
           0.3767961101736259,
           0.30932024237944566,
           0.2911238334794199,
           0.29334175072097984,
           0.32092651364524843,
           0.2769431906803231,
           0.2764412289916609,
           0.27577052546646363,
           0.25172246131576,
           0.31710495984067477,
           0.31919072049384906,
           0.3452052529534664,
           0.29059326290271165,
           0.3171049598406738,
           0.30776975521032307,
           0.31155721984022083,
           0.2708012801545323,
           0.2766086507667694,
           0.3125956643696712,
           0.3108133495710971,
           0.3266458799130912,
           0.31170578086901224,
           0.23869501176600996
          ],
          "type": "data"
         },
         "mode": "markers+lines",
         "name": "Dose: 3.0, Sex: Male",
         "text": "Dose: 3.0, Sex: Male",
         "type": "scatter",
         "x": [
          0,
          1,
          2,
          3,
          4,
          5,
          6,
          7,
          8,
          9,
          10,
          11,
          12,
          13,
          14,
          15,
          16,
          17,
          18,
          19,
          20,
          21,
          22,
          23,
          24,
          25,
          26,
          27,
          28
         ],
         "y": [
          0,
          0.5555555555555554,
          1.4111111111111079,
          2.088888888888885,
          2.6999999999999993,
          2.7444444444444436,
          3.022222222222222,
          3.6555555555555515,
          3.7222222222222214,
          3.8888888888888893,
          4.288888888888888,
          4.222222222222221,
          4.62222222222222,
          4.844444444444445,
          4.922222222222221,
          5.066666666666666,
          4.988888888888887,
          4.899999999999999,
          5.133333333333333,
          5.099999999999998,
          5.399999999999999,
          5.555555555555554,
          5.566666666666666,
          5.755555555555553,
          5.944444444444443,
          5.788888888888888,
          5.922222222222221,
          6.188888888888886,
          6.211111111111109
         ]
        },
        {
         "error_y": {
          "array": [
           0.4769048873779112,
           0.4860396772910976,
           0.4600053676552099,
           0.4700604111425006,
           0.476224866483041,
           0.4848953049784288,
           0.4887626099538395,
           0.3688487260599518,
           0.4330483393312244,
           0.3840572873934301,
           0.4272001872658768,
           0.4403632058726297,
           0.4307615994440028,
           0.39957539191892266,
           0.46218082079540146,
           0.42255104155125406,
           0.4600724580614088,
           0.5118352358347119,
           0.44141327462180585,
           0.4728753653037034,
           0.4729079987784534,
           0.45643546458763845,
           0.4678886118366419,
           0.5334490615181249,
           0.5033529552221426,
           0.5016023706798093,
           0.493319569377563,
           0.5394899282804538,
           0.5149014049214895
          ],
          "type": "data"
         },
         "mode": "markers+lines",
         "name": "Dose: 10.0, Sex: Male",
         "text": "Dose: 10.0, Sex: Male",
         "type": "scatter",
         "x": [
          0,
          1,
          2,
          3,
          4,
          5,
          6,
          7,
          8,
          9,
          10,
          11,
          12,
          13,
          14,
          15,
          16,
          17,
          18,
          19,
          20,
          21,
          22,
          23,
          24,
          25,
          26,
          27,
          28
         ],
         "y": [
          0,
          0.7666666666666675,
          1.400000000000004,
          2.288888888888893,
          2.7666666666666675,
          2.866666666666669,
          2.877777777777778,
          3.155555555555557,
          3.8222222222222246,
          3.811111111111112,
          4.077777777777781,
          4.322222222222225,
          4.47777777777778,
          4.8000000000000025,
          4.844444444444447,
          5.1,
          5.211111111111114,
          4.933333333333335,
          5.08888888888889,
          5.244444444444445,
          5.4222222222222225,
          5.344444444444447,
          5.433333333333335,
          5.688888888888892,
          5.622222222222225,
          5.500000000000002,
          5.522222222222224,
          5.655555555555557,
          5.788888888888893
         ]
        },
        {
         "error_y": {
          "array": [
           0.6148622248565572,
           0.7348049207816576,
           0.5217787715303807,
           0.47006041114250086,
           0.4431578600102776,
           0.43857231902201194,
           0.3811532208676422,
           0.30046260628866556,
           0.25718082220228233,
           0.286636518655876,
           0.24381231397213035,
           0.23379583791667594,
           0.26562295750848697,
           0.2598076211353327,
           0.27068728255732977,
           0.2327373340628147,
           0.3034269289871421,
           0.35512126254437604,
           0.36302909450454535,
           0.3022038393102033,
           0.352941781650413,
           0.3580209663492892,
           0.32834226346193757,
           0.31363067058383226,
           0.27688746209726917,
           0.36582394740342994,
           0.3740832415451651,
           0.49256822551817453,
           0.5845225972250062
          ],
          "type": "data"
         },
         "mode": "markers+lines",
         "name": "Dose: 30.0, Sex: Male",
         "text": "Dose: 30.0, Sex: Male",
         "type": "scatter",
         "x": [
          0,
          1,
          2,
          3,
          4,
          5,
          6,
          7,
          8,
          9,
          10,
          11,
          12,
          13,
          14,
          15,
          16,
          17,
          18,
          19,
          20,
          21,
          22,
          23,
          24,
          25,
          26,
          27,
          28
         ],
         "y": [
          0,
          0.3888888888888875,
          1.0111111111111093,
          1.8777777777777782,
          2.366666666666669,
          2.3555555555555525,
          2.4666666666666632,
          2.9000000000000004,
          3.2111111111111104,
          3.288888888888886,
          3.533333333333333,
          3.5888888888888903,
          3.5666666666666647,
          3.933333333333332,
          3.844444444444443,
          3.866666666666669,
          3.7555555555555546,
          3.700000000000001,
          3.955555555555554,
          3.788888888888886,
          3.9777777777777796,
          3.877777777777778,
          3.9111111111111097,
          3.9111111111111097,
          3.9000000000000004,
          3.788888888888886,
          3.544444444444446,
          3.455555555555554,
          3.433333333333332
         ]
        }
       ],
       "layout": {
        "legend": {
         "bordercolor": "black",
         "borderwidth": 1
        },
        "paper_bgcolor": "white",
        "plot_bgcolor": "white",
        "showlegend": true,
        "template": {
         "data": {
          "bar": [
           {
            "error_x": {
             "color": "#2a3f5f"
            },
            "error_y": {
             "color": "#2a3f5f"
            },
            "marker": {
             "line": {
              "color": "#E5ECF6",
              "width": 0.5
             },
             "pattern": {
              "fillmode": "overlay",
              "size": 10,
              "solidity": 0.2
             }
            },
            "type": "bar"
           }
          ],
          "barpolar": [
           {
            "marker": {
             "line": {
              "color": "#E5ECF6",
              "width": 0.5
             },
             "pattern": {
              "fillmode": "overlay",
              "size": 10,
              "solidity": 0.2
             }
            },
            "type": "barpolar"
           }
          ],
          "carpet": [
           {
            "aaxis": {
             "endlinecolor": "#2a3f5f",
             "gridcolor": "white",
             "linecolor": "white",
             "minorgridcolor": "white",
             "startlinecolor": "#2a3f5f"
            },
            "baxis": {
             "endlinecolor": "#2a3f5f",
             "gridcolor": "white",
             "linecolor": "white",
             "minorgridcolor": "white",
             "startlinecolor": "#2a3f5f"
            },
            "type": "carpet"
           }
          ],
          "choropleth": [
           {
            "colorbar": {
             "outlinewidth": 0,
             "ticks": ""
            },
            "type": "choropleth"
           }
          ],
          "contour": [
           {
            "colorbar": {
             "outlinewidth": 0,
             "ticks": ""
            },
            "colorscale": [
             [
              0,
              "#0d0887"
             ],
             [
              0.1111111111111111,
              "#46039f"
             ],
             [
              0.2222222222222222,
              "#7201a8"
             ],
             [
              0.3333333333333333,
              "#9c179e"
             ],
             [
              0.4444444444444444,
              "#bd3786"
             ],
             [
              0.5555555555555556,
              "#d8576b"
             ],
             [
              0.6666666666666666,
              "#ed7953"
             ],
             [
              0.7777777777777778,
              "#fb9f3a"
             ],
             [
              0.8888888888888888,
              "#fdca26"
             ],
             [
              1,
              "#f0f921"
             ]
            ],
            "type": "contour"
           }
          ],
          "contourcarpet": [
           {
            "colorbar": {
             "outlinewidth": 0,
             "ticks": ""
            },
            "type": "contourcarpet"
           }
          ],
          "heatmap": [
           {
            "colorbar": {
             "outlinewidth": 0,
             "ticks": ""
            },
            "colorscale": [
             [
              0,
              "#0d0887"
             ],
             [
              0.1111111111111111,
              "#46039f"
             ],
             [
              0.2222222222222222,
              "#7201a8"
             ],
             [
              0.3333333333333333,
              "#9c179e"
             ],
             [
              0.4444444444444444,
              "#bd3786"
             ],
             [
              0.5555555555555556,
              "#d8576b"
             ],
             [
              0.6666666666666666,
              "#ed7953"
             ],
             [
              0.7777777777777778,
              "#fb9f3a"
             ],
             [
              0.8888888888888888,
              "#fdca26"
             ],
             [
              1,
              "#f0f921"
             ]
            ],
            "type": "heatmap"
           }
          ],
          "heatmapgl": [
           {
            "colorbar": {
             "outlinewidth": 0,
             "ticks": ""
            },
            "colorscale": [
             [
              0,
              "#0d0887"
             ],
             [
              0.1111111111111111,
              "#46039f"
             ],
             [
              0.2222222222222222,
              "#7201a8"
             ],
             [
              0.3333333333333333,
              "#9c179e"
             ],
             [
              0.4444444444444444,
              "#bd3786"
             ],
             [
              0.5555555555555556,
              "#d8576b"
             ],
             [
              0.6666666666666666,
              "#ed7953"
             ],
             [
              0.7777777777777778,
              "#fb9f3a"
             ],
             [
              0.8888888888888888,
              "#fdca26"
             ],
             [
              1,
              "#f0f921"
             ]
            ],
            "type": "heatmapgl"
           }
          ],
          "histogram": [
           {
            "marker": {
             "pattern": {
              "fillmode": "overlay",
              "size": 10,
              "solidity": 0.2
             }
            },
            "type": "histogram"
           }
          ],
          "histogram2d": [
           {
            "colorbar": {
             "outlinewidth": 0,
             "ticks": ""
            },
            "colorscale": [
             [
              0,
              "#0d0887"
             ],
             [
              0.1111111111111111,
              "#46039f"
             ],
             [
              0.2222222222222222,
              "#7201a8"
             ],
             [
              0.3333333333333333,
              "#9c179e"
             ],
             [
              0.4444444444444444,
              "#bd3786"
             ],
             [
              0.5555555555555556,
              "#d8576b"
             ],
             [
              0.6666666666666666,
              "#ed7953"
             ],
             [
              0.7777777777777778,
              "#fb9f3a"
             ],
             [
              0.8888888888888888,
              "#fdca26"
             ],
             [
              1,
              "#f0f921"
             ]
            ],
            "type": "histogram2d"
           }
          ],
          "histogram2dcontour": [
           {
            "colorbar": {
             "outlinewidth": 0,
             "ticks": ""
            },
            "colorscale": [
             [
              0,
              "#0d0887"
             ],
             [
              0.1111111111111111,
              "#46039f"
             ],
             [
              0.2222222222222222,
              "#7201a8"
             ],
             [
              0.3333333333333333,
              "#9c179e"
             ],
             [
              0.4444444444444444,
              "#bd3786"
             ],
             [
              0.5555555555555556,
              "#d8576b"
             ],
             [
              0.6666666666666666,
              "#ed7953"
             ],
             [
              0.7777777777777778,
              "#fb9f3a"
             ],
             [
              0.8888888888888888,
              "#fdca26"
             ],
             [
              1,
              "#f0f921"
             ]
            ],
            "type": "histogram2dcontour"
           }
          ],
          "mesh3d": [
           {
            "colorbar": {
             "outlinewidth": 0,
             "ticks": ""
            },
            "type": "mesh3d"
           }
          ],
          "parcoords": [
           {
            "line": {
             "colorbar": {
              "outlinewidth": 0,
              "ticks": ""
             }
            },
            "type": "parcoords"
           }
          ],
          "pie": [
           {
            "automargin": true,
            "type": "pie"
           }
          ],
          "scatter": [
           {
            "fillpattern": {
             "fillmode": "overlay",
             "size": 10,
             "solidity": 0.2
            },
            "type": "scatter"
           }
          ],
          "scatter3d": [
           {
            "line": {
             "colorbar": {
              "outlinewidth": 0,
              "ticks": ""
             }
            },
            "marker": {
             "colorbar": {
              "outlinewidth": 0,
              "ticks": ""
             }
            },
            "type": "scatter3d"
           }
          ],
          "scattercarpet": [
           {
            "marker": {
             "colorbar": {
              "outlinewidth": 0,
              "ticks": ""
             }
            },
            "type": "scattercarpet"
           }
          ],
          "scattergeo": [
           {
            "marker": {
             "colorbar": {
              "outlinewidth": 0,
              "ticks": ""
             }
            },
            "type": "scattergeo"
           }
          ],
          "scattergl": [
           {
            "marker": {
             "colorbar": {
              "outlinewidth": 0,
              "ticks": ""
             }
            },
            "type": "scattergl"
           }
          ],
          "scattermapbox": [
           {
            "marker": {
             "colorbar": {
              "outlinewidth": 0,
              "ticks": ""
             }
            },
            "type": "scattermapbox"
           }
          ],
          "scatterpolar": [
           {
            "marker": {
             "colorbar": {
              "outlinewidth": 0,
              "ticks": ""
             }
            },
            "type": "scatterpolar"
           }
          ],
          "scatterpolargl": [
           {
            "marker": {
             "colorbar": {
              "outlinewidth": 0,
              "ticks": ""
             }
            },
            "type": "scatterpolargl"
           }
          ],
          "scatterternary": [
           {
            "marker": {
             "colorbar": {
              "outlinewidth": 0,
              "ticks": ""
             }
            },
            "type": "scatterternary"
           }
          ],
          "surface": [
           {
            "colorbar": {
             "outlinewidth": 0,
             "ticks": ""
            },
            "colorscale": [
             [
              0,
              "#0d0887"
             ],
             [
              0.1111111111111111,
              "#46039f"
             ],
             [
              0.2222222222222222,
              "#7201a8"
             ],
             [
              0.3333333333333333,
              "#9c179e"
             ],
             [
              0.4444444444444444,
              "#bd3786"
             ],
             [
              0.5555555555555556,
              "#d8576b"
             ],
             [
              0.6666666666666666,
              "#ed7953"
             ],
             [
              0.7777777777777778,
              "#fb9f3a"
             ],
             [
              0.8888888888888888,
              "#fdca26"
             ],
             [
              1,
              "#f0f921"
             ]
            ],
            "type": "surface"
           }
          ],
          "table": [
           {
            "cells": {
             "fill": {
              "color": "#EBF0F8"
             },
             "line": {
              "color": "white"
             }
            },
            "header": {
             "fill": {
              "color": "#C8D4E3"
             },
             "line": {
              "color": "white"
             }
            },
            "type": "table"
           }
          ]
         },
         "layout": {
          "annotationdefaults": {
           "arrowcolor": "#2a3f5f",
           "arrowhead": 0,
           "arrowwidth": 1
          },
          "autotypenumbers": "strict",
          "coloraxis": {
           "colorbar": {
            "outlinewidth": 0,
            "ticks": ""
           }
          },
          "colorscale": {
           "diverging": [
            [
             0,
             "#8e0152"
            ],
            [
             0.1,
             "#c51b7d"
            ],
            [
             0.2,
             "#de77ae"
            ],
            [
             0.3,
             "#f1b6da"
            ],
            [
             0.4,
             "#fde0ef"
            ],
            [
             0.5,
             "#f7f7f7"
            ],
            [
             0.6,
             "#e6f5d0"
            ],
            [
             0.7,
             "#b8e186"
            ],
            [
             0.8,
             "#7fbc41"
            ],
            [
             0.9,
             "#4d9221"
            ],
            [
             1,
             "#276419"
            ]
           ],
           "sequential": [
            [
             0,
             "#0d0887"
            ],
            [
             0.1111111111111111,
             "#46039f"
            ],
            [
             0.2222222222222222,
             "#7201a8"
            ],
            [
             0.3333333333333333,
             "#9c179e"
            ],
            [
             0.4444444444444444,
             "#bd3786"
            ],
            [
             0.5555555555555556,
             "#d8576b"
            ],
            [
             0.6666666666666666,
             "#ed7953"
            ],
            [
             0.7777777777777778,
             "#fb9f3a"
            ],
            [
             0.8888888888888888,
             "#fdca26"
            ],
            [
             1,
             "#f0f921"
            ]
           ],
           "sequentialminus": [
            [
             0,
             "#0d0887"
            ],
            [
             0.1111111111111111,
             "#46039f"
            ],
            [
             0.2222222222222222,
             "#7201a8"
            ],
            [
             0.3333333333333333,
             "#9c179e"
            ],
            [
             0.4444444444444444,
             "#bd3786"
            ],
            [
             0.5555555555555556,
             "#d8576b"
            ],
            [
             0.6666666666666666,
             "#ed7953"
            ],
            [
             0.7777777777777778,
             "#fb9f3a"
            ],
            [
             0.8888888888888888,
             "#fdca26"
            ],
            [
             1,
             "#f0f921"
            ]
           ]
          },
          "colorway": [
           "#636efa",
           "#EF553B",
           "#00cc96",
           "#ab63fa",
           "#FFA15A",
           "#19d3f3",
           "#FF6692",
           "#B6E880",
           "#FF97FF",
           "#FECB52"
          ],
          "font": {
           "color": "#2a3f5f"
          },
          "geo": {
           "bgcolor": "white",
           "lakecolor": "white",
           "landcolor": "#E5ECF6",
           "showlakes": true,
           "showland": true,
           "subunitcolor": "white"
          },
          "hoverlabel": {
           "align": "left"
          },
          "hovermode": "closest",
          "mapbox": {
           "style": "light"
          },
          "paper_bgcolor": "white",
          "plot_bgcolor": "#E5ECF6",
          "polar": {
           "angularaxis": {
            "gridcolor": "white",
            "linecolor": "white",
            "ticks": ""
           },
           "bgcolor": "#E5ECF6",
           "radialaxis": {
            "gridcolor": "white",
            "linecolor": "white",
            "ticks": ""
           }
          },
          "scene": {
           "xaxis": {
            "backgroundcolor": "#E5ECF6",
            "gridcolor": "white",
            "gridwidth": 2,
            "linecolor": "white",
            "showbackground": true,
            "ticks": "",
            "zerolinecolor": "white"
           },
           "yaxis": {
            "backgroundcolor": "#E5ECF6",
            "gridcolor": "white",
            "gridwidth": 2,
            "linecolor": "white",
            "showbackground": true,
            "ticks": "",
            "zerolinecolor": "white"
           },
           "zaxis": {
            "backgroundcolor": "#E5ECF6",
            "gridcolor": "white",
            "gridwidth": 2,
            "linecolor": "white",
            "showbackground": true,
            "ticks": "",
            "zerolinecolor": "white"
           }
          },
          "shapedefaults": {
           "line": {
            "color": "#2a3f5f"
           }
          },
          "ternary": {
           "aaxis": {
            "gridcolor": "white",
            "linecolor": "white",
            "ticks": ""
           },
           "baxis": {
            "gridcolor": "white",
            "linecolor": "white",
            "ticks": ""
           },
           "bgcolor": "#E5ECF6",
           "caxis": {
            "gridcolor": "white",
            "linecolor": "white",
            "ticks": ""
           }
          },
          "title": {
           "x": 0.05
          },
          "xaxis": {
           "automargin": true,
           "gridcolor": "white",
           "linecolor": "white",
           "ticks": "",
           "title": {
            "standoff": 15
           },
           "zerolinecolor": "white",
           "zerolinewidth": 2
          },
          "yaxis": {
           "automargin": true,
           "gridcolor": "white",
           "linecolor": "white",
           "ticks": "",
           "title": {
            "standoff": 15
           },
           "zerolinecolor": "white",
           "zerolinewidth": 2
          }
         }
        },
        "xaxis": {
         "linecolor": "black",
         "linewidth": 1,
         "showline": true,
         "title": {
          "text": "Days Relative to First Dose"
         }
        },
        "yaxis": {
         "linecolor": "black",
         "linewidth": 1,
         "showline": true,
         "title": {
          "text": "Scaled average body weight"
         }
        }
       }
      },
      "text/html": [
       "<div>                            <div id=\"9afac6c5-fe45-4d8b-88e5-cd67d01a814e\" class=\"plotly-graph-div\" style=\"height:525px; width:100%;\"></div>            <script type=\"text/javascript\">                require([\"plotly\"], function(Plotly) {                    window.PLOTLYENV=window.PLOTLYENV || {};                                    if (document.getElementById(\"9afac6c5-fe45-4d8b-88e5-cd67d01a814e\")) {                    Plotly.newPlot(                        \"9afac6c5-fe45-4d8b-88e5-cd67d01a814e\",                        [{\"error_y\":{\"array\":[0.6305739106481676,0.6150880695748645,0.5740800477586451,0.5873144571734449,0.5374838498865703,0.435181245057025,0.37932688922470154,0.34600899153377823,0.3045944480416178,0.23733343736993107,0.3554253233716289,0.3027650354097495,0.2911238334794202,0.3758118783397281,0.3611111111111116,0.3918537772129412,0.38042374035044446,0.47045420658532433,0.45899783479410766,0.4062019202317981,0.44569269155847957,0.4307615994440029,0.4089281382128435,0.4062019202317981,0.4443402655678845,0.5045472239885654,0.4014249311000027,0.45157474806107084,0.4958158260214509],\"type\":\"data\"},\"mode\":\"markers+lines\",\"name\":\"Dose: 0.0, Sex: Male\",\"text\":\"Dose: 0.0, Sex: Male\",\"x\":[0,1,2,3,4,5,6,7,8,9,10,11,12,13,14,15,16,17,18,19,20,21,22,23,24,25,26,27,28],\"y\":[0.0,0.6444444444444422,1.3222222222222193,1.9333333333333318,2.744444444444442,2.933333333333332,3.1111111111111125,3.511111111111111,4.011111111111111,4.188888888888888,4.588888888888887,4.344444444444443,4.666666666666666,4.999999999999998,5.02222222222222,5.188888888888888,5.477777777777776,5.433333333333332,5.299999999999999,5.244444444444442,5.455555555555554,5.511111111111111,5.744444444444442,5.777777777777777,5.8888888888888875,5.822222222222221,5.955555555555554,6.166666666666666,6.277777777777777],\"type\":\"scatter\"},{\"error_y\":{\"array\":[0.7206178761707133,0.7817557005283953,0.8521396454271107,0.7965202096899008,0.6632784269105533,0.7563517047211352,0.645879627970383,0.6359594676112973,0.5367368254117527,0.4853406592853678,0.5560275772537424,0.5270462766947299,0.617291975256482,0.6186903731090193,0.5945223209631886,0.5679180083405799,0.6163913299235629,0.5791383552899091,0.6825198409814425,0.6442288911540145,0.7186020379103363,0.6463095615745725,0.6775728287583594,0.6245245104858023,0.6089608635481705,0.6073876464716907,0.6992279693250404,0.6827459083060424,0.7591621437438958],\"type\":\"data\"},\"mode\":\"markers+lines\",\"name\":\"Dose: 0.01, Sex: Male\",\"text\":\"Dose: 0.01, Sex: Male\",\"x\":[0,1,2,3,4,5,6,7,8,9,10,11,12,13,14,15,16,17,18,19,20,21,22,23,24,25,26,27,28],\"y\":[0.0,0.7666666666666657,1.5666666666666682,2.0444444444444443,2.988888888888887,2.9222222222222207,2.988888888888887,3.2444444444444436,3.666666666666668,3.677777777777777,4.077777777777779,4.177777777777777,4.18888888888889,4.444444444444446,4.522222222222222,4.866666666666667,4.888888888888889,4.900000000000002,4.977777777777778,5.166666666666668,5.544444444444444,5.333333333333336,5.333333333333336,5.555555555555554,5.577777777777779,5.866666666666667,5.455555555555556,5.966666666666669,6.133333333333333],\"type\":\"scatter\"},{\"error_y\":{\"array\":[0.39149917616550817,0.4234266447175834,0.43422273399264705,0.4609772228646442,0.46755867130351786,0.4570774038239256,0.4176654695380553,0.49266220616434153,0.39514804226851724,0.38167920082928114,0.39007754847871046,0.4099457958749615,0.3252254678500314,0.36481011465293317,0.34761089357690317,0.2779443944744218,0.28480012484391815,0.30479703831878247,0.292393274820906,0.32489314482696513,0.2861515613261315,0.32890578034701545,0.3972125095937659,0.37826765623442676,0.37197338282579323,0.3384788047050624,0.3383419995241135,0.37822685726367405,0.3630290945045452],\"type\":\"data\"},\"mode\":\"markers+lines\",\"name\":\"Dose: 0.03, Sex: Male\",\"text\":\"Dose: 0.03, Sex: Male\",\"x\":[0,1,2,3,4,5,6,7,8,9,10,11,12,13,14,15,16,17,18,19,20,21,22,23,24,25,26,27,28],\"y\":[0.0,0.8666666666666689,1.7555555555555582,2.377777777777778,3.1444444444444475,3.6222222222222253,3.5111111111111146,3.700000000000001,4.322222222222225,4.46666666666667,3.8000000000000025,4.6777777777777825,5.1,5.122222222222225,5.311111111111112,5.333333333333334,5.444444444444445,5.388888888888891,5.4555555555555575,5.611111111111116,5.85555555555556,5.888888888888891,6.1111111111111125,6.233333333333336,6.522222222222224,6.666666666666666,6.722222222222223,6.911111111111113,6.988888888888889],\"type\":\"scatter\"},{\"error_y\":{\"array\":[0.5783384032225211,0.6476691351623726,0.6547075494513882,0.631894076136808,0.6134551006339642,0.6485263446870034,0.5929628472945039,0.5152609311411975,0.5335936864527371,0.4965000963534775,0.5849976258261415,0.45443629441211275,0.46211403648455596,0.5063790606713706,0.5296166794583551,0.5099019513592783,0.4612115017892721,0.5136410813922767,0.5120161069997315,0.5890199015690764,0.516965266163746,0.5242572641483814,0.459199518217152,0.4679875486367262,0.45765100725819957,0.47251624833255385,0.45044559556943325,0.5326674083339757,0.5030462757595523],\"type\":\"data\"},\"mode\":\"markers+lines\",\"name\":\"Dose: 0.1, Sex: Male\",\"text\":\"Dose: 0.1, Sex: Male\",\"x\":[0,1,2,3,4,5,6,7,8,9,10,11,12,13,14,15,16,17,18,19,20,21,22,23,24,25,26,27,28],\"y\":[0.0,0.81111111111111,1.5,2.2666666666666657,2.9777777777777743,2.8999999999999986,3.333333333333332,3.333333333333332,3.9222222222222207,4.166666666666664,4.022222222222222,4.566666666666666,4.877777777777776,4.911111111111111,5.177777777777777,5.222222222222221,5.533333333333331,5.677777777777777,5.677777777777777,5.688888888888886,5.911111111111111,5.966666666666665,6.111111111111111,6.066666666666666,6.255555555555553,6.577777777777776,6.444444444444443,6.766666666666666,6.722222222222221],\"type\":\"scatter\"},{\"error_y\":{\"array\":[0.5624296938229943,0.5423997887759522,0.5163977794943223,0.4856267428111157,0.40824829046386296,0.46231436047481206,0.3508367423077096,0.27711030918533175,0.3011295607303926,0.21984843263788165,0.21822799268224854,0.21666666666666665,0.2478300891466165,0.317591242843477,0.3151033536108275,0.2837143407734157,0.36544408972652614,0.36200743461433155,0.3774917217635374,0.3872186354050359,0.38622100754188243,0.3713505548237423,0.39157800414902405,0.38224483137265697,0.3931512447323144,0.39585038949607926,0.39818259971531833,0.4310123025370294,0.4265856404544996],\"type\":\"data\"},\"mode\":\"markers+lines\",\"name\":\"Dose: 0.3, Sex: Male\",\"text\":\"Dose: 0.3, Sex: Male\",\"x\":[0,1,2,3,4,5,6,7,8,9,10,11,12,13,14,15,16,17,18,19,20,21,22,23,24,25,26,27,28],\"y\":[0.0,0.7333333333333361,1.711111111111114,2.4444444444444446,3.2444444444444454,2.988888888888889,3.333333333333334,3.888888888888891,4.188888888888892,4.344444444444447,4.666666666666666,4.6444444444444475,4.822222222222225,4.833333333333334,5.166666666666666,5.1,5.200000000000001,5.400000000000004,5.511111111111115,5.700000000000001,5.6777777777777825,5.866666666666669,6.1444444444444475,6.211111111111114,6.288888888888893,6.433333333333335,6.35555555555556,6.6,6.933333333333335],\"type\":\"scatter\"},{\"error_y\":{\"array\":[0.36328406053937395,0.4731037523565284,0.4112987559751024,0.37790030692671933,0.36059792594735024,0.32574700476153445,0.3492496365667048,0.36404788723124176,0.4254989808637028,0.3876965849415088,0.4139168521500751,0.3809507275096391,0.4113362746758394,0.35555555555555546,0.3608546097567775,0.3756475889861546,0.3916174121906022,0.31140858793870024,0.38421798082614983,0.4269110989652916,0.33573210954973615,0.3892458679022966,0.36209268304000725,0.34858620982335536,0.4133572275052953,0.3495146546672405,0.37822685726367383,0.4053271807525251,0.3668349782048705],\"type\":\"data\"},\"mode\":\"markers+lines\",\"name\":\"Dose: 1.0, Sex: Male\",\"text\":\"Dose: 1.0, Sex: Male\",\"x\":[0,1,2,3,4,5,6,7,8,9,10,11,12,13,14,15,16,17,18,19,20,21,22,23,24,25,26,27,28],\"y\":[0.0,0.6666666666666661,1.4444444444444429,2.1999999999999993,2.6999999999999993,3.211111111111112,3.3999999999999986,3.488888888888887,3.822222222222223,3.8888888888888893,4.322222222222223,4.355555555555558,4.600000000000001,4.588888888888889,4.822222222222223,5.111111111111111,5.288888888888888,5.088888888888889,5.233333333333331,5.300000000000001,5.522222222222222,5.555555555555554,5.81111111111111,6.155555555555555,5.988888888888887,6.166666666666664,6.244444444444447,6.233333333333331,6.355555555555554],\"type\":\"scatter\"},{\"error_y\":{\"array\":[0.49074772881118217,0.5684883572648425,0.5236387407976967,0.47192801292434,0.4478342947514806,0.4050986772029806,0.3767961101736259,0.30932024237944566,0.2911238334794199,0.29334175072097984,0.32092651364524843,0.2769431906803231,0.2764412289916609,0.27577052546646363,0.25172246131576,0.31710495984067477,0.31919072049384906,0.3452052529534664,0.29059326290271165,0.3171049598406738,0.30776975521032307,0.31155721984022083,0.2708012801545323,0.2766086507667694,0.3125956643696712,0.3108133495710971,0.3266458799130912,0.31170578086901224,0.23869501176600996],\"type\":\"data\"},\"mode\":\"markers+lines\",\"name\":\"Dose: 3.0, Sex: Male\",\"text\":\"Dose: 3.0, Sex: Male\",\"x\":[0,1,2,3,4,5,6,7,8,9,10,11,12,13,14,15,16,17,18,19,20,21,22,23,24,25,26,27,28],\"y\":[0.0,0.5555555555555554,1.4111111111111079,2.088888888888885,2.6999999999999993,2.7444444444444436,3.022222222222222,3.6555555555555515,3.7222222222222214,3.8888888888888893,4.288888888888888,4.222222222222221,4.62222222222222,4.844444444444445,4.922222222222221,5.066666666666666,4.988888888888887,4.899999999999999,5.133333333333333,5.099999999999998,5.399999999999999,5.555555555555554,5.566666666666666,5.755555555555553,5.944444444444443,5.788888888888888,5.922222222222221,6.188888888888886,6.211111111111109],\"type\":\"scatter\"},{\"error_y\":{\"array\":[0.4769048873779112,0.4860396772910976,0.4600053676552099,0.4700604111425006,0.476224866483041,0.4848953049784288,0.4887626099538395,0.3688487260599518,0.4330483393312244,0.3840572873934301,0.4272001872658768,0.4403632058726297,0.4307615994440028,0.39957539191892266,0.46218082079540146,0.42255104155125406,0.4600724580614088,0.5118352358347119,0.44141327462180585,0.4728753653037034,0.4729079987784534,0.45643546458763845,0.4678886118366419,0.5334490615181249,0.5033529552221426,0.5016023706798093,0.493319569377563,0.5394899282804538,0.5149014049214895],\"type\":\"data\"},\"mode\":\"markers+lines\",\"name\":\"Dose: 10.0, Sex: Male\",\"text\":\"Dose: 10.0, Sex: Male\",\"x\":[0,1,2,3,4,5,6,7,8,9,10,11,12,13,14,15,16,17,18,19,20,21,22,23,24,25,26,27,28],\"y\":[0.0,0.7666666666666675,1.400000000000004,2.288888888888893,2.7666666666666675,2.866666666666669,2.877777777777778,3.155555555555557,3.8222222222222246,3.811111111111112,4.077777777777781,4.322222222222225,4.47777777777778,4.8000000000000025,4.844444444444447,5.1,5.211111111111114,4.933333333333335,5.08888888888889,5.244444444444445,5.4222222222222225,5.344444444444447,5.433333333333335,5.688888888888892,5.622222222222225,5.500000000000002,5.522222222222224,5.655555555555557,5.788888888888893],\"type\":\"scatter\"},{\"error_y\":{\"array\":[0.6148622248565572,0.7348049207816576,0.5217787715303807,0.47006041114250086,0.4431578600102776,0.43857231902201194,0.3811532208676422,0.30046260628866556,0.25718082220228233,0.286636518655876,0.24381231397213035,0.23379583791667594,0.26562295750848697,0.2598076211353327,0.27068728255732977,0.2327373340628147,0.3034269289871421,0.35512126254437604,0.36302909450454535,0.3022038393102033,0.352941781650413,0.3580209663492892,0.32834226346193757,0.31363067058383226,0.27688746209726917,0.36582394740342994,0.3740832415451651,0.49256822551817453,0.5845225972250062],\"type\":\"data\"},\"mode\":\"markers+lines\",\"name\":\"Dose: 30.0, Sex: Male\",\"text\":\"Dose: 30.0, Sex: Male\",\"x\":[0,1,2,3,4,5,6,7,8,9,10,11,12,13,14,15,16,17,18,19,20,21,22,23,24,25,26,27,28],\"y\":[0.0,0.3888888888888875,1.0111111111111093,1.8777777777777782,2.366666666666669,2.3555555555555525,2.4666666666666632,2.9000000000000004,3.2111111111111104,3.288888888888886,3.533333333333333,3.5888888888888903,3.5666666666666647,3.933333333333332,3.844444444444443,3.866666666666669,3.7555555555555546,3.700000000000001,3.955555555555554,3.788888888888886,3.9777777777777796,3.877777777777778,3.9111111111111097,3.9111111111111097,3.9000000000000004,3.788888888888886,3.544444444444446,3.455555555555554,3.433333333333332],\"type\":\"scatter\"}],                        {\"template\":{\"data\":{\"histogram2dcontour\":[{\"type\":\"histogram2dcontour\",\"colorbar\":{\"outlinewidth\":0,\"ticks\":\"\"},\"colorscale\":[[0.0,\"#0d0887\"],[0.1111111111111111,\"#46039f\"],[0.2222222222222222,\"#7201a8\"],[0.3333333333333333,\"#9c179e\"],[0.4444444444444444,\"#bd3786\"],[0.5555555555555556,\"#d8576b\"],[0.6666666666666666,\"#ed7953\"],[0.7777777777777778,\"#fb9f3a\"],[0.8888888888888888,\"#fdca26\"],[1.0,\"#f0f921\"]]}],\"choropleth\":[{\"type\":\"choropleth\",\"colorbar\":{\"outlinewidth\":0,\"ticks\":\"\"}}],\"histogram2d\":[{\"type\":\"histogram2d\",\"colorbar\":{\"outlinewidth\":0,\"ticks\":\"\"},\"colorscale\":[[0.0,\"#0d0887\"],[0.1111111111111111,\"#46039f\"],[0.2222222222222222,\"#7201a8\"],[0.3333333333333333,\"#9c179e\"],[0.4444444444444444,\"#bd3786\"],[0.5555555555555556,\"#d8576b\"],[0.6666666666666666,\"#ed7953\"],[0.7777777777777778,\"#fb9f3a\"],[0.8888888888888888,\"#fdca26\"],[1.0,\"#f0f921\"]]}],\"heatmap\":[{\"type\":\"heatmap\",\"colorbar\":{\"outlinewidth\":0,\"ticks\":\"\"},\"colorscale\":[[0.0,\"#0d0887\"],[0.1111111111111111,\"#46039f\"],[0.2222222222222222,\"#7201a8\"],[0.3333333333333333,\"#9c179e\"],[0.4444444444444444,\"#bd3786\"],[0.5555555555555556,\"#d8576b\"],[0.6666666666666666,\"#ed7953\"],[0.7777777777777778,\"#fb9f3a\"],[0.8888888888888888,\"#fdca26\"],[1.0,\"#f0f921\"]]}],\"heatmapgl\":[{\"type\":\"heatmapgl\",\"colorbar\":{\"outlinewidth\":0,\"ticks\":\"\"},\"colorscale\":[[0.0,\"#0d0887\"],[0.1111111111111111,\"#46039f\"],[0.2222222222222222,\"#7201a8\"],[0.3333333333333333,\"#9c179e\"],[0.4444444444444444,\"#bd3786\"],[0.5555555555555556,\"#d8576b\"],[0.6666666666666666,\"#ed7953\"],[0.7777777777777778,\"#fb9f3a\"],[0.8888888888888888,\"#fdca26\"],[1.0,\"#f0f921\"]]}],\"contourcarpet\":[{\"type\":\"contourcarpet\",\"colorbar\":{\"outlinewidth\":0,\"ticks\":\"\"}}],\"contour\":[{\"type\":\"contour\",\"colorbar\":{\"outlinewidth\":0,\"ticks\":\"\"},\"colorscale\":[[0.0,\"#0d0887\"],[0.1111111111111111,\"#46039f\"],[0.2222222222222222,\"#7201a8\"],[0.3333333333333333,\"#9c179e\"],[0.4444444444444444,\"#bd3786\"],[0.5555555555555556,\"#d8576b\"],[0.6666666666666666,\"#ed7953\"],[0.7777777777777778,\"#fb9f3a\"],[0.8888888888888888,\"#fdca26\"],[1.0,\"#f0f921\"]]}],\"surface\":[{\"type\":\"surface\",\"colorbar\":{\"outlinewidth\":0,\"ticks\":\"\"},\"colorscale\":[[0.0,\"#0d0887\"],[0.1111111111111111,\"#46039f\"],[0.2222222222222222,\"#7201a8\"],[0.3333333333333333,\"#9c179e\"],[0.4444444444444444,\"#bd3786\"],[0.5555555555555556,\"#d8576b\"],[0.6666666666666666,\"#ed7953\"],[0.7777777777777778,\"#fb9f3a\"],[0.8888888888888888,\"#fdca26\"],[1.0,\"#f0f921\"]]}],\"mesh3d\":[{\"type\":\"mesh3d\",\"colorbar\":{\"outlinewidth\":0,\"ticks\":\"\"}}],\"scatter\":[{\"fillpattern\":{\"fillmode\":\"overlay\",\"size\":10,\"solidity\":0.2},\"type\":\"scatter\"}],\"parcoords\":[{\"type\":\"parcoords\",\"line\":{\"colorbar\":{\"outlinewidth\":0,\"ticks\":\"\"}}}],\"scatterpolargl\":[{\"type\":\"scatterpolargl\",\"marker\":{\"colorbar\":{\"outlinewidth\":0,\"ticks\":\"\"}}}],\"bar\":[{\"error_x\":{\"color\":\"#2a3f5f\"},\"error_y\":{\"color\":\"#2a3f5f\"},\"marker\":{\"line\":{\"color\":\"#E5ECF6\",\"width\":0.5},\"pattern\":{\"fillmode\":\"overlay\",\"size\":10,\"solidity\":0.2}},\"type\":\"bar\"}],\"scattergeo\":[{\"type\":\"scattergeo\",\"marker\":{\"colorbar\":{\"outlinewidth\":0,\"ticks\":\"\"}}}],\"scatterpolar\":[{\"type\":\"scatterpolar\",\"marker\":{\"colorbar\":{\"outlinewidth\":0,\"ticks\":\"\"}}}],\"histogram\":[{\"marker\":{\"pattern\":{\"fillmode\":\"overlay\",\"size\":10,\"solidity\":0.2}},\"type\":\"histogram\"}],\"scattergl\":[{\"type\":\"scattergl\",\"marker\":{\"colorbar\":{\"outlinewidth\":0,\"ticks\":\"\"}}}],\"scatter3d\":[{\"type\":\"scatter3d\",\"line\":{\"colorbar\":{\"outlinewidth\":0,\"ticks\":\"\"}},\"marker\":{\"colorbar\":{\"outlinewidth\":0,\"ticks\":\"\"}}}],\"scattermapbox\":[{\"type\":\"scattermapbox\",\"marker\":{\"colorbar\":{\"outlinewidth\":0,\"ticks\":\"\"}}}],\"scatterternary\":[{\"type\":\"scatterternary\",\"marker\":{\"colorbar\":{\"outlinewidth\":0,\"ticks\":\"\"}}}],\"scattercarpet\":[{\"type\":\"scattercarpet\",\"marker\":{\"colorbar\":{\"outlinewidth\":0,\"ticks\":\"\"}}}],\"carpet\":[{\"aaxis\":{\"endlinecolor\":\"#2a3f5f\",\"gridcolor\":\"white\",\"linecolor\":\"white\",\"minorgridcolor\":\"white\",\"startlinecolor\":\"#2a3f5f\"},\"baxis\":{\"endlinecolor\":\"#2a3f5f\",\"gridcolor\":\"white\",\"linecolor\":\"white\",\"minorgridcolor\":\"white\",\"startlinecolor\":\"#2a3f5f\"},\"type\":\"carpet\"}],\"table\":[{\"cells\":{\"fill\":{\"color\":\"#EBF0F8\"},\"line\":{\"color\":\"white\"}},\"header\":{\"fill\":{\"color\":\"#C8D4E3\"},\"line\":{\"color\":\"white\"}},\"type\":\"table\"}],\"barpolar\":[{\"marker\":{\"line\":{\"color\":\"#E5ECF6\",\"width\":0.5},\"pattern\":{\"fillmode\":\"overlay\",\"size\":10,\"solidity\":0.2}},\"type\":\"barpolar\"}],\"pie\":[{\"automargin\":true,\"type\":\"pie\"}]},\"layout\":{\"autotypenumbers\":\"strict\",\"colorway\":[\"#636efa\",\"#EF553B\",\"#00cc96\",\"#ab63fa\",\"#FFA15A\",\"#19d3f3\",\"#FF6692\",\"#B6E880\",\"#FF97FF\",\"#FECB52\"],\"font\":{\"color\":\"#2a3f5f\"},\"hovermode\":\"closest\",\"hoverlabel\":{\"align\":\"left\"},\"paper_bgcolor\":\"white\",\"plot_bgcolor\":\"#E5ECF6\",\"polar\":{\"bgcolor\":\"#E5ECF6\",\"angularaxis\":{\"gridcolor\":\"white\",\"linecolor\":\"white\",\"ticks\":\"\"},\"radialaxis\":{\"gridcolor\":\"white\",\"linecolor\":\"white\",\"ticks\":\"\"}},\"ternary\":{\"bgcolor\":\"#E5ECF6\",\"aaxis\":{\"gridcolor\":\"white\",\"linecolor\":\"white\",\"ticks\":\"\"},\"baxis\":{\"gridcolor\":\"white\",\"linecolor\":\"white\",\"ticks\":\"\"},\"caxis\":{\"gridcolor\":\"white\",\"linecolor\":\"white\",\"ticks\":\"\"}},\"coloraxis\":{\"colorbar\":{\"outlinewidth\":0,\"ticks\":\"\"}},\"colorscale\":{\"sequential\":[[0.0,\"#0d0887\"],[0.1111111111111111,\"#46039f\"],[0.2222222222222222,\"#7201a8\"],[0.3333333333333333,\"#9c179e\"],[0.4444444444444444,\"#bd3786\"],[0.5555555555555556,\"#d8576b\"],[0.6666666666666666,\"#ed7953\"],[0.7777777777777778,\"#fb9f3a\"],[0.8888888888888888,\"#fdca26\"],[1.0,\"#f0f921\"]],\"sequentialminus\":[[0.0,\"#0d0887\"],[0.1111111111111111,\"#46039f\"],[0.2222222222222222,\"#7201a8\"],[0.3333333333333333,\"#9c179e\"],[0.4444444444444444,\"#bd3786\"],[0.5555555555555556,\"#d8576b\"],[0.6666666666666666,\"#ed7953\"],[0.7777777777777778,\"#fb9f3a\"],[0.8888888888888888,\"#fdca26\"],[1.0,\"#f0f921\"]],\"diverging\":[[0,\"#8e0152\"],[0.1,\"#c51b7d\"],[0.2,\"#de77ae\"],[0.3,\"#f1b6da\"],[0.4,\"#fde0ef\"],[0.5,\"#f7f7f7\"],[0.6,\"#e6f5d0\"],[0.7,\"#b8e186\"],[0.8,\"#7fbc41\"],[0.9,\"#4d9221\"],[1,\"#276419\"]]},\"xaxis\":{\"gridcolor\":\"white\",\"linecolor\":\"white\",\"ticks\":\"\",\"title\":{\"standoff\":15},\"zerolinecolor\":\"white\",\"automargin\":true,\"zerolinewidth\":2},\"yaxis\":{\"gridcolor\":\"white\",\"linecolor\":\"white\",\"ticks\":\"\",\"title\":{\"standoff\":15},\"zerolinecolor\":\"white\",\"automargin\":true,\"zerolinewidth\":2},\"scene\":{\"xaxis\":{\"backgroundcolor\":\"#E5ECF6\",\"gridcolor\":\"white\",\"linecolor\":\"white\",\"showbackground\":true,\"ticks\":\"\",\"zerolinecolor\":\"white\",\"gridwidth\":2},\"yaxis\":{\"backgroundcolor\":\"#E5ECF6\",\"gridcolor\":\"white\",\"linecolor\":\"white\",\"showbackground\":true,\"ticks\":\"\",\"zerolinecolor\":\"white\",\"gridwidth\":2},\"zaxis\":{\"backgroundcolor\":\"#E5ECF6\",\"gridcolor\":\"white\",\"linecolor\":\"white\",\"showbackground\":true,\"ticks\":\"\",\"zerolinecolor\":\"white\",\"gridwidth\":2}},\"shapedefaults\":{\"line\":{\"color\":\"#2a3f5f\"}},\"annotationdefaults\":{\"arrowcolor\":\"#2a3f5f\",\"arrowhead\":0,\"arrowwidth\":1},\"geo\":{\"bgcolor\":\"white\",\"landcolor\":\"#E5ECF6\",\"subunitcolor\":\"white\",\"showland\":true,\"showlakes\":true,\"lakecolor\":\"white\"},\"title\":{\"x\":0.05},\"mapbox\":{\"style\":\"light\"}}},\"legend\":{\"bordercolor\":\"black\",\"borderwidth\":1},\"xaxis\":{\"title\":{\"text\":\"Days Relative to First Dose\"},\"showline\":true,\"linewidth\":1,\"linecolor\":\"black\"},\"yaxis\":{\"title\":{\"text\":\"Scaled average body weight\"},\"showline\":true,\"linewidth\":1,\"linecolor\":\"black\"},\"plot_bgcolor\":\"white\",\"paper_bgcolor\":\"white\",\"showlegend\":true},                        {\"responsive\": true}                    ).then(function(){\n",
       "                            \n",
       "var gd = document.getElementById('9afac6c5-fe45-4d8b-88e5-cd67d01a814e');\n",
       "var x = new MutationObserver(function (mutations, observer) {{\n",
       "        var display = window.getComputedStyle(gd).display;\n",
       "        if (!display || display === 'none') {{\n",
       "            console.log([gd, 'removed!']);\n",
       "            Plotly.purge(gd);\n",
       "            observer.disconnect();\n",
       "        }}\n",
       "}});\n",
       "\n",
       "// Listen for the removal of the full notebook cells\n",
       "var notebookContainer = gd.closest('#notebook-container');\n",
       "if (notebookContainer) {{\n",
       "    x.observe(notebookContainer, {childList: true});\n",
       "}}\n",
       "\n",
       "// Listen for the clearing of the current output cell\n",
       "var outputEl = gd.closest('.output');\n",
       "if (outputEl) {{\n",
       "    x.observe(outputEl, {childList: true});\n",
       "}}\n",
       "\n",
       "                        })                };                });            </script>        </div>"
      ]
     },
     "metadata": {},
     "output_type": "display_data"
    }
   ],
   "source": [
    "# Calculate the mean and standard error for each group\n",
    "grouped_stats = merged_df.groupby([\"dose_amount\", \"days_relative_first_dose\", \"sex\"])[\"value\"].agg(['mean', 'sem']).reset_index()\n",
    "\n",
    "# Create the interactive plot using Plotly graph_objects\n",
    "fig = go.Figure()\n",
    "\n",
    "for (dose_amount, sex), group in grouped_stats.groupby([\"dose_amount\", \"sex\"]):\n",
    "    # Find the mean value at days_relative_first_dose = 0 for each group\n",
    "    mean_at_zero = group.loc[group[\"days_relative_first_dose\"] == 0, \"mean\"].values[0]\n",
    "    # Rescale y-values (mean) to start from the mean value at days_relative_first_dose = 0 for each group\n",
    "    rescaled_mean = group[\"mean\"] - mean_at_zero\n",
    "    fig.add_trace(\n",
    "        go.Scatter(\n",
    "            x=group[\"days_relative_first_dose\"],\n",
    "            y=rescaled_mean,\n",
    "            name=f\"Dose: {dose_amount}, Sex: {sex.capitalize()}\",\n",
    "            mode=\"markers+lines\",\n",
    "            text=f\"Dose: {dose_amount}, Sex: {sex.capitalize()}\",\n",
    "            error_y=dict(type='data', array=group['sem']),\n",
    "        )\n",
    "    )\n",
    "\n",
    "# Set axis labels\n",
    "# Set axis labels and layout\n",
    "fig.update_layout(\n",
    "    xaxis_title=\"Days Relative to First Dose\",\n",
    "    yaxis_title=\"Scaled average body weight\",\n",
    "    plot_bgcolor='white',  # Set background color to white\n",
    "    paper_bgcolor='white',  # Set paper color to white\n",
    "    showlegend=True,  # Show the legend\n",
    "    legend=dict(\n",
    "        bordercolor=\"black\",  # Set legend border color\n",
    "        borderwidth=1,  # Set legend border width\n",
    "    ),\n",
    ")\n",
    "\n",
    "# Set the plot area border color\n",
    "fig.update_xaxes(showline=True, linewidth=1, linecolor='black')  # Set x-axis border color\n",
    "fig.update_yaxes(showline=True, linewidth=1, linecolor='black')  # Set y-axis border color\n",
    "\n",
    "# Show the interactive plot\n",
    "fig.show()\n"
   ]
  },
  {
   "cell_type": "markdown",
   "id": "2a070110",
   "metadata": {},
   "source": [
    "---\n",
    "<h1 align=\"center\">Terminal tissue weight measurements</h1> \n",
    "\n",
    "Here we explore how treatment affected the tissue weights both normalized to body weight and un-normalized.\n",
    "\n",
    "---\n",
    "## Build your sample metadata table\n",
    "\n",
    "We use the `TDCexpansion` python package to build a sample metadata table. "
   ]
  },
  {
   "cell_type": "code",
   "execution_count": 27,
   "id": "db165238",
   "metadata": {},
   "outputs": [
    {
     "data": {
      "text/html": [
       "<div>\n",
       "<style scoped>\n",
       "    .dataframe tbody tr th:only-of-type {\n",
       "        vertical-align: middle;\n",
       "    }\n",
       "\n",
       "    .dataframe tbody tr th {\n",
       "        vertical-align: top;\n",
       "    }\n",
       "\n",
       "    .dataframe thead th {\n",
       "        text-align: right;\n",
       "    }\n",
       "</style>\n",
       "<table border=\"1\" class=\"dataframe\">\n",
       "  <thead>\n",
       "    <tr style=\"text-align: right;\">\n",
       "      <th></th>\n",
       "      <th>subjects.type</th>\n",
       "      <th>subjects.project_id</th>\n",
       "      <th>subjects.submitter_id</th>\n",
       "      <th>euthanasia_date</th>\n",
       "      <th>euthanasia_method</th>\n",
       "      <th>euthanasia_zt</th>\n",
       "      <th>experiment_start_date</th>\n",
       "      <th>experiment_start_zt</th>\n",
       "      <th>subjects.provenance</th>\n",
       "      <th>sex</th>\n",
       "      <th>...</th>\n",
       "      <th>samples.submitter_id</th>\n",
       "      <th>biospecimen_anatomic_site</th>\n",
       "      <th>collection_protocol</th>\n",
       "      <th>date</th>\n",
       "      <th>method_of_sample_procurement</th>\n",
       "      <th>preservation_method</th>\n",
       "      <th>provenance</th>\n",
       "      <th>storage_vessel</th>\n",
       "      <th>volume</th>\n",
       "      <th>weight</th>\n",
       "    </tr>\n",
       "  </thead>\n",
       "  <tbody>\n",
       "    <tr>\n",
       "      <th>0</th>\n",
       "      <td>subject</td>\n",
       "      <td>MyFirstProgram-MyFirstProject</td>\n",
       "      <td>PRJ161:M37</td>\n",
       "      <td>2019-10-20</td>\n",
       "      <td>Carbon dioxide asphyxiation</td>\n",
       "      <td>0</td>\n",
       "      <td>2019-09-22</td>\n",
       "      <td>0</td>\n",
       "      <td>NaN</td>\n",
       "      <td>male</td>\n",
       "      <td>...</td>\n",
       "      <td>PRJ161:L37_FFPE</td>\n",
       "      <td>Liver</td>\n",
       "      <td>A section of the left lateral lobe was excised...</td>\n",
       "      <td>2019-10-20</td>\n",
       "      <td>NaN</td>\n",
       "      <td>FFPE</td>\n",
       "      <td>DataHarmonizer v1.4.10, Sample v4.3.1</td>\n",
       "      <td>Histology cassette</td>\n",
       "      <td>NaN</td>\n",
       "      <td>NaN</td>\n",
       "    </tr>\n",
       "    <tr>\n",
       "      <th>1</th>\n",
       "      <td>subject</td>\n",
       "      <td>MyFirstProgram-MyFirstProject</td>\n",
       "      <td>PRJ161:M37</td>\n",
       "      <td>2019-10-20</td>\n",
       "      <td>Carbon dioxide asphyxiation</td>\n",
       "      <td>0</td>\n",
       "      <td>2019-09-22</td>\n",
       "      <td>0</td>\n",
       "      <td>NaN</td>\n",
       "      <td>male</td>\n",
       "      <td>...</td>\n",
       "      <td>PRJ161:L37</td>\n",
       "      <td>Liver</td>\n",
       "      <td>Tissue was carefully excised and immediately f...</td>\n",
       "      <td>2019-10-20</td>\n",
       "      <td>NaN</td>\n",
       "      <td>Snap Frozen</td>\n",
       "      <td>DataHarmonizer v1.4.10, Sample v4.3.1</td>\n",
       "      <td>2 mL screwcap tube</td>\n",
       "      <td>NaN</td>\n",
       "      <td>NaN</td>\n",
       "    </tr>\n",
       "    <tr>\n",
       "      <th>2</th>\n",
       "      <td>subject</td>\n",
       "      <td>MyFirstProgram-MyFirstProject</td>\n",
       "      <td>PRJ161:M37</td>\n",
       "      <td>2019-10-20</td>\n",
       "      <td>Carbon dioxide asphyxiation</td>\n",
       "      <td>0</td>\n",
       "      <td>2019-09-22</td>\n",
       "      <td>0</td>\n",
       "      <td>NaN</td>\n",
       "      <td>male</td>\n",
       "      <td>...</td>\n",
       "      <td>PRJ161:KR37</td>\n",
       "      <td>Kidney</td>\n",
       "      <td>Kidneys were excised during necrospy and colle...</td>\n",
       "      <td>2019-10-27</td>\n",
       "      <td>NaN</td>\n",
       "      <td>Snap Frozen</td>\n",
       "      <td>DataHarmonizer v1.4.10, Sample v4.3.1</td>\n",
       "      <td>2 mL screwcap tube</td>\n",
       "      <td>NaN</td>\n",
       "      <td>NaN</td>\n",
       "    </tr>\n",
       "    <tr>\n",
       "      <th>3</th>\n",
       "      <td>subject</td>\n",
       "      <td>MyFirstProgram-MyFirstProject</td>\n",
       "      <td>PRJ161:M37</td>\n",
       "      <td>2019-10-20</td>\n",
       "      <td>Carbon dioxide asphyxiation</td>\n",
       "      <td>0</td>\n",
       "      <td>2019-09-22</td>\n",
       "      <td>0</td>\n",
       "      <td>NaN</td>\n",
       "      <td>male</td>\n",
       "      <td>...</td>\n",
       "      <td>PRJ161:S37</td>\n",
       "      <td>Blood</td>\n",
       "      <td>Blood was collected via cardiac puncture and a...</td>\n",
       "      <td>2019-10-20</td>\n",
       "      <td>NaN</td>\n",
       "      <td>Snap Frozen</td>\n",
       "      <td>DataHarmonizer v1.4.10, Sample v4.3.1</td>\n",
       "      <td>0.5 mL microtube</td>\n",
       "      <td>NaN</td>\n",
       "      <td>NaN</td>\n",
       "    </tr>\n",
       "    <tr>\n",
       "      <th>4</th>\n",
       "      <td>subject</td>\n",
       "      <td>MyFirstProgram-MyFirstProject</td>\n",
       "      <td>PRJ161:M37</td>\n",
       "      <td>2019-10-20</td>\n",
       "      <td>Carbon dioxide asphyxiation</td>\n",
       "      <td>0</td>\n",
       "      <td>2019-09-22</td>\n",
       "      <td>0</td>\n",
       "      <td>NaN</td>\n",
       "      <td>male</td>\n",
       "      <td>...</td>\n",
       "      <td>PRJ161:L37_FFPE</td>\n",
       "      <td>Liver</td>\n",
       "      <td>A section of the left lateral lobe was excised...</td>\n",
       "      <td>2019-10-20</td>\n",
       "      <td>NaN</td>\n",
       "      <td>FFPE</td>\n",
       "      <td>DataHarmonizer v1.4.10, Sample v4.3.1</td>\n",
       "      <td>Histology cassette</td>\n",
       "      <td>NaN</td>\n",
       "      <td>NaN</td>\n",
       "    </tr>\n",
       "  </tbody>\n",
       "</table>\n",
       "<p>5 rows × 72 columns</p>\n",
       "</div>"
      ],
      "text/plain": [
       "  subjects.type            subjects.project_id subjects.submitter_id  \\\n",
       "0       subject  MyFirstProgram-MyFirstProject            PRJ161:M37   \n",
       "1       subject  MyFirstProgram-MyFirstProject            PRJ161:M37   \n",
       "2       subject  MyFirstProgram-MyFirstProject            PRJ161:M37   \n",
       "3       subject  MyFirstProgram-MyFirstProject            PRJ161:M37   \n",
       "4       subject  MyFirstProgram-MyFirstProject            PRJ161:M37   \n",
       "\n",
       "  euthanasia_date            euthanasia_method  euthanasia_zt  \\\n",
       "0      2019-10-20  Carbon dioxide asphyxiation              0   \n",
       "1      2019-10-20  Carbon dioxide asphyxiation              0   \n",
       "2      2019-10-20  Carbon dioxide asphyxiation              0   \n",
       "3      2019-10-20  Carbon dioxide asphyxiation              0   \n",
       "4      2019-10-20  Carbon dioxide asphyxiation              0   \n",
       "\n",
       "  experiment_start_date  experiment_start_zt  subjects.provenance   sex  ...  \\\n",
       "0            2019-09-22                    0                  NaN  male  ...   \n",
       "1            2019-09-22                    0                  NaN  male  ...   \n",
       "2            2019-09-22                    0                  NaN  male  ...   \n",
       "3            2019-09-22                    0                  NaN  male  ...   \n",
       "4            2019-09-22                    0                  NaN  male  ...   \n",
       "\n",
       "  samples.submitter_id  biospecimen_anatomic_site  \\\n",
       "0      PRJ161:L37_FFPE                      Liver   \n",
       "1           PRJ161:L37                      Liver   \n",
       "2          PRJ161:KR37                     Kidney   \n",
       "3           PRJ161:S37                      Blood   \n",
       "4      PRJ161:L37_FFPE                      Liver   \n",
       "\n",
       "                                 collection_protocol        date  \\\n",
       "0  A section of the left lateral lobe was excised...  2019-10-20   \n",
       "1  Tissue was carefully excised and immediately f...  2019-10-20   \n",
       "2  Kidneys were excised during necrospy and colle...  2019-10-27   \n",
       "3  Blood was collected via cardiac puncture and a...  2019-10-20   \n",
       "4  A section of the left lateral lobe was excised...  2019-10-20   \n",
       "\n",
       "  method_of_sample_procurement preservation_method  \\\n",
       "0                          NaN                FFPE   \n",
       "1                          NaN         Snap Frozen   \n",
       "2                          NaN         Snap Frozen   \n",
       "3                          NaN         Snap Frozen   \n",
       "4                          NaN                FFPE   \n",
       "\n",
       "                              provenance      storage_vessel volume  weight  \n",
       "0  DataHarmonizer v1.4.10, Sample v4.3.1  Histology cassette    NaN     NaN  \n",
       "1  DataHarmonizer v1.4.10, Sample v4.3.1  2 mL screwcap tube    NaN     NaN  \n",
       "2  DataHarmonizer v1.4.10, Sample v4.3.1  2 mL screwcap tube    NaN     NaN  \n",
       "3  DataHarmonizer v1.4.10, Sample v4.3.1    0.5 mL microtube    NaN     NaN  \n",
       "4  DataHarmonizer v1.4.10, Sample v4.3.1  Histology cassette    NaN     NaN  \n",
       "\n",
       "[5 rows x 72 columns]"
      ]
     },
     "execution_count": 27,
     "metadata": {},
     "output_type": "execute_result"
    }
   ],
   "source": [
    "# Filter the samples by the subjects from the project obtained previously\n",
    "SubjectFilter = subject_df['subjects.submitter_id'].unique().tolist()\n",
    "sample_df = process.process_node_data('sample', ['subjects.submitter_id'], 'MyFirstProgram', 'MyFirstProject')\n",
    "\n",
    "# Merge with the subjects to get dose/subject details\n",
    "dataframes = [('subject_df', subject_df),('samples', sample_df)]\n",
    "sample_df = process.merge_dataframes(process.rename_overlapping(dataframes=dataframes))\n",
    "\n",
    "sample_df.head()"
   ]
  },
  {
   "cell_type": "code",
   "execution_count": 28,
   "id": "fe380f43",
   "metadata": {},
   "outputs": [],
   "source": [
    "# Sample weight (sw) data\n",
    "sw_data = weight_data[weight_data['submitter_id'] == 'PRJ161:SampleWeights'] # A more efficient method in development\n",
    "sw_data = sw_data.dropna(axis=1)\n",
    "sw_combinations = sw_data.drop_duplicates(subset=[\"file_name\", \"object_id\"])\n",
    "sw_filename = sw_combinations['file_name']\n",
    "sw_objectid = sw_combinations['object_id']"
   ]
  },
  {
   "cell_type": "markdown",
   "id": "02693174",
   "metadata": {},
   "source": [
    "### Download the sample weight data file"
   ]
  },
  {
   "cell_type": "code",
   "execution_count": 29,
   "id": "d032233b",
   "metadata": {},
   "outputs": [
    {
     "name": "stdout",
     "output_type": "stream",
     "text": [
      "Run the following commands using the gen3 client to download the data: \n",
      "\n",
      "cd C:\\Users\\15177\\OneDrive - Michigan State University\\Documents\\Projects\\FAIRTox\\DH_RealData\\SRC_TZES004911_PRJ161\\tmp_download_prj161_vis_080223\n",
      "\n",
      "gen3-client download-single --profile=\"fairtox\" --guid=\"dg.TDC/2b95a690-8eda-4180-ab99-2f24870a2dcc\"\n"
     ]
    }
   ],
   "source": [
    "print(\"Run the following commands using the gen3 client to download the data: \\n\")\n",
    "print(\"cd \" + folder_path + '\\n')\n",
    "profile = \"fairtox\"\n",
    "file_identifier = str(sw_objectid.item())\n",
    "cmd = r'gen3-client download-single --profile=\"{}\" --guid=\"{}\"'.format(profile, file_identifier)\n",
    "print(cmd)"
   ]
  },
  {
   "cell_type": "markdown",
   "id": "f8f608ae",
   "metadata": {},
   "source": [
    "### Create metadata table and merge"
   ]
  },
  {
   "cell_type": "code",
   "execution_count": 38,
   "id": "f1f1a946",
   "metadata": {},
   "outputs": [
    {
     "data": {
      "text/html": [
       "<div>\n",
       "<style scoped>\n",
       "    .dataframe tbody tr th:only-of-type {\n",
       "        vertical-align: middle;\n",
       "    }\n",
       "\n",
       "    .dataframe tbody tr th {\n",
       "        vertical-align: top;\n",
       "    }\n",
       "\n",
       "    .dataframe thead th {\n",
       "        text-align: right;\n",
       "    }\n",
       "</style>\n",
       "<table border=\"1\" class=\"dataframe\">\n",
       "  <thead>\n",
       "    <tr style=\"text-align: right;\">\n",
       "      <th></th>\n",
       "      <th>subjects.submitter_id</th>\n",
       "      <th>samples.submitter_id</th>\n",
       "      <th>sex</th>\n",
       "      <th>dose_amount</th>\n",
       "      <th>test_article_administration_zt</th>\n",
       "      <th>test_article_dtxsid</th>\n",
       "      <th>test_article_name</th>\n",
       "      <th>vehicle_dtxsid</th>\n",
       "      <th>vehicle_name</th>\n",
       "      <th>strain</th>\n",
       "      <th>biospecimen_anatomic_site</th>\n",
       "    </tr>\n",
       "  </thead>\n",
       "  <tbody>\n",
       "    <tr>\n",
       "      <th>0</th>\n",
       "      <td>M37</td>\n",
       "      <td>L37_FFPE</td>\n",
       "      <td>male</td>\n",
       "      <td>0.1</td>\n",
       "      <td>0</td>\n",
       "      <td>DTXSID2021315</td>\n",
       "      <td>TCDD</td>\n",
       "      <td>DTXSID9033971</td>\n",
       "      <td>Sesame Oil</td>\n",
       "      <td>C57BL/6NCrl</td>\n",
       "      <td>Liver</td>\n",
       "    </tr>\n",
       "    <tr>\n",
       "      <th>1</th>\n",
       "      <td>M37</td>\n",
       "      <td>L37</td>\n",
       "      <td>male</td>\n",
       "      <td>0.1</td>\n",
       "      <td>0</td>\n",
       "      <td>DTXSID2021315</td>\n",
       "      <td>TCDD</td>\n",
       "      <td>DTXSID9033971</td>\n",
       "      <td>Sesame Oil</td>\n",
       "      <td>C57BL/6NCrl</td>\n",
       "      <td>Liver</td>\n",
       "    </tr>\n",
       "    <tr>\n",
       "      <th>2</th>\n",
       "      <td>M37</td>\n",
       "      <td>KR37</td>\n",
       "      <td>male</td>\n",
       "      <td>0.1</td>\n",
       "      <td>0</td>\n",
       "      <td>DTXSID2021315</td>\n",
       "      <td>TCDD</td>\n",
       "      <td>DTXSID9033971</td>\n",
       "      <td>Sesame Oil</td>\n",
       "      <td>C57BL/6NCrl</td>\n",
       "      <td>Kidney</td>\n",
       "    </tr>\n",
       "    <tr>\n",
       "      <th>3</th>\n",
       "      <td>M37</td>\n",
       "      <td>S37</td>\n",
       "      <td>male</td>\n",
       "      <td>0.1</td>\n",
       "      <td>0</td>\n",
       "      <td>DTXSID2021315</td>\n",
       "      <td>TCDD</td>\n",
       "      <td>DTXSID9033971</td>\n",
       "      <td>Sesame Oil</td>\n",
       "      <td>C57BL/6NCrl</td>\n",
       "      <td>Blood</td>\n",
       "    </tr>\n",
       "    <tr>\n",
       "      <th>28</th>\n",
       "      <td>M38</td>\n",
       "      <td>S38</td>\n",
       "      <td>male</td>\n",
       "      <td>0.1</td>\n",
       "      <td>0</td>\n",
       "      <td>DTXSID2021315</td>\n",
       "      <td>TCDD</td>\n",
       "      <td>DTXSID9033971</td>\n",
       "      <td>Sesame Oil</td>\n",
       "      <td>C57BL/6NCrl</td>\n",
       "      <td>Blood</td>\n",
       "    </tr>\n",
       "  </tbody>\n",
       "</table>\n",
       "</div>"
      ],
      "text/plain": [
       "   subjects.submitter_id samples.submitter_id   sex  dose_amount  \\\n",
       "0                    M37             L37_FFPE  male          0.1   \n",
       "1                    M37                  L37  male          0.1   \n",
       "2                    M37                 KR37  male          0.1   \n",
       "3                    M37                  S37  male          0.1   \n",
       "28                   M38                  S38  male          0.1   \n",
       "\n",
       "    test_article_administration_zt test_article_dtxsid test_article_name  \\\n",
       "0                                0       DTXSID2021315              TCDD   \n",
       "1                                0       DTXSID2021315              TCDD   \n",
       "2                                0       DTXSID2021315              TCDD   \n",
       "3                                0       DTXSID2021315              TCDD   \n",
       "28                               0       DTXSID2021315              TCDD   \n",
       "\n",
       "   vehicle_dtxsid vehicle_name       strain biospecimen_anatomic_site  \n",
       "0   DTXSID9033971   Sesame Oil  C57BL/6NCrl                     Liver  \n",
       "1   DTXSID9033971   Sesame Oil  C57BL/6NCrl                     Liver  \n",
       "2   DTXSID9033971   Sesame Oil  C57BL/6NCrl                    Kidney  \n",
       "3   DTXSID9033971   Sesame Oil  C57BL/6NCrl                     Blood  \n",
       "28  DTXSID9033971   Sesame Oil  C57BL/6NCrl                     Blood  "
      ]
     },
     "metadata": {},
     "output_type": "display_data"
    }
   ],
   "source": [
    "keep = ['subjects.submitter_id', 'samples.submitter_id', 'sex', 'dose_amount', 'test_article_administration_zt', \n",
    "        'test_article_dtxsid', 'test_article_name', 'vehicle_dtxsid', 'vehicle_name', 'strain', 'biospecimen_anatomic_site'\n",
    "       ]\n",
    "\n",
    "# Remove the 'PRJ161:' string from the identifier to match the datafile input \n",
    "sample_df[\"subjects.submitter_id\"] = sample_df[\"subjects.submitter_id\"].str.replace(\"^PRJ161:\", \"\", regex=True)\n",
    "sample_df[\"samples.submitter_id\"] = sample_df[\"samples.submitter_id\"].str.replace(\"^PRJ161:\", \"\", regex=True)\n",
    "sample_df = sample_df[keep].drop_duplicates()\n",
    "display(sample_df.head())"
   ]
  },
  {
   "cell_type": "markdown",
   "id": "db008f86",
   "metadata": {},
   "source": [
    "### Prepare the data for plotting"
   ]
  },
  {
   "cell_type": "code",
   "execution_count": 39,
   "id": "8205af19",
   "metadata": {},
   "outputs": [
    {
     "data": {
      "text/html": [
       "<div>\n",
       "<style scoped>\n",
       "    .dataframe tbody tr th:only-of-type {\n",
       "        vertical-align: middle;\n",
       "    }\n",
       "\n",
       "    .dataframe tbody tr th {\n",
       "        vertical-align: top;\n",
       "    }\n",
       "\n",
       "    .dataframe thead th {\n",
       "        text-align: right;\n",
       "    }\n",
       "</style>\n",
       "<table border=\"1\" class=\"dataframe\">\n",
       "  <thead>\n",
       "    <tr style=\"text-align: right;\">\n",
       "      <th></th>\n",
       "      <th>samples.submitter_id</th>\n",
       "      <th>days_relative_first_dose</th>\n",
       "      <th>measurement_ZT</th>\n",
       "      <th>value</th>\n",
       "      <th>is_terminal</th>\n",
       "      <th>comment</th>\n",
       "    </tr>\n",
       "  </thead>\n",
       "  <tbody>\n",
       "    <tr>\n",
       "      <th>0</th>\n",
       "      <td>L01</td>\n",
       "      <td>28</td>\n",
       "      <td>0:00:00</td>\n",
       "      <td>1.2128</td>\n",
       "      <td>True</td>\n",
       "      <td>NaN</td>\n",
       "    </tr>\n",
       "    <tr>\n",
       "      <th>1</th>\n",
       "      <td>L02</td>\n",
       "      <td>28</td>\n",
       "      <td>0:00:00</td>\n",
       "      <td>1.2397</td>\n",
       "      <td>True</td>\n",
       "      <td>NaN</td>\n",
       "    </tr>\n",
       "    <tr>\n",
       "      <th>2</th>\n",
       "      <td>L03</td>\n",
       "      <td>28</td>\n",
       "      <td>0:00:00</td>\n",
       "      <td>1.3836</td>\n",
       "      <td>True</td>\n",
       "      <td>NaN</td>\n",
       "    </tr>\n",
       "    <tr>\n",
       "      <th>3</th>\n",
       "      <td>L04</td>\n",
       "      <td>28</td>\n",
       "      <td>0:00:00</td>\n",
       "      <td>1.4130</td>\n",
       "      <td>True</td>\n",
       "      <td>NaN</td>\n",
       "    </tr>\n",
       "    <tr>\n",
       "      <th>4</th>\n",
       "      <td>L05</td>\n",
       "      <td>28</td>\n",
       "      <td>0:00:00</td>\n",
       "      <td>1.4509</td>\n",
       "      <td>True</td>\n",
       "      <td>NaN</td>\n",
       "    </tr>\n",
       "  </tbody>\n",
       "</table>\n",
       "</div>"
      ],
      "text/plain": [
       "  samples.submitter_id  days_relative_first_dose measurement_ZT   value  \\\n",
       "0                  L01                        28        0:00:00  1.2128   \n",
       "1                  L02                        28        0:00:00  1.2397   \n",
       "2                  L03                        28        0:00:00  1.3836   \n",
       "3                  L04                        28        0:00:00  1.4130   \n",
       "4                  L05                        28        0:00:00  1.4509   \n",
       "\n",
       "   is_terminal  comment  \n",
       "0         True      NaN  \n",
       "1         True      NaN  \n",
       "2         True      NaN  \n",
       "3         True      NaN  \n",
       "4         True      NaN  "
      ]
     },
     "execution_count": 39,
     "metadata": {},
     "output_type": "execute_result"
    }
   ],
   "source": [
    "df = pd.read_table(folder_path + '/' + sw_filename.item())\n",
    "df.head()"
   ]
  },
  {
   "cell_type": "code",
   "execution_count": 40,
   "id": "04fa8c16",
   "metadata": {},
   "outputs": [
    {
     "data": {
      "text/html": [
       "<div>\n",
       "<style scoped>\n",
       "    .dataframe tbody tr th:only-of-type {\n",
       "        vertical-align: middle;\n",
       "    }\n",
       "\n",
       "    .dataframe tbody tr th {\n",
       "        vertical-align: top;\n",
       "    }\n",
       "\n",
       "    .dataframe thead th {\n",
       "        text-align: right;\n",
       "    }\n",
       "</style>\n",
       "<table border=\"1\" class=\"dataframe\">\n",
       "  <thead>\n",
       "    <tr style=\"text-align: right;\">\n",
       "      <th></th>\n",
       "      <th>subjects.submitter_id</th>\n",
       "      <th>samples.submitter_id</th>\n",
       "      <th>sex_x</th>\n",
       "      <th>dose_amount_x</th>\n",
       "      <th>test_article_administration_zt_x</th>\n",
       "      <th>test_article_dtxsid_x</th>\n",
       "      <th>test_article_name_x</th>\n",
       "      <th>vehicle_dtxsid_x</th>\n",
       "      <th>vehicle_name_x</th>\n",
       "      <th>strain_x</th>\n",
       "      <th>...</th>\n",
       "      <th>days_relative_first_dose_x</th>\n",
       "      <th>measurement_ZT_x</th>\n",
       "      <th>value_x</th>\n",
       "      <th>is_terminal_x</th>\n",
       "      <th>comment_x</th>\n",
       "      <th>days_relative_first_dose_y</th>\n",
       "      <th>measurement_ZT_y</th>\n",
       "      <th>value_y</th>\n",
       "      <th>is_terminal_y</th>\n",
       "      <th>comment_y</th>\n",
       "    </tr>\n",
       "  </thead>\n",
       "  <tbody>\n",
       "    <tr>\n",
       "      <th>0</th>\n",
       "      <td>M37</td>\n",
       "      <td>L37</td>\n",
       "      <td>male</td>\n",
       "      <td>0.1</td>\n",
       "      <td>0</td>\n",
       "      <td>DTXSID2021315</td>\n",
       "      <td>TCDD</td>\n",
       "      <td>DTXSID9033971</td>\n",
       "      <td>Sesame Oil</td>\n",
       "      <td>C57BL/6NCrl</td>\n",
       "      <td>...</td>\n",
       "      <td>28</td>\n",
       "      <td>01:00:00</td>\n",
       "      <td>21.0</td>\n",
       "      <td>True</td>\n",
       "      <td>NaN</td>\n",
       "      <td>28</td>\n",
       "      <td>0:00:00</td>\n",
       "      <td>1.3268</td>\n",
       "      <td>True</td>\n",
       "      <td>NaN</td>\n",
       "    </tr>\n",
       "    <tr>\n",
       "      <th>1</th>\n",
       "      <td>M38</td>\n",
       "      <td>L38</td>\n",
       "      <td>male</td>\n",
       "      <td>0.1</td>\n",
       "      <td>0</td>\n",
       "      <td>DTXSID2021315</td>\n",
       "      <td>TCDD</td>\n",
       "      <td>DTXSID9033971</td>\n",
       "      <td>Sesame Oil</td>\n",
       "      <td>C57BL/6NCrl</td>\n",
       "      <td>...</td>\n",
       "      <td>28</td>\n",
       "      <td>01:00:00</td>\n",
       "      <td>21.3</td>\n",
       "      <td>True</td>\n",
       "      <td>NaN</td>\n",
       "      <td>28</td>\n",
       "      <td>0:00:00</td>\n",
       "      <td>1.2230</td>\n",
       "      <td>True</td>\n",
       "      <td>NaN</td>\n",
       "    </tr>\n",
       "    <tr>\n",
       "      <th>2</th>\n",
       "      <td>M39</td>\n",
       "      <td>L39</td>\n",
       "      <td>male</td>\n",
       "      <td>0.1</td>\n",
       "      <td>0</td>\n",
       "      <td>DTXSID2021315</td>\n",
       "      <td>TCDD</td>\n",
       "      <td>DTXSID9033971</td>\n",
       "      <td>Sesame Oil</td>\n",
       "      <td>C57BL/6NCrl</td>\n",
       "      <td>...</td>\n",
       "      <td>28</td>\n",
       "      <td>01:00:00</td>\n",
       "      <td>21.2</td>\n",
       "      <td>True</td>\n",
       "      <td>NaN</td>\n",
       "      <td>28</td>\n",
       "      <td>0:00:00</td>\n",
       "      <td>1.2504</td>\n",
       "      <td>True</td>\n",
       "      <td>NaN</td>\n",
       "    </tr>\n",
       "    <tr>\n",
       "      <th>3</th>\n",
       "      <td>M55</td>\n",
       "      <td>L55</td>\n",
       "      <td>male</td>\n",
       "      <td>0.0</td>\n",
       "      <td>0</td>\n",
       "      <td>DTXSID2021315</td>\n",
       "      <td>TCDD</td>\n",
       "      <td>DTXSID9033971</td>\n",
       "      <td>Sesame Oil</td>\n",
       "      <td>C57BL/6NCrl</td>\n",
       "      <td>...</td>\n",
       "      <td>28</td>\n",
       "      <td>01:00:00</td>\n",
       "      <td>18.9</td>\n",
       "      <td>True</td>\n",
       "      <td>NaN</td>\n",
       "      <td>28</td>\n",
       "      <td>0:00:00</td>\n",
       "      <td>1.0466</td>\n",
       "      <td>True</td>\n",
       "      <td>NaN</td>\n",
       "    </tr>\n",
       "    <tr>\n",
       "      <th>4</th>\n",
       "      <td>M56</td>\n",
       "      <td>L56</td>\n",
       "      <td>male</td>\n",
       "      <td>0.0</td>\n",
       "      <td>0</td>\n",
       "      <td>DTXSID2021315</td>\n",
       "      <td>TCDD</td>\n",
       "      <td>DTXSID9033971</td>\n",
       "      <td>Sesame Oil</td>\n",
       "      <td>C57BL/6NCrl</td>\n",
       "      <td>...</td>\n",
       "      <td>28</td>\n",
       "      <td>01:00:00</td>\n",
       "      <td>19.7</td>\n",
       "      <td>True</td>\n",
       "      <td>NaN</td>\n",
       "      <td>28</td>\n",
       "      <td>0:00:00</td>\n",
       "      <td>1.1512</td>\n",
       "      <td>True</td>\n",
       "      <td>NaN</td>\n",
       "    </tr>\n",
       "  </tbody>\n",
       "</table>\n",
       "<p>5 rows × 29 columns</p>\n",
       "</div>"
      ],
      "text/plain": [
       "  subjects.submitter_id samples.submitter_id sex_x  dose_amount_x  \\\n",
       "0                   M37                  L37  male            0.1   \n",
       "1                   M38                  L38  male            0.1   \n",
       "2                   M39                  L39  male            0.1   \n",
       "3                   M55                  L55  male            0.0   \n",
       "4                   M56                  L56  male            0.0   \n",
       "\n",
       "   test_article_administration_zt_x test_article_dtxsid_x test_article_name_x  \\\n",
       "0                                 0         DTXSID2021315                TCDD   \n",
       "1                                 0         DTXSID2021315                TCDD   \n",
       "2                                 0         DTXSID2021315                TCDD   \n",
       "3                                 0         DTXSID2021315                TCDD   \n",
       "4                                 0         DTXSID2021315                TCDD   \n",
       "\n",
       "  vehicle_dtxsid_x vehicle_name_x     strain_x  ...  \\\n",
       "0    DTXSID9033971     Sesame Oil  C57BL/6NCrl  ...   \n",
       "1    DTXSID9033971     Sesame Oil  C57BL/6NCrl  ...   \n",
       "2    DTXSID9033971     Sesame Oil  C57BL/6NCrl  ...   \n",
       "3    DTXSID9033971     Sesame Oil  C57BL/6NCrl  ...   \n",
       "4    DTXSID9033971     Sesame Oil  C57BL/6NCrl  ...   \n",
       "\n",
       "  days_relative_first_dose_x measurement_ZT_x  value_x  is_terminal_x  \\\n",
       "0                         28         01:00:00     21.0           True   \n",
       "1                         28         01:00:00     21.3           True   \n",
       "2                         28         01:00:00     21.2           True   \n",
       "3                         28         01:00:00     18.9           True   \n",
       "4                         28         01:00:00     19.7           True   \n",
       "\n",
       "  comment_x days_relative_first_dose_y measurement_ZT_y value_y is_terminal_y  \\\n",
       "0       NaN                         28          0:00:00  1.3268          True   \n",
       "1       NaN                         28          0:00:00  1.2230          True   \n",
       "2       NaN                         28          0:00:00  1.2504          True   \n",
       "3       NaN                         28          0:00:00  1.0466          True   \n",
       "4       NaN                         28          0:00:00  1.1512          True   \n",
       "\n",
       "   comment_y  \n",
       "0        NaN  \n",
       "1        NaN  \n",
       "2        NaN  \n",
       "3        NaN  \n",
       "4        NaN  \n",
       "\n",
       "[5 rows x 29 columns]"
      ]
     },
     "execution_count": 40,
     "metadata": {},
     "output_type": "execute_result"
    }
   ],
   "source": [
    "bw_df = merged_df[merged_df['days_relative_first_dose'].isin(df['days_relative_first_dose'].unique().tolist())]\n",
    "\n",
    "input_data = pd.merge(sample_df, bw_df, on='subjects.submitter_id')\n",
    "input_data = pd.merge(input_data, df, on='samples.submitter_id')\n",
    "\n",
    "input_data = input_data[input_data['is_terminal_x'] == True]\n",
    "input_data.head()"
   ]
  },
  {
   "cell_type": "code",
   "execution_count": 41,
   "id": "3fa4e736",
   "metadata": {},
   "outputs": [],
   "source": [
    "input_data['relative_weight'] = (input_data['value_y']/input_data['value_x'])\n",
    "\n",
    "# Convert \"dose_amount\" to a categorical variable with a specific order\n",
    "dose_order = sorted(input_data[\"dose_amount_x\"].unique())\n",
    "input_data[\"dose_amount_x\"] = pd.Categorical(input_data[\"dose_amount_x\"], categories=dose_order, ordered=True)\n",
    "\n",
    "# Sort the DataFrame based on \"dose_amount\"\n",
    "input_data.sort_values(\"dose_amount_x\", inplace=True)"
   ]
  },
  {
   "cell_type": "markdown",
   "id": "36bb5c28",
   "metadata": {},
   "source": [
    "### Plotly interactive visualization of normalized liver weights\n",
    "---\n",
    "### Histogram of relative liver weights"
   ]
  },
  {
   "cell_type": "code",
   "execution_count": 49,
   "id": "7cbaacb6",
   "metadata": {},
   "outputs": [
    {
     "data": {
      "application/vnd.plotly.v1+json": {
       "config": {
        "plotlyServerURL": "https://plot.ly"
       },
       "data": [
        {
         "name": "male - Dose 0.0",
         "nbinsx": 8,
         "type": "histogram",
         "x": [
          0.05990654205607477,
          0.05537566137566138,
          0.05843654822335025,
          0.058110576923076925,
          0.05989610389610389,
          0.05667289719626169,
          0.05609502262443439,
          0.05862672811059908,
          0.058
         ],
         "xaxis": "x",
         "yaxis": "y"
        },
        {
         "name": "male - Dose 0.01",
         "nbinsx": 8,
         "type": "histogram",
         "x": [
          0.058775330396475776,
          0.05962025316455696,
          0.06335807860262009,
          0.06128491620111732,
          0.058893617021276594,
          0.06134554973821989,
          0.058858695652173915,
          0.056418719211822656,
          0.05476923076923077
         ],
         "xaxis": "x",
         "yaxis": "y"
        },
        {
         "name": "male - Dose 0.03",
         "nbinsx": 8,
         "type": "histogram",
         "x": [
          0.06170443349753694,
          0.057242990654205614,
          0.05835426008968609,
          0.062495145631067964,
          0.06234389140271492,
          0.06506410256410257,
          0.06280444444444444,
          0.06489743589743589,
          0.06039366515837104
         ],
         "xaxis": "x",
         "yaxis": "y"
        },
        {
         "name": "male - Dose 0.1",
         "nbinsx": 8,
         "type": "histogram",
         "x": [
          0.06318095238095238,
          0.06150222222222222,
          0.06108426966292134,
          0.06685308056872037,
          0.0665409090909091,
          0.06475663716814159,
          0.06375877192982456,
          0.0589811320754717,
          0.05741784037558686
         ],
         "xaxis": "x",
         "yaxis": "y"
        },
        {
         "name": "male - Dose 0.3",
         "nbinsx": 8,
         "type": "histogram",
         "x": [
          0.06603111111111111,
          0.06453669724770641,
          0.06318229166666667,
          0.0686294642857143,
          0.06815584415584415,
          0.06937068965517242,
          0.07129629629629629,
          0.07250239234449762,
          0.06973362445414848
         ],
         "xaxis": "x",
         "yaxis": "y"
        },
        {
         "name": "male - Dose 1.0",
         "nbinsx": 8,
         "type": "histogram",
         "x": [
          0.06834328358208955,
          0.06952511415525114,
          0.056316279069767446,
          0.0729237668161435,
          0.07633187772925765,
          0.07514485981308412,
          0.06678391959798995,
          0.06320603015075378,
          0.0694566210045662
         ],
         "xaxis": "x",
         "yaxis": "y"
        },
        {
         "name": "male - Dose 3.0",
         "nbinsx": 8,
         "type": "histogram",
         "x": [
          0.07536073059360732,
          0.0709409090909091,
          0.07848792270531402,
          0.07292344497607656,
          0.0721936936936937,
          0.07585148514851485,
          0.07713364055299539,
          0.07562857142857143,
          0.06990291262135921
         ],
         "xaxis": "x",
         "yaxis": "y"
        },
        {
         "name": "male - Dose 10.0",
         "nbinsx": 8,
         "type": "histogram",
         "x": [
          0.07623671497584542,
          0.07048598130841122,
          0.0777251184834123,
          0.0747012987012987,
          0.07701098901098902,
          0.07160386473429951,
          0.07510731707317074,
          0.07123893805309735,
          0.07137368421052633
         ],
         "xaxis": "x",
         "yaxis": "y"
        },
        {
         "name": "male - Dose 30.0",
         "nbinsx": 8,
         "type": "histogram",
         "x": [
          0.08907344632768362,
          0.07282795698924731,
          0.09210691823899371,
          0.09162345679012346,
          0.09572670807453415,
          0.06852284263959392,
          0.07810243902439024,
          0.08778395061728395,
          0.07434736842105263
         ],
         "xaxis": "x",
         "yaxis": "y"
        }
       ],
       "layout": {
        "paper_bgcolor": "white",
        "plot_bgcolor": "white",
        "showlegend": true,
        "template": {
         "data": {
          "bar": [
           {
            "error_x": {
             "color": "#2a3f5f"
            },
            "error_y": {
             "color": "#2a3f5f"
            },
            "marker": {
             "line": {
              "color": "#E5ECF6",
              "width": 0.5
             },
             "pattern": {
              "fillmode": "overlay",
              "size": 10,
              "solidity": 0.2
             }
            },
            "type": "bar"
           }
          ],
          "barpolar": [
           {
            "marker": {
             "line": {
              "color": "#E5ECF6",
              "width": 0.5
             },
             "pattern": {
              "fillmode": "overlay",
              "size": 10,
              "solidity": 0.2
             }
            },
            "type": "barpolar"
           }
          ],
          "carpet": [
           {
            "aaxis": {
             "endlinecolor": "#2a3f5f",
             "gridcolor": "white",
             "linecolor": "white",
             "minorgridcolor": "white",
             "startlinecolor": "#2a3f5f"
            },
            "baxis": {
             "endlinecolor": "#2a3f5f",
             "gridcolor": "white",
             "linecolor": "white",
             "minorgridcolor": "white",
             "startlinecolor": "#2a3f5f"
            },
            "type": "carpet"
           }
          ],
          "choropleth": [
           {
            "colorbar": {
             "outlinewidth": 0,
             "ticks": ""
            },
            "type": "choropleth"
           }
          ],
          "contour": [
           {
            "colorbar": {
             "outlinewidth": 0,
             "ticks": ""
            },
            "colorscale": [
             [
              0,
              "#0d0887"
             ],
             [
              0.1111111111111111,
              "#46039f"
             ],
             [
              0.2222222222222222,
              "#7201a8"
             ],
             [
              0.3333333333333333,
              "#9c179e"
             ],
             [
              0.4444444444444444,
              "#bd3786"
             ],
             [
              0.5555555555555556,
              "#d8576b"
             ],
             [
              0.6666666666666666,
              "#ed7953"
             ],
             [
              0.7777777777777778,
              "#fb9f3a"
             ],
             [
              0.8888888888888888,
              "#fdca26"
             ],
             [
              1,
              "#f0f921"
             ]
            ],
            "type": "contour"
           }
          ],
          "contourcarpet": [
           {
            "colorbar": {
             "outlinewidth": 0,
             "ticks": ""
            },
            "type": "contourcarpet"
           }
          ],
          "heatmap": [
           {
            "colorbar": {
             "outlinewidth": 0,
             "ticks": ""
            },
            "colorscale": [
             [
              0,
              "#0d0887"
             ],
             [
              0.1111111111111111,
              "#46039f"
             ],
             [
              0.2222222222222222,
              "#7201a8"
             ],
             [
              0.3333333333333333,
              "#9c179e"
             ],
             [
              0.4444444444444444,
              "#bd3786"
             ],
             [
              0.5555555555555556,
              "#d8576b"
             ],
             [
              0.6666666666666666,
              "#ed7953"
             ],
             [
              0.7777777777777778,
              "#fb9f3a"
             ],
             [
              0.8888888888888888,
              "#fdca26"
             ],
             [
              1,
              "#f0f921"
             ]
            ],
            "type": "heatmap"
           }
          ],
          "heatmapgl": [
           {
            "colorbar": {
             "outlinewidth": 0,
             "ticks": ""
            },
            "colorscale": [
             [
              0,
              "#0d0887"
             ],
             [
              0.1111111111111111,
              "#46039f"
             ],
             [
              0.2222222222222222,
              "#7201a8"
             ],
             [
              0.3333333333333333,
              "#9c179e"
             ],
             [
              0.4444444444444444,
              "#bd3786"
             ],
             [
              0.5555555555555556,
              "#d8576b"
             ],
             [
              0.6666666666666666,
              "#ed7953"
             ],
             [
              0.7777777777777778,
              "#fb9f3a"
             ],
             [
              0.8888888888888888,
              "#fdca26"
             ],
             [
              1,
              "#f0f921"
             ]
            ],
            "type": "heatmapgl"
           }
          ],
          "histogram": [
           {
            "marker": {
             "pattern": {
              "fillmode": "overlay",
              "size": 10,
              "solidity": 0.2
             }
            },
            "type": "histogram"
           }
          ],
          "histogram2d": [
           {
            "colorbar": {
             "outlinewidth": 0,
             "ticks": ""
            },
            "colorscale": [
             [
              0,
              "#0d0887"
             ],
             [
              0.1111111111111111,
              "#46039f"
             ],
             [
              0.2222222222222222,
              "#7201a8"
             ],
             [
              0.3333333333333333,
              "#9c179e"
             ],
             [
              0.4444444444444444,
              "#bd3786"
             ],
             [
              0.5555555555555556,
              "#d8576b"
             ],
             [
              0.6666666666666666,
              "#ed7953"
             ],
             [
              0.7777777777777778,
              "#fb9f3a"
             ],
             [
              0.8888888888888888,
              "#fdca26"
             ],
             [
              1,
              "#f0f921"
             ]
            ],
            "type": "histogram2d"
           }
          ],
          "histogram2dcontour": [
           {
            "colorbar": {
             "outlinewidth": 0,
             "ticks": ""
            },
            "colorscale": [
             [
              0,
              "#0d0887"
             ],
             [
              0.1111111111111111,
              "#46039f"
             ],
             [
              0.2222222222222222,
              "#7201a8"
             ],
             [
              0.3333333333333333,
              "#9c179e"
             ],
             [
              0.4444444444444444,
              "#bd3786"
             ],
             [
              0.5555555555555556,
              "#d8576b"
             ],
             [
              0.6666666666666666,
              "#ed7953"
             ],
             [
              0.7777777777777778,
              "#fb9f3a"
             ],
             [
              0.8888888888888888,
              "#fdca26"
             ],
             [
              1,
              "#f0f921"
             ]
            ],
            "type": "histogram2dcontour"
           }
          ],
          "mesh3d": [
           {
            "colorbar": {
             "outlinewidth": 0,
             "ticks": ""
            },
            "type": "mesh3d"
           }
          ],
          "parcoords": [
           {
            "line": {
             "colorbar": {
              "outlinewidth": 0,
              "ticks": ""
             }
            },
            "type": "parcoords"
           }
          ],
          "pie": [
           {
            "automargin": true,
            "type": "pie"
           }
          ],
          "scatter": [
           {
            "fillpattern": {
             "fillmode": "overlay",
             "size": 10,
             "solidity": 0.2
            },
            "type": "scatter"
           }
          ],
          "scatter3d": [
           {
            "line": {
             "colorbar": {
              "outlinewidth": 0,
              "ticks": ""
             }
            },
            "marker": {
             "colorbar": {
              "outlinewidth": 0,
              "ticks": ""
             }
            },
            "type": "scatter3d"
           }
          ],
          "scattercarpet": [
           {
            "marker": {
             "colorbar": {
              "outlinewidth": 0,
              "ticks": ""
             }
            },
            "type": "scattercarpet"
           }
          ],
          "scattergeo": [
           {
            "marker": {
             "colorbar": {
              "outlinewidth": 0,
              "ticks": ""
             }
            },
            "type": "scattergeo"
           }
          ],
          "scattergl": [
           {
            "marker": {
             "colorbar": {
              "outlinewidth": 0,
              "ticks": ""
             }
            },
            "type": "scattergl"
           }
          ],
          "scattermapbox": [
           {
            "marker": {
             "colorbar": {
              "outlinewidth": 0,
              "ticks": ""
             }
            },
            "type": "scattermapbox"
           }
          ],
          "scatterpolar": [
           {
            "marker": {
             "colorbar": {
              "outlinewidth": 0,
              "ticks": ""
             }
            },
            "type": "scatterpolar"
           }
          ],
          "scatterpolargl": [
           {
            "marker": {
             "colorbar": {
              "outlinewidth": 0,
              "ticks": ""
             }
            },
            "type": "scatterpolargl"
           }
          ],
          "scatterternary": [
           {
            "marker": {
             "colorbar": {
              "outlinewidth": 0,
              "ticks": ""
             }
            },
            "type": "scatterternary"
           }
          ],
          "surface": [
           {
            "colorbar": {
             "outlinewidth": 0,
             "ticks": ""
            },
            "colorscale": [
             [
              0,
              "#0d0887"
             ],
             [
              0.1111111111111111,
              "#46039f"
             ],
             [
              0.2222222222222222,
              "#7201a8"
             ],
             [
              0.3333333333333333,
              "#9c179e"
             ],
             [
              0.4444444444444444,
              "#bd3786"
             ],
             [
              0.5555555555555556,
              "#d8576b"
             ],
             [
              0.6666666666666666,
              "#ed7953"
             ],
             [
              0.7777777777777778,
              "#fb9f3a"
             ],
             [
              0.8888888888888888,
              "#fdca26"
             ],
             [
              1,
              "#f0f921"
             ]
            ],
            "type": "surface"
           }
          ],
          "table": [
           {
            "cells": {
             "fill": {
              "color": "#EBF0F8"
             },
             "line": {
              "color": "white"
             }
            },
            "header": {
             "fill": {
              "color": "#C8D4E3"
             },
             "line": {
              "color": "white"
             }
            },
            "type": "table"
           }
          ]
         },
         "layout": {
          "annotationdefaults": {
           "arrowcolor": "#2a3f5f",
           "arrowhead": 0,
           "arrowwidth": 1
          },
          "autotypenumbers": "strict",
          "coloraxis": {
           "colorbar": {
            "outlinewidth": 0,
            "ticks": ""
           }
          },
          "colorscale": {
           "diverging": [
            [
             0,
             "#8e0152"
            ],
            [
             0.1,
             "#c51b7d"
            ],
            [
             0.2,
             "#de77ae"
            ],
            [
             0.3,
             "#f1b6da"
            ],
            [
             0.4,
             "#fde0ef"
            ],
            [
             0.5,
             "#f7f7f7"
            ],
            [
             0.6,
             "#e6f5d0"
            ],
            [
             0.7,
             "#b8e186"
            ],
            [
             0.8,
             "#7fbc41"
            ],
            [
             0.9,
             "#4d9221"
            ],
            [
             1,
             "#276419"
            ]
           ],
           "sequential": [
            [
             0,
             "#0d0887"
            ],
            [
             0.1111111111111111,
             "#46039f"
            ],
            [
             0.2222222222222222,
             "#7201a8"
            ],
            [
             0.3333333333333333,
             "#9c179e"
            ],
            [
             0.4444444444444444,
             "#bd3786"
            ],
            [
             0.5555555555555556,
             "#d8576b"
            ],
            [
             0.6666666666666666,
             "#ed7953"
            ],
            [
             0.7777777777777778,
             "#fb9f3a"
            ],
            [
             0.8888888888888888,
             "#fdca26"
            ],
            [
             1,
             "#f0f921"
            ]
           ],
           "sequentialminus": [
            [
             0,
             "#0d0887"
            ],
            [
             0.1111111111111111,
             "#46039f"
            ],
            [
             0.2222222222222222,
             "#7201a8"
            ],
            [
             0.3333333333333333,
             "#9c179e"
            ],
            [
             0.4444444444444444,
             "#bd3786"
            ],
            [
             0.5555555555555556,
             "#d8576b"
            ],
            [
             0.6666666666666666,
             "#ed7953"
            ],
            [
             0.7777777777777778,
             "#fb9f3a"
            ],
            [
             0.8888888888888888,
             "#fdca26"
            ],
            [
             1,
             "#f0f921"
            ]
           ]
          },
          "colorway": [
           "#636efa",
           "#EF553B",
           "#00cc96",
           "#ab63fa",
           "#FFA15A",
           "#19d3f3",
           "#FF6692",
           "#B6E880",
           "#FF97FF",
           "#FECB52"
          ],
          "font": {
           "color": "#2a3f5f"
          },
          "geo": {
           "bgcolor": "white",
           "lakecolor": "white",
           "landcolor": "#E5ECF6",
           "showlakes": true,
           "showland": true,
           "subunitcolor": "white"
          },
          "hoverlabel": {
           "align": "left"
          },
          "hovermode": "closest",
          "mapbox": {
           "style": "light"
          },
          "paper_bgcolor": "white",
          "plot_bgcolor": "#E5ECF6",
          "polar": {
           "angularaxis": {
            "gridcolor": "white",
            "linecolor": "white",
            "ticks": ""
           },
           "bgcolor": "#E5ECF6",
           "radialaxis": {
            "gridcolor": "white",
            "linecolor": "white",
            "ticks": ""
           }
          },
          "scene": {
           "xaxis": {
            "backgroundcolor": "#E5ECF6",
            "gridcolor": "white",
            "gridwidth": 2,
            "linecolor": "white",
            "showbackground": true,
            "ticks": "",
            "zerolinecolor": "white"
           },
           "yaxis": {
            "backgroundcolor": "#E5ECF6",
            "gridcolor": "white",
            "gridwidth": 2,
            "linecolor": "white",
            "showbackground": true,
            "ticks": "",
            "zerolinecolor": "white"
           },
           "zaxis": {
            "backgroundcolor": "#E5ECF6",
            "gridcolor": "white",
            "gridwidth": 2,
            "linecolor": "white",
            "showbackground": true,
            "ticks": "",
            "zerolinecolor": "white"
           }
          },
          "shapedefaults": {
           "line": {
            "color": "#2a3f5f"
           }
          },
          "ternary": {
           "aaxis": {
            "gridcolor": "white",
            "linecolor": "white",
            "ticks": ""
           },
           "baxis": {
            "gridcolor": "white",
            "linecolor": "white",
            "ticks": ""
           },
           "bgcolor": "#E5ECF6",
           "caxis": {
            "gridcolor": "white",
            "linecolor": "white",
            "ticks": ""
           }
          },
          "title": {
           "x": 0.05
          },
          "xaxis": {
           "automargin": true,
           "gridcolor": "white",
           "linecolor": "white",
           "ticks": "",
           "title": {
            "standoff": 15
           },
           "zerolinecolor": "white",
           "zerolinewidth": 2
          },
          "yaxis": {
           "automargin": true,
           "gridcolor": "white",
           "linecolor": "white",
           "ticks": "",
           "title": {
            "standoff": 15
           },
           "zerolinecolor": "white",
           "zerolinewidth": 2
          }
         }
        },
        "title": {
         "text": "Histogram by Sex and Dose"
        },
        "xaxis": {
         "anchor": "y",
         "domain": [
          0,
          1
         ],
         "linecolor": "black",
         "linewidth": 1,
         "showline": true,
         "title": {
          "text": "Relative Weight"
         }
        },
        "yaxis": {
         "anchor": "x",
         "domain": [
          0,
          1
         ],
         "linecolor": "black",
         "linewidth": 1,
         "showline": true,
         "title": {
          "text": "Count"
         }
        }
       }
      },
      "text/html": [
       "<div>                            <div id=\"363e0944-b706-41b5-90e7-1affa346434d\" class=\"plotly-graph-div\" style=\"height:525px; width:100%;\"></div>            <script type=\"text/javascript\">                require([\"plotly\"], function(Plotly) {                    window.PLOTLYENV=window.PLOTLYENV || {};                                    if (document.getElementById(\"363e0944-b706-41b5-90e7-1affa346434d\")) {                    Plotly.newPlot(                        \"363e0944-b706-41b5-90e7-1affa346434d\",                        [{\"name\":\"male - Dose 0.0\",\"nbinsx\":8,\"x\":[0.05990654205607477,0.05537566137566138,0.05843654822335025,0.058110576923076925,0.05989610389610389,0.05667289719626169,0.05609502262443439,0.05862672811059908,0.058],\"type\":\"histogram\",\"xaxis\":\"x\",\"yaxis\":\"y\"},{\"name\":\"male - Dose 0.01\",\"nbinsx\":8,\"x\":[0.058775330396475776,0.05962025316455696,0.06335807860262009,0.06128491620111732,0.058893617021276594,0.06134554973821989,0.058858695652173915,0.056418719211822656,0.05476923076923077],\"type\":\"histogram\",\"xaxis\":\"x\",\"yaxis\":\"y\"},{\"name\":\"male - Dose 0.03\",\"nbinsx\":8,\"x\":[0.06170443349753694,0.057242990654205614,0.05835426008968609,0.062495145631067964,0.06234389140271492,0.06506410256410257,0.06280444444444444,0.06489743589743589,0.06039366515837104],\"type\":\"histogram\",\"xaxis\":\"x\",\"yaxis\":\"y\"},{\"name\":\"male - Dose 0.1\",\"nbinsx\":8,\"x\":[0.06318095238095238,0.06150222222222222,0.06108426966292134,0.06685308056872037,0.0665409090909091,0.06475663716814159,0.06375877192982456,0.0589811320754717,0.05741784037558686],\"type\":\"histogram\",\"xaxis\":\"x\",\"yaxis\":\"y\"},{\"name\":\"male - Dose 0.3\",\"nbinsx\":8,\"x\":[0.06603111111111111,0.06453669724770641,0.06318229166666667,0.0686294642857143,0.06815584415584415,0.06937068965517242,0.07129629629629629,0.07250239234449762,0.06973362445414848],\"type\":\"histogram\",\"xaxis\":\"x\",\"yaxis\":\"y\"},{\"name\":\"male - Dose 1.0\",\"nbinsx\":8,\"x\":[0.06834328358208955,0.06952511415525114,0.056316279069767446,0.0729237668161435,0.07633187772925765,0.07514485981308412,0.06678391959798995,0.06320603015075378,0.0694566210045662],\"type\":\"histogram\",\"xaxis\":\"x\",\"yaxis\":\"y\"},{\"name\":\"male - Dose 3.0\",\"nbinsx\":8,\"x\":[0.07536073059360732,0.0709409090909091,0.07848792270531402,0.07292344497607656,0.0721936936936937,0.07585148514851485,0.07713364055299539,0.07562857142857143,0.06990291262135921],\"type\":\"histogram\",\"xaxis\":\"x\",\"yaxis\":\"y\"},{\"name\":\"male - Dose 10.0\",\"nbinsx\":8,\"x\":[0.07623671497584542,0.07048598130841122,0.0777251184834123,0.0747012987012987,0.07701098901098902,0.07160386473429951,0.07510731707317074,0.07123893805309735,0.07137368421052633],\"type\":\"histogram\",\"xaxis\":\"x\",\"yaxis\":\"y\"},{\"name\":\"male - Dose 30.0\",\"nbinsx\":8,\"x\":[0.08907344632768362,0.07282795698924731,0.09210691823899371,0.09162345679012346,0.09572670807453415,0.06852284263959392,0.07810243902439024,0.08778395061728395,0.07434736842105263],\"type\":\"histogram\",\"xaxis\":\"x\",\"yaxis\":\"y\"}],                        {\"template\":{\"data\":{\"histogram2dcontour\":[{\"type\":\"histogram2dcontour\",\"colorbar\":{\"outlinewidth\":0,\"ticks\":\"\"},\"colorscale\":[[0.0,\"#0d0887\"],[0.1111111111111111,\"#46039f\"],[0.2222222222222222,\"#7201a8\"],[0.3333333333333333,\"#9c179e\"],[0.4444444444444444,\"#bd3786\"],[0.5555555555555556,\"#d8576b\"],[0.6666666666666666,\"#ed7953\"],[0.7777777777777778,\"#fb9f3a\"],[0.8888888888888888,\"#fdca26\"],[1.0,\"#f0f921\"]]}],\"choropleth\":[{\"type\":\"choropleth\",\"colorbar\":{\"outlinewidth\":0,\"ticks\":\"\"}}],\"histogram2d\":[{\"type\":\"histogram2d\",\"colorbar\":{\"outlinewidth\":0,\"ticks\":\"\"},\"colorscale\":[[0.0,\"#0d0887\"],[0.1111111111111111,\"#46039f\"],[0.2222222222222222,\"#7201a8\"],[0.3333333333333333,\"#9c179e\"],[0.4444444444444444,\"#bd3786\"],[0.5555555555555556,\"#d8576b\"],[0.6666666666666666,\"#ed7953\"],[0.7777777777777778,\"#fb9f3a\"],[0.8888888888888888,\"#fdca26\"],[1.0,\"#f0f921\"]]}],\"heatmap\":[{\"type\":\"heatmap\",\"colorbar\":{\"outlinewidth\":0,\"ticks\":\"\"},\"colorscale\":[[0.0,\"#0d0887\"],[0.1111111111111111,\"#46039f\"],[0.2222222222222222,\"#7201a8\"],[0.3333333333333333,\"#9c179e\"],[0.4444444444444444,\"#bd3786\"],[0.5555555555555556,\"#d8576b\"],[0.6666666666666666,\"#ed7953\"],[0.7777777777777778,\"#fb9f3a\"],[0.8888888888888888,\"#fdca26\"],[1.0,\"#f0f921\"]]}],\"heatmapgl\":[{\"type\":\"heatmapgl\",\"colorbar\":{\"outlinewidth\":0,\"ticks\":\"\"},\"colorscale\":[[0.0,\"#0d0887\"],[0.1111111111111111,\"#46039f\"],[0.2222222222222222,\"#7201a8\"],[0.3333333333333333,\"#9c179e\"],[0.4444444444444444,\"#bd3786\"],[0.5555555555555556,\"#d8576b\"],[0.6666666666666666,\"#ed7953\"],[0.7777777777777778,\"#fb9f3a\"],[0.8888888888888888,\"#fdca26\"],[1.0,\"#f0f921\"]]}],\"contourcarpet\":[{\"type\":\"contourcarpet\",\"colorbar\":{\"outlinewidth\":0,\"ticks\":\"\"}}],\"contour\":[{\"type\":\"contour\",\"colorbar\":{\"outlinewidth\":0,\"ticks\":\"\"},\"colorscale\":[[0.0,\"#0d0887\"],[0.1111111111111111,\"#46039f\"],[0.2222222222222222,\"#7201a8\"],[0.3333333333333333,\"#9c179e\"],[0.4444444444444444,\"#bd3786\"],[0.5555555555555556,\"#d8576b\"],[0.6666666666666666,\"#ed7953\"],[0.7777777777777778,\"#fb9f3a\"],[0.8888888888888888,\"#fdca26\"],[1.0,\"#f0f921\"]]}],\"surface\":[{\"type\":\"surface\",\"colorbar\":{\"outlinewidth\":0,\"ticks\":\"\"},\"colorscale\":[[0.0,\"#0d0887\"],[0.1111111111111111,\"#46039f\"],[0.2222222222222222,\"#7201a8\"],[0.3333333333333333,\"#9c179e\"],[0.4444444444444444,\"#bd3786\"],[0.5555555555555556,\"#d8576b\"],[0.6666666666666666,\"#ed7953\"],[0.7777777777777778,\"#fb9f3a\"],[0.8888888888888888,\"#fdca26\"],[1.0,\"#f0f921\"]]}],\"mesh3d\":[{\"type\":\"mesh3d\",\"colorbar\":{\"outlinewidth\":0,\"ticks\":\"\"}}],\"scatter\":[{\"fillpattern\":{\"fillmode\":\"overlay\",\"size\":10,\"solidity\":0.2},\"type\":\"scatter\"}],\"parcoords\":[{\"type\":\"parcoords\",\"line\":{\"colorbar\":{\"outlinewidth\":0,\"ticks\":\"\"}}}],\"scatterpolargl\":[{\"type\":\"scatterpolargl\",\"marker\":{\"colorbar\":{\"outlinewidth\":0,\"ticks\":\"\"}}}],\"bar\":[{\"error_x\":{\"color\":\"#2a3f5f\"},\"error_y\":{\"color\":\"#2a3f5f\"},\"marker\":{\"line\":{\"color\":\"#E5ECF6\",\"width\":0.5},\"pattern\":{\"fillmode\":\"overlay\",\"size\":10,\"solidity\":0.2}},\"type\":\"bar\"}],\"scattergeo\":[{\"type\":\"scattergeo\",\"marker\":{\"colorbar\":{\"outlinewidth\":0,\"ticks\":\"\"}}}],\"scatterpolar\":[{\"type\":\"scatterpolar\",\"marker\":{\"colorbar\":{\"outlinewidth\":0,\"ticks\":\"\"}}}],\"histogram\":[{\"marker\":{\"pattern\":{\"fillmode\":\"overlay\",\"size\":10,\"solidity\":0.2}},\"type\":\"histogram\"}],\"scattergl\":[{\"type\":\"scattergl\",\"marker\":{\"colorbar\":{\"outlinewidth\":0,\"ticks\":\"\"}}}],\"scatter3d\":[{\"type\":\"scatter3d\",\"line\":{\"colorbar\":{\"outlinewidth\":0,\"ticks\":\"\"}},\"marker\":{\"colorbar\":{\"outlinewidth\":0,\"ticks\":\"\"}}}],\"scattermapbox\":[{\"type\":\"scattermapbox\",\"marker\":{\"colorbar\":{\"outlinewidth\":0,\"ticks\":\"\"}}}],\"scatterternary\":[{\"type\":\"scatterternary\",\"marker\":{\"colorbar\":{\"outlinewidth\":0,\"ticks\":\"\"}}}],\"scattercarpet\":[{\"type\":\"scattercarpet\",\"marker\":{\"colorbar\":{\"outlinewidth\":0,\"ticks\":\"\"}}}],\"carpet\":[{\"aaxis\":{\"endlinecolor\":\"#2a3f5f\",\"gridcolor\":\"white\",\"linecolor\":\"white\",\"minorgridcolor\":\"white\",\"startlinecolor\":\"#2a3f5f\"},\"baxis\":{\"endlinecolor\":\"#2a3f5f\",\"gridcolor\":\"white\",\"linecolor\":\"white\",\"minorgridcolor\":\"white\",\"startlinecolor\":\"#2a3f5f\"},\"type\":\"carpet\"}],\"table\":[{\"cells\":{\"fill\":{\"color\":\"#EBF0F8\"},\"line\":{\"color\":\"white\"}},\"header\":{\"fill\":{\"color\":\"#C8D4E3\"},\"line\":{\"color\":\"white\"}},\"type\":\"table\"}],\"barpolar\":[{\"marker\":{\"line\":{\"color\":\"#E5ECF6\",\"width\":0.5},\"pattern\":{\"fillmode\":\"overlay\",\"size\":10,\"solidity\":0.2}},\"type\":\"barpolar\"}],\"pie\":[{\"automargin\":true,\"type\":\"pie\"}]},\"layout\":{\"autotypenumbers\":\"strict\",\"colorway\":[\"#636efa\",\"#EF553B\",\"#00cc96\",\"#ab63fa\",\"#FFA15A\",\"#19d3f3\",\"#FF6692\",\"#B6E880\",\"#FF97FF\",\"#FECB52\"],\"font\":{\"color\":\"#2a3f5f\"},\"hovermode\":\"closest\",\"hoverlabel\":{\"align\":\"left\"},\"paper_bgcolor\":\"white\",\"plot_bgcolor\":\"#E5ECF6\",\"polar\":{\"bgcolor\":\"#E5ECF6\",\"angularaxis\":{\"gridcolor\":\"white\",\"linecolor\":\"white\",\"ticks\":\"\"},\"radialaxis\":{\"gridcolor\":\"white\",\"linecolor\":\"white\",\"ticks\":\"\"}},\"ternary\":{\"bgcolor\":\"#E5ECF6\",\"aaxis\":{\"gridcolor\":\"white\",\"linecolor\":\"white\",\"ticks\":\"\"},\"baxis\":{\"gridcolor\":\"white\",\"linecolor\":\"white\",\"ticks\":\"\"},\"caxis\":{\"gridcolor\":\"white\",\"linecolor\":\"white\",\"ticks\":\"\"}},\"coloraxis\":{\"colorbar\":{\"outlinewidth\":0,\"ticks\":\"\"}},\"colorscale\":{\"sequential\":[[0.0,\"#0d0887\"],[0.1111111111111111,\"#46039f\"],[0.2222222222222222,\"#7201a8\"],[0.3333333333333333,\"#9c179e\"],[0.4444444444444444,\"#bd3786\"],[0.5555555555555556,\"#d8576b\"],[0.6666666666666666,\"#ed7953\"],[0.7777777777777778,\"#fb9f3a\"],[0.8888888888888888,\"#fdca26\"],[1.0,\"#f0f921\"]],\"sequentialminus\":[[0.0,\"#0d0887\"],[0.1111111111111111,\"#46039f\"],[0.2222222222222222,\"#7201a8\"],[0.3333333333333333,\"#9c179e\"],[0.4444444444444444,\"#bd3786\"],[0.5555555555555556,\"#d8576b\"],[0.6666666666666666,\"#ed7953\"],[0.7777777777777778,\"#fb9f3a\"],[0.8888888888888888,\"#fdca26\"],[1.0,\"#f0f921\"]],\"diverging\":[[0,\"#8e0152\"],[0.1,\"#c51b7d\"],[0.2,\"#de77ae\"],[0.3,\"#f1b6da\"],[0.4,\"#fde0ef\"],[0.5,\"#f7f7f7\"],[0.6,\"#e6f5d0\"],[0.7,\"#b8e186\"],[0.8,\"#7fbc41\"],[0.9,\"#4d9221\"],[1,\"#276419\"]]},\"xaxis\":{\"gridcolor\":\"white\",\"linecolor\":\"white\",\"ticks\":\"\",\"title\":{\"standoff\":15},\"zerolinecolor\":\"white\",\"automargin\":true,\"zerolinewidth\":2},\"yaxis\":{\"gridcolor\":\"white\",\"linecolor\":\"white\",\"ticks\":\"\",\"title\":{\"standoff\":15},\"zerolinecolor\":\"white\",\"automargin\":true,\"zerolinewidth\":2},\"scene\":{\"xaxis\":{\"backgroundcolor\":\"#E5ECF6\",\"gridcolor\":\"white\",\"linecolor\":\"white\",\"showbackground\":true,\"ticks\":\"\",\"zerolinecolor\":\"white\",\"gridwidth\":2},\"yaxis\":{\"backgroundcolor\":\"#E5ECF6\",\"gridcolor\":\"white\",\"linecolor\":\"white\",\"showbackground\":true,\"ticks\":\"\",\"zerolinecolor\":\"white\",\"gridwidth\":2},\"zaxis\":{\"backgroundcolor\":\"#E5ECF6\",\"gridcolor\":\"white\",\"linecolor\":\"white\",\"showbackground\":true,\"ticks\":\"\",\"zerolinecolor\":\"white\",\"gridwidth\":2}},\"shapedefaults\":{\"line\":{\"color\":\"#2a3f5f\"}},\"annotationdefaults\":{\"arrowcolor\":\"#2a3f5f\",\"arrowhead\":0,\"arrowwidth\":1},\"geo\":{\"bgcolor\":\"white\",\"landcolor\":\"#E5ECF6\",\"subunitcolor\":\"white\",\"showland\":true,\"showlakes\":true,\"lakecolor\":\"white\"},\"title\":{\"x\":0.05},\"mapbox\":{\"style\":\"light\"}}},\"xaxis\":{\"anchor\":\"y\",\"domain\":[0.0,1.0],\"title\":{\"text\":\"Relative Weight\"},\"showline\":true,\"linewidth\":1,\"linecolor\":\"black\"},\"yaxis\":{\"anchor\":\"x\",\"domain\":[0.0,1.0],\"title\":{\"text\":\"Count\"},\"showline\":true,\"linewidth\":1,\"linecolor\":\"black\"},\"title\":{\"text\":\"Histogram by Sex and Dose\"},\"plot_bgcolor\":\"white\",\"paper_bgcolor\":\"white\",\"showlegend\":true},                        {\"responsive\": true}                    ).then(function(){\n",
       "                            \n",
       "var gd = document.getElementById('363e0944-b706-41b5-90e7-1affa346434d');\n",
       "var x = new MutationObserver(function (mutations, observer) {{\n",
       "        var display = window.getComputedStyle(gd).display;\n",
       "        if (!display || display === 'none') {{\n",
       "            console.log([gd, 'removed!']);\n",
       "            Plotly.purge(gd);\n",
       "            observer.disconnect();\n",
       "        }}\n",
       "}});\n",
       "\n",
       "// Listen for the removal of the full notebook cells\n",
       "var notebookContainer = gd.closest('#notebook-container');\n",
       "if (notebookContainer) {{\n",
       "    x.observe(notebookContainer, {childList: true});\n",
       "}}\n",
       "\n",
       "// Listen for the clearing of the current output cell\n",
       "var outputEl = gd.closest('.output');\n",
       "if (outputEl) {{\n",
       "    x.observe(outputEl, {childList: true});\n",
       "}}\n",
       "\n",
       "                        })                };                });            </script>        </div>"
      ]
     },
     "metadata": {},
     "output_type": "display_data"
    }
   ],
   "source": [
    "from plotly.subplots import make_subplots  # Add this line to import make_subplots\n",
    "\n",
    "df = input_data\n",
    "\n",
    "# Create subplots for each biospecimen_anatomic_site\n",
    "fig = make_subplots(rows=1, cols=len(df[\"biospecimen_anatomic_site\"].unique()), shared_yaxes=True)\n",
    "\n",
    "for i, site in enumerate(df[\"biospecimen_anatomic_site\"].unique(), 1):\n",
    "    # Filter the data for the current biospecimen_anatomic_site\n",
    "    site_data = df[df[\"biospecimen_anatomic_site\"] == site]\n",
    "\n",
    "    # Create a histogram trace for each sex and dose combination\n",
    "    for sex in site_data[\"sex_x\"].unique():\n",
    "        for dose in site_data[\"dose_amount_x\"].unique():\n",
    "            trace_data = site_data[(site_data[\"sex_x\"] == sex) & (site_data[\"dose_amount_x\"] == dose)]\n",
    "            trace = go.Histogram(x=trace_data[\"relative_weight\"], nbinsx=8, name=f\"{sex} - Dose {dose}\")\n",
    "            fig.add_trace(trace, row=1, col=i)\n",
    "\n",
    "# Update layout and axis labels\n",
    "fig.update_layout(\n",
    "    title_text=\"Histogram by Sex and Dose\",\n",
    "    xaxis_title=\"Relative Weight\",\n",
    "    yaxis_title=\"Count\",\n",
    "    plot_bgcolor='white',  # Set background color to white\n",
    "    paper_bgcolor='white',  # Set paper color to white\n",
    "    showlegend=True,  # Hide the legend for individual histograms\n",
    ")\n",
    "\n",
    "# Set the plot area border color\n",
    "fig.update_xaxes(showline=True, linewidth=1, linecolor='black')  # Set x-axis border color\n",
    "fig.update_yaxes(showline=True, linewidth=1, linecolor='black')  # Set y-axis border color\n",
    "\n",
    "# Show the plot\n",
    "fig.show()"
   ]
  },
  {
   "cell_type": "markdown",
   "id": "97f99b5c",
   "metadata": {},
   "source": [
    "### Boxplot of relative liver weights for each group"
   ]
  },
  {
   "cell_type": "code",
   "execution_count": 54,
   "id": "ee83e22a",
   "metadata": {},
   "outputs": [
    {
     "data": {
      "application/vnd.plotly.v1+json": {
       "config": {
        "plotlyServerURL": "https://plot.ly"
       },
       "data": [
        {
         "boxpoints": false,
         "name": "Liver",
         "type": "box",
         "x": [
          "0.0",
          "0.0",
          "0.0",
          "0.0",
          "0.0",
          "0.0",
          "0.0",
          "0.0",
          "0.0",
          "0.01",
          "0.01",
          "0.01",
          "0.01",
          "0.01",
          "0.01",
          "0.01",
          "0.01",
          "0.01",
          "0.03",
          "0.03",
          "0.03",
          "0.03",
          "0.03",
          "0.03",
          "0.03",
          "0.03",
          "0.03",
          "0.1",
          "0.1",
          "0.1",
          "0.1",
          "0.1",
          "0.1",
          "0.1",
          "0.1",
          "0.1",
          "0.3",
          "0.3",
          "0.3",
          "0.3",
          "0.3",
          "0.3",
          "0.3",
          "0.3",
          "0.3",
          "1.0",
          "1.0",
          "1.0",
          "1.0",
          "1.0",
          "1.0",
          "1.0",
          "1.0",
          "1.0",
          "3.0",
          "3.0",
          "3.0",
          "3.0",
          "3.0",
          "3.0",
          "3.0",
          "3.0",
          "3.0",
          "10.0",
          "10.0",
          "10.0",
          "10.0",
          "10.0",
          "10.0",
          "10.0",
          "10.0",
          "10.0",
          "30",
          "30",
          "30",
          "30",
          "30",
          "30",
          "30",
          "30",
          "30"
         ],
         "y": [
          0.05990654205607477,
          0.05537566137566138,
          0.05843654822335025,
          0.058110576923076925,
          0.05989610389610389,
          0.05667289719626169,
          0.05609502262443439,
          0.05862672811059908,
          0.058,
          0.058775330396475776,
          0.05962025316455696,
          0.06335807860262009,
          0.06128491620111732,
          0.058893617021276594,
          0.06134554973821989,
          0.058858695652173915,
          0.056418719211822656,
          0.05476923076923077,
          0.06170443349753694,
          0.057242990654205614,
          0.05835426008968609,
          0.062495145631067964,
          0.06234389140271492,
          0.06506410256410257,
          0.06280444444444444,
          0.06489743589743589,
          0.06039366515837104,
          0.06318095238095238,
          0.06150222222222222,
          0.06108426966292134,
          0.06685308056872037,
          0.0665409090909091,
          0.06475663716814159,
          0.06375877192982456,
          0.0589811320754717,
          0.05741784037558686,
          0.06603111111111111,
          0.06453669724770641,
          0.06318229166666667,
          0.0686294642857143,
          0.06815584415584415,
          0.06937068965517242,
          0.07129629629629629,
          0.07250239234449762,
          0.06973362445414848,
          0.06834328358208955,
          0.06952511415525114,
          0.056316279069767446,
          0.0729237668161435,
          0.07633187772925765,
          0.07514485981308412,
          0.06678391959798995,
          0.06320603015075378,
          0.0694566210045662,
          0.07536073059360732,
          0.0709409090909091,
          0.07848792270531402,
          0.07292344497607656,
          0.0721936936936937,
          0.07585148514851485,
          0.07713364055299539,
          0.07562857142857143,
          0.06990291262135921,
          0.07623671497584542,
          0.07048598130841122,
          0.0777251184834123,
          0.0747012987012987,
          0.07701098901098902,
          0.07160386473429951,
          0.07510731707317074,
          0.07123893805309735,
          0.07137368421052633,
          0.08907344632768362,
          0.07282795698924731,
          0.09210691823899371,
          0.09162345679012346,
          0.09572670807453415,
          0.06852284263959392,
          0.07810243902439024,
          0.08778395061728395,
          0.07434736842105263
         ]
        },
        {
         "marker": {
          "size": 8
         },
         "mode": "markers",
         "name": "Liver Jitter",
         "showlegend": false,
         "type": "scatter",
         "x": [
          "0.0",
          "0.0",
          "0.0",
          "0.0",
          "0.0",
          "0.0",
          "0.0",
          "0.0",
          "0.0",
          "0.01",
          "0.01",
          "0.01",
          "0.01",
          "0.01",
          "0.01",
          "0.01",
          "0.01",
          "0.01",
          "0.03",
          "0.03",
          "0.03",
          "0.03",
          "0.03",
          "0.03",
          "0.03",
          "0.03",
          "0.03",
          "0.1",
          "0.1",
          "0.1",
          "0.1",
          "0.1",
          "0.1",
          "0.1",
          "0.1",
          "0.1",
          "0.3",
          "0.3",
          "0.3",
          "0.3",
          "0.3",
          "0.3",
          "0.3",
          "0.3",
          "0.3",
          "1.0",
          "1.0",
          "1.0",
          "1.0",
          "1.0",
          "1.0",
          "1.0",
          "1.0",
          "1.0",
          "3.0",
          "3.0",
          "3.0",
          "3.0",
          "3.0",
          "3.0",
          "3.0",
          "3.0",
          "3.0",
          "10.0",
          "10.0",
          "10.0",
          "10.0",
          "10.0",
          "10.0",
          "10.0",
          "10.0",
          "10.0",
          "30",
          "30",
          "30",
          "30",
          "30",
          "30",
          "30",
          "30",
          "30"
         ],
         "y": [
          0.05990654205607477,
          0.05537566137566138,
          0.05843654822335025,
          0.058110576923076925,
          0.05989610389610389,
          0.05667289719626169,
          0.05609502262443439,
          0.05862672811059908,
          0.058,
          0.058775330396475776,
          0.05962025316455696,
          0.06335807860262009,
          0.06128491620111732,
          0.058893617021276594,
          0.06134554973821989,
          0.058858695652173915,
          0.056418719211822656,
          0.05476923076923077,
          0.06170443349753694,
          0.057242990654205614,
          0.05835426008968609,
          0.062495145631067964,
          0.06234389140271492,
          0.06506410256410257,
          0.06280444444444444,
          0.06489743589743589,
          0.06039366515837104,
          0.06318095238095238,
          0.06150222222222222,
          0.06108426966292134,
          0.06685308056872037,
          0.0665409090909091,
          0.06475663716814159,
          0.06375877192982456,
          0.0589811320754717,
          0.05741784037558686,
          0.06603111111111111,
          0.06453669724770641,
          0.06318229166666667,
          0.0686294642857143,
          0.06815584415584415,
          0.06937068965517242,
          0.07129629629629629,
          0.07250239234449762,
          0.06973362445414848,
          0.06834328358208955,
          0.06952511415525114,
          0.056316279069767446,
          0.0729237668161435,
          0.07633187772925765,
          0.07514485981308412,
          0.06678391959798995,
          0.06320603015075378,
          0.0694566210045662,
          0.07536073059360732,
          0.0709409090909091,
          0.07848792270531402,
          0.07292344497607656,
          0.0721936936936937,
          0.07585148514851485,
          0.07713364055299539,
          0.07562857142857143,
          0.06990291262135921,
          0.07623671497584542,
          0.07048598130841122,
          0.0777251184834123,
          0.0747012987012987,
          0.07701098901098902,
          0.07160386473429951,
          0.07510731707317074,
          0.07123893805309735,
          0.07137368421052633,
          0.08907344632768362,
          0.07282795698924731,
          0.09210691823899371,
          0.09162345679012346,
          0.09572670807453415,
          0.06852284263959392,
          0.07810243902439024,
          0.08778395061728395,
          0.07434736842105263
         ]
        }
       ],
       "layout": {
        "paper_bgcolor": "white",
        "plot_bgcolor": "white",
        "template": {
         "data": {
          "bar": [
           {
            "error_x": {
             "color": "#2a3f5f"
            },
            "error_y": {
             "color": "#2a3f5f"
            },
            "marker": {
             "line": {
              "color": "#E5ECF6",
              "width": 0.5
             },
             "pattern": {
              "fillmode": "overlay",
              "size": 10,
              "solidity": 0.2
             }
            },
            "type": "bar"
           }
          ],
          "barpolar": [
           {
            "marker": {
             "line": {
              "color": "#E5ECF6",
              "width": 0.5
             },
             "pattern": {
              "fillmode": "overlay",
              "size": 10,
              "solidity": 0.2
             }
            },
            "type": "barpolar"
           }
          ],
          "carpet": [
           {
            "aaxis": {
             "endlinecolor": "#2a3f5f",
             "gridcolor": "white",
             "linecolor": "white",
             "minorgridcolor": "white",
             "startlinecolor": "#2a3f5f"
            },
            "baxis": {
             "endlinecolor": "#2a3f5f",
             "gridcolor": "white",
             "linecolor": "white",
             "minorgridcolor": "white",
             "startlinecolor": "#2a3f5f"
            },
            "type": "carpet"
           }
          ],
          "choropleth": [
           {
            "colorbar": {
             "outlinewidth": 0,
             "ticks": ""
            },
            "type": "choropleth"
           }
          ],
          "contour": [
           {
            "colorbar": {
             "outlinewidth": 0,
             "ticks": ""
            },
            "colorscale": [
             [
              0,
              "#0d0887"
             ],
             [
              0.1111111111111111,
              "#46039f"
             ],
             [
              0.2222222222222222,
              "#7201a8"
             ],
             [
              0.3333333333333333,
              "#9c179e"
             ],
             [
              0.4444444444444444,
              "#bd3786"
             ],
             [
              0.5555555555555556,
              "#d8576b"
             ],
             [
              0.6666666666666666,
              "#ed7953"
             ],
             [
              0.7777777777777778,
              "#fb9f3a"
             ],
             [
              0.8888888888888888,
              "#fdca26"
             ],
             [
              1,
              "#f0f921"
             ]
            ],
            "type": "contour"
           }
          ],
          "contourcarpet": [
           {
            "colorbar": {
             "outlinewidth": 0,
             "ticks": ""
            },
            "type": "contourcarpet"
           }
          ],
          "heatmap": [
           {
            "colorbar": {
             "outlinewidth": 0,
             "ticks": ""
            },
            "colorscale": [
             [
              0,
              "#0d0887"
             ],
             [
              0.1111111111111111,
              "#46039f"
             ],
             [
              0.2222222222222222,
              "#7201a8"
             ],
             [
              0.3333333333333333,
              "#9c179e"
             ],
             [
              0.4444444444444444,
              "#bd3786"
             ],
             [
              0.5555555555555556,
              "#d8576b"
             ],
             [
              0.6666666666666666,
              "#ed7953"
             ],
             [
              0.7777777777777778,
              "#fb9f3a"
             ],
             [
              0.8888888888888888,
              "#fdca26"
             ],
             [
              1,
              "#f0f921"
             ]
            ],
            "type": "heatmap"
           }
          ],
          "heatmapgl": [
           {
            "colorbar": {
             "outlinewidth": 0,
             "ticks": ""
            },
            "colorscale": [
             [
              0,
              "#0d0887"
             ],
             [
              0.1111111111111111,
              "#46039f"
             ],
             [
              0.2222222222222222,
              "#7201a8"
             ],
             [
              0.3333333333333333,
              "#9c179e"
             ],
             [
              0.4444444444444444,
              "#bd3786"
             ],
             [
              0.5555555555555556,
              "#d8576b"
             ],
             [
              0.6666666666666666,
              "#ed7953"
             ],
             [
              0.7777777777777778,
              "#fb9f3a"
             ],
             [
              0.8888888888888888,
              "#fdca26"
             ],
             [
              1,
              "#f0f921"
             ]
            ],
            "type": "heatmapgl"
           }
          ],
          "histogram": [
           {
            "marker": {
             "pattern": {
              "fillmode": "overlay",
              "size": 10,
              "solidity": 0.2
             }
            },
            "type": "histogram"
           }
          ],
          "histogram2d": [
           {
            "colorbar": {
             "outlinewidth": 0,
             "ticks": ""
            },
            "colorscale": [
             [
              0,
              "#0d0887"
             ],
             [
              0.1111111111111111,
              "#46039f"
             ],
             [
              0.2222222222222222,
              "#7201a8"
             ],
             [
              0.3333333333333333,
              "#9c179e"
             ],
             [
              0.4444444444444444,
              "#bd3786"
             ],
             [
              0.5555555555555556,
              "#d8576b"
             ],
             [
              0.6666666666666666,
              "#ed7953"
             ],
             [
              0.7777777777777778,
              "#fb9f3a"
             ],
             [
              0.8888888888888888,
              "#fdca26"
             ],
             [
              1,
              "#f0f921"
             ]
            ],
            "type": "histogram2d"
           }
          ],
          "histogram2dcontour": [
           {
            "colorbar": {
             "outlinewidth": 0,
             "ticks": ""
            },
            "colorscale": [
             [
              0,
              "#0d0887"
             ],
             [
              0.1111111111111111,
              "#46039f"
             ],
             [
              0.2222222222222222,
              "#7201a8"
             ],
             [
              0.3333333333333333,
              "#9c179e"
             ],
             [
              0.4444444444444444,
              "#bd3786"
             ],
             [
              0.5555555555555556,
              "#d8576b"
             ],
             [
              0.6666666666666666,
              "#ed7953"
             ],
             [
              0.7777777777777778,
              "#fb9f3a"
             ],
             [
              0.8888888888888888,
              "#fdca26"
             ],
             [
              1,
              "#f0f921"
             ]
            ],
            "type": "histogram2dcontour"
           }
          ],
          "mesh3d": [
           {
            "colorbar": {
             "outlinewidth": 0,
             "ticks": ""
            },
            "type": "mesh3d"
           }
          ],
          "parcoords": [
           {
            "line": {
             "colorbar": {
              "outlinewidth": 0,
              "ticks": ""
             }
            },
            "type": "parcoords"
           }
          ],
          "pie": [
           {
            "automargin": true,
            "type": "pie"
           }
          ],
          "scatter": [
           {
            "fillpattern": {
             "fillmode": "overlay",
             "size": 10,
             "solidity": 0.2
            },
            "type": "scatter"
           }
          ],
          "scatter3d": [
           {
            "line": {
             "colorbar": {
              "outlinewidth": 0,
              "ticks": ""
             }
            },
            "marker": {
             "colorbar": {
              "outlinewidth": 0,
              "ticks": ""
             }
            },
            "type": "scatter3d"
           }
          ],
          "scattercarpet": [
           {
            "marker": {
             "colorbar": {
              "outlinewidth": 0,
              "ticks": ""
             }
            },
            "type": "scattercarpet"
           }
          ],
          "scattergeo": [
           {
            "marker": {
             "colorbar": {
              "outlinewidth": 0,
              "ticks": ""
             }
            },
            "type": "scattergeo"
           }
          ],
          "scattergl": [
           {
            "marker": {
             "colorbar": {
              "outlinewidth": 0,
              "ticks": ""
             }
            },
            "type": "scattergl"
           }
          ],
          "scattermapbox": [
           {
            "marker": {
             "colorbar": {
              "outlinewidth": 0,
              "ticks": ""
             }
            },
            "type": "scattermapbox"
           }
          ],
          "scatterpolar": [
           {
            "marker": {
             "colorbar": {
              "outlinewidth": 0,
              "ticks": ""
             }
            },
            "type": "scatterpolar"
           }
          ],
          "scatterpolargl": [
           {
            "marker": {
             "colorbar": {
              "outlinewidth": 0,
              "ticks": ""
             }
            },
            "type": "scatterpolargl"
           }
          ],
          "scatterternary": [
           {
            "marker": {
             "colorbar": {
              "outlinewidth": 0,
              "ticks": ""
             }
            },
            "type": "scatterternary"
           }
          ],
          "surface": [
           {
            "colorbar": {
             "outlinewidth": 0,
             "ticks": ""
            },
            "colorscale": [
             [
              0,
              "#0d0887"
             ],
             [
              0.1111111111111111,
              "#46039f"
             ],
             [
              0.2222222222222222,
              "#7201a8"
             ],
             [
              0.3333333333333333,
              "#9c179e"
             ],
             [
              0.4444444444444444,
              "#bd3786"
             ],
             [
              0.5555555555555556,
              "#d8576b"
             ],
             [
              0.6666666666666666,
              "#ed7953"
             ],
             [
              0.7777777777777778,
              "#fb9f3a"
             ],
             [
              0.8888888888888888,
              "#fdca26"
             ],
             [
              1,
              "#f0f921"
             ]
            ],
            "type": "surface"
           }
          ],
          "table": [
           {
            "cells": {
             "fill": {
              "color": "#EBF0F8"
             },
             "line": {
              "color": "white"
             }
            },
            "header": {
             "fill": {
              "color": "#C8D4E3"
             },
             "line": {
              "color": "white"
             }
            },
            "type": "table"
           }
          ]
         },
         "layout": {
          "annotationdefaults": {
           "arrowcolor": "#2a3f5f",
           "arrowhead": 0,
           "arrowwidth": 1
          },
          "autotypenumbers": "strict",
          "coloraxis": {
           "colorbar": {
            "outlinewidth": 0,
            "ticks": ""
           }
          },
          "colorscale": {
           "diverging": [
            [
             0,
             "#8e0152"
            ],
            [
             0.1,
             "#c51b7d"
            ],
            [
             0.2,
             "#de77ae"
            ],
            [
             0.3,
             "#f1b6da"
            ],
            [
             0.4,
             "#fde0ef"
            ],
            [
             0.5,
             "#f7f7f7"
            ],
            [
             0.6,
             "#e6f5d0"
            ],
            [
             0.7,
             "#b8e186"
            ],
            [
             0.8,
             "#7fbc41"
            ],
            [
             0.9,
             "#4d9221"
            ],
            [
             1,
             "#276419"
            ]
           ],
           "sequential": [
            [
             0,
             "#0d0887"
            ],
            [
             0.1111111111111111,
             "#46039f"
            ],
            [
             0.2222222222222222,
             "#7201a8"
            ],
            [
             0.3333333333333333,
             "#9c179e"
            ],
            [
             0.4444444444444444,
             "#bd3786"
            ],
            [
             0.5555555555555556,
             "#d8576b"
            ],
            [
             0.6666666666666666,
             "#ed7953"
            ],
            [
             0.7777777777777778,
             "#fb9f3a"
            ],
            [
             0.8888888888888888,
             "#fdca26"
            ],
            [
             1,
             "#f0f921"
            ]
           ],
           "sequentialminus": [
            [
             0,
             "#0d0887"
            ],
            [
             0.1111111111111111,
             "#46039f"
            ],
            [
             0.2222222222222222,
             "#7201a8"
            ],
            [
             0.3333333333333333,
             "#9c179e"
            ],
            [
             0.4444444444444444,
             "#bd3786"
            ],
            [
             0.5555555555555556,
             "#d8576b"
            ],
            [
             0.6666666666666666,
             "#ed7953"
            ],
            [
             0.7777777777777778,
             "#fb9f3a"
            ],
            [
             0.8888888888888888,
             "#fdca26"
            ],
            [
             1,
             "#f0f921"
            ]
           ]
          },
          "colorway": [
           "#636efa",
           "#EF553B",
           "#00cc96",
           "#ab63fa",
           "#FFA15A",
           "#19d3f3",
           "#FF6692",
           "#B6E880",
           "#FF97FF",
           "#FECB52"
          ],
          "font": {
           "color": "#2a3f5f"
          },
          "geo": {
           "bgcolor": "white",
           "lakecolor": "white",
           "landcolor": "#E5ECF6",
           "showlakes": true,
           "showland": true,
           "subunitcolor": "white"
          },
          "hoverlabel": {
           "align": "left"
          },
          "hovermode": "closest",
          "mapbox": {
           "style": "light"
          },
          "paper_bgcolor": "white",
          "plot_bgcolor": "#E5ECF6",
          "polar": {
           "angularaxis": {
            "gridcolor": "white",
            "linecolor": "white",
            "ticks": ""
           },
           "bgcolor": "#E5ECF6",
           "radialaxis": {
            "gridcolor": "white",
            "linecolor": "white",
            "ticks": ""
           }
          },
          "scene": {
           "xaxis": {
            "backgroundcolor": "#E5ECF6",
            "gridcolor": "white",
            "gridwidth": 2,
            "linecolor": "white",
            "showbackground": true,
            "ticks": "",
            "zerolinecolor": "white"
           },
           "yaxis": {
            "backgroundcolor": "#E5ECF6",
            "gridcolor": "white",
            "gridwidth": 2,
            "linecolor": "white",
            "showbackground": true,
            "ticks": "",
            "zerolinecolor": "white"
           },
           "zaxis": {
            "backgroundcolor": "#E5ECF6",
            "gridcolor": "white",
            "gridwidth": 2,
            "linecolor": "white",
            "showbackground": true,
            "ticks": "",
            "zerolinecolor": "white"
           }
          },
          "shapedefaults": {
           "line": {
            "color": "#2a3f5f"
           }
          },
          "ternary": {
           "aaxis": {
            "gridcolor": "white",
            "linecolor": "white",
            "ticks": ""
           },
           "baxis": {
            "gridcolor": "white",
            "linecolor": "white",
            "ticks": ""
           },
           "bgcolor": "#E5ECF6",
           "caxis": {
            "gridcolor": "white",
            "linecolor": "white",
            "ticks": ""
           }
          },
          "title": {
           "x": 0.05
          },
          "xaxis": {
           "automargin": true,
           "gridcolor": "white",
           "linecolor": "white",
           "ticks": "",
           "title": {
            "standoff": 15
           },
           "zerolinecolor": "white",
           "zerolinewidth": 2
          },
          "yaxis": {
           "automargin": true,
           "gridcolor": "white",
           "linecolor": "white",
           "ticks": "",
           "title": {
            "standoff": 15
           },
           "zerolinecolor": "white",
           "zerolinewidth": 2
          }
         }
        },
        "title": {
         "text": "Box Plot with Jitter Points by Sex and Tissue"
        },
        "xaxis": {
         "linecolor": "black",
         "linewidth": 1,
         "showline": true,
         "title": {
          "text": "Dose Amount"
         }
        },
        "yaxis": {
         "linecolor": "black",
         "linewidth": 1,
         "showline": true,
         "title": {
          "text": "Relative Weight"
         }
        }
       }
      },
      "text/html": [
       "<div>                            <div id=\"a39f49d5-93db-402e-a155-12695eb5a670\" class=\"plotly-graph-div\" style=\"height:525px; width:100%;\"></div>            <script type=\"text/javascript\">                require([\"plotly\"], function(Plotly) {                    window.PLOTLYENV=window.PLOTLYENV || {};                                    if (document.getElementById(\"a39f49d5-93db-402e-a155-12695eb5a670\")) {                    Plotly.newPlot(                        \"a39f49d5-93db-402e-a155-12695eb5a670\",                        [{\"boxpoints\":false,\"name\":\"Liver\",\"x\":[\"0.0\",\"0.0\",\"0.0\",\"0.0\",\"0.0\",\"0.0\",\"0.0\",\"0.0\",\"0.0\",\"0.01\",\"0.01\",\"0.01\",\"0.01\",\"0.01\",\"0.01\",\"0.01\",\"0.01\",\"0.01\",\"0.03\",\"0.03\",\"0.03\",\"0.03\",\"0.03\",\"0.03\",\"0.03\",\"0.03\",\"0.03\",\"0.1\",\"0.1\",\"0.1\",\"0.1\",\"0.1\",\"0.1\",\"0.1\",\"0.1\",\"0.1\",\"0.3\",\"0.3\",\"0.3\",\"0.3\",\"0.3\",\"0.3\",\"0.3\",\"0.3\",\"0.3\",\"1.0\",\"1.0\",\"1.0\",\"1.0\",\"1.0\",\"1.0\",\"1.0\",\"1.0\",\"1.0\",\"3.0\",\"3.0\",\"3.0\",\"3.0\",\"3.0\",\"3.0\",\"3.0\",\"3.0\",\"3.0\",\"10.0\",\"10.0\",\"10.0\",\"10.0\",\"10.0\",\"10.0\",\"10.0\",\"10.0\",\"10.0\",\"30\",\"30\",\"30\",\"30\",\"30\",\"30\",\"30\",\"30\",\"30\"],\"y\":[0.05990654205607477,0.05537566137566138,0.05843654822335025,0.058110576923076925,0.05989610389610389,0.05667289719626169,0.05609502262443439,0.05862672811059908,0.058,0.058775330396475776,0.05962025316455696,0.06335807860262009,0.06128491620111732,0.058893617021276594,0.06134554973821989,0.058858695652173915,0.056418719211822656,0.05476923076923077,0.06170443349753694,0.057242990654205614,0.05835426008968609,0.062495145631067964,0.06234389140271492,0.06506410256410257,0.06280444444444444,0.06489743589743589,0.06039366515837104,0.06318095238095238,0.06150222222222222,0.06108426966292134,0.06685308056872037,0.0665409090909091,0.06475663716814159,0.06375877192982456,0.0589811320754717,0.05741784037558686,0.06603111111111111,0.06453669724770641,0.06318229166666667,0.0686294642857143,0.06815584415584415,0.06937068965517242,0.07129629629629629,0.07250239234449762,0.06973362445414848,0.06834328358208955,0.06952511415525114,0.056316279069767446,0.0729237668161435,0.07633187772925765,0.07514485981308412,0.06678391959798995,0.06320603015075378,0.0694566210045662,0.07536073059360732,0.0709409090909091,0.07848792270531402,0.07292344497607656,0.0721936936936937,0.07585148514851485,0.07713364055299539,0.07562857142857143,0.06990291262135921,0.07623671497584542,0.07048598130841122,0.0777251184834123,0.0747012987012987,0.07701098901098902,0.07160386473429951,0.07510731707317074,0.07123893805309735,0.07137368421052633,0.08907344632768362,0.07282795698924731,0.09210691823899371,0.09162345679012346,0.09572670807453415,0.06852284263959392,0.07810243902439024,0.08778395061728395,0.07434736842105263],\"type\":\"box\"},{\"marker\":{\"size\":8},\"mode\":\"markers\",\"name\":\"Liver Jitter\",\"showlegend\":false,\"x\":[\"0.0\",\"0.0\",\"0.0\",\"0.0\",\"0.0\",\"0.0\",\"0.0\",\"0.0\",\"0.0\",\"0.01\",\"0.01\",\"0.01\",\"0.01\",\"0.01\",\"0.01\",\"0.01\",\"0.01\",\"0.01\",\"0.03\",\"0.03\",\"0.03\",\"0.03\",\"0.03\",\"0.03\",\"0.03\",\"0.03\",\"0.03\",\"0.1\",\"0.1\",\"0.1\",\"0.1\",\"0.1\",\"0.1\",\"0.1\",\"0.1\",\"0.1\",\"0.3\",\"0.3\",\"0.3\",\"0.3\",\"0.3\",\"0.3\",\"0.3\",\"0.3\",\"0.3\",\"1.0\",\"1.0\",\"1.0\",\"1.0\",\"1.0\",\"1.0\",\"1.0\",\"1.0\",\"1.0\",\"3.0\",\"3.0\",\"3.0\",\"3.0\",\"3.0\",\"3.0\",\"3.0\",\"3.0\",\"3.0\",\"10.0\",\"10.0\",\"10.0\",\"10.0\",\"10.0\",\"10.0\",\"10.0\",\"10.0\",\"10.0\",\"30\",\"30\",\"30\",\"30\",\"30\",\"30\",\"30\",\"30\",\"30\"],\"y\":[0.05990654205607477,0.05537566137566138,0.05843654822335025,0.058110576923076925,0.05989610389610389,0.05667289719626169,0.05609502262443439,0.05862672811059908,0.058,0.058775330396475776,0.05962025316455696,0.06335807860262009,0.06128491620111732,0.058893617021276594,0.06134554973821989,0.058858695652173915,0.056418719211822656,0.05476923076923077,0.06170443349753694,0.057242990654205614,0.05835426008968609,0.062495145631067964,0.06234389140271492,0.06506410256410257,0.06280444444444444,0.06489743589743589,0.06039366515837104,0.06318095238095238,0.06150222222222222,0.06108426966292134,0.06685308056872037,0.0665409090909091,0.06475663716814159,0.06375877192982456,0.0589811320754717,0.05741784037558686,0.06603111111111111,0.06453669724770641,0.06318229166666667,0.0686294642857143,0.06815584415584415,0.06937068965517242,0.07129629629629629,0.07250239234449762,0.06973362445414848,0.06834328358208955,0.06952511415525114,0.056316279069767446,0.0729237668161435,0.07633187772925765,0.07514485981308412,0.06678391959798995,0.06320603015075378,0.0694566210045662,0.07536073059360732,0.0709409090909091,0.07848792270531402,0.07292344497607656,0.0721936936936937,0.07585148514851485,0.07713364055299539,0.07562857142857143,0.06990291262135921,0.07623671497584542,0.07048598130841122,0.0777251184834123,0.0747012987012987,0.07701098901098902,0.07160386473429951,0.07510731707317074,0.07123893805309735,0.07137368421052633,0.08907344632768362,0.07282795698924731,0.09210691823899371,0.09162345679012346,0.09572670807453415,0.06852284263959392,0.07810243902439024,0.08778395061728395,0.07434736842105263],\"type\":\"scatter\"}],                        {\"template\":{\"data\":{\"histogram2dcontour\":[{\"type\":\"histogram2dcontour\",\"colorbar\":{\"outlinewidth\":0,\"ticks\":\"\"},\"colorscale\":[[0.0,\"#0d0887\"],[0.1111111111111111,\"#46039f\"],[0.2222222222222222,\"#7201a8\"],[0.3333333333333333,\"#9c179e\"],[0.4444444444444444,\"#bd3786\"],[0.5555555555555556,\"#d8576b\"],[0.6666666666666666,\"#ed7953\"],[0.7777777777777778,\"#fb9f3a\"],[0.8888888888888888,\"#fdca26\"],[1.0,\"#f0f921\"]]}],\"choropleth\":[{\"type\":\"choropleth\",\"colorbar\":{\"outlinewidth\":0,\"ticks\":\"\"}}],\"histogram2d\":[{\"type\":\"histogram2d\",\"colorbar\":{\"outlinewidth\":0,\"ticks\":\"\"},\"colorscale\":[[0.0,\"#0d0887\"],[0.1111111111111111,\"#46039f\"],[0.2222222222222222,\"#7201a8\"],[0.3333333333333333,\"#9c179e\"],[0.4444444444444444,\"#bd3786\"],[0.5555555555555556,\"#d8576b\"],[0.6666666666666666,\"#ed7953\"],[0.7777777777777778,\"#fb9f3a\"],[0.8888888888888888,\"#fdca26\"],[1.0,\"#f0f921\"]]}],\"heatmap\":[{\"type\":\"heatmap\",\"colorbar\":{\"outlinewidth\":0,\"ticks\":\"\"},\"colorscale\":[[0.0,\"#0d0887\"],[0.1111111111111111,\"#46039f\"],[0.2222222222222222,\"#7201a8\"],[0.3333333333333333,\"#9c179e\"],[0.4444444444444444,\"#bd3786\"],[0.5555555555555556,\"#d8576b\"],[0.6666666666666666,\"#ed7953\"],[0.7777777777777778,\"#fb9f3a\"],[0.8888888888888888,\"#fdca26\"],[1.0,\"#f0f921\"]]}],\"heatmapgl\":[{\"type\":\"heatmapgl\",\"colorbar\":{\"outlinewidth\":0,\"ticks\":\"\"},\"colorscale\":[[0.0,\"#0d0887\"],[0.1111111111111111,\"#46039f\"],[0.2222222222222222,\"#7201a8\"],[0.3333333333333333,\"#9c179e\"],[0.4444444444444444,\"#bd3786\"],[0.5555555555555556,\"#d8576b\"],[0.6666666666666666,\"#ed7953\"],[0.7777777777777778,\"#fb9f3a\"],[0.8888888888888888,\"#fdca26\"],[1.0,\"#f0f921\"]]}],\"contourcarpet\":[{\"type\":\"contourcarpet\",\"colorbar\":{\"outlinewidth\":0,\"ticks\":\"\"}}],\"contour\":[{\"type\":\"contour\",\"colorbar\":{\"outlinewidth\":0,\"ticks\":\"\"},\"colorscale\":[[0.0,\"#0d0887\"],[0.1111111111111111,\"#46039f\"],[0.2222222222222222,\"#7201a8\"],[0.3333333333333333,\"#9c179e\"],[0.4444444444444444,\"#bd3786\"],[0.5555555555555556,\"#d8576b\"],[0.6666666666666666,\"#ed7953\"],[0.7777777777777778,\"#fb9f3a\"],[0.8888888888888888,\"#fdca26\"],[1.0,\"#f0f921\"]]}],\"surface\":[{\"type\":\"surface\",\"colorbar\":{\"outlinewidth\":0,\"ticks\":\"\"},\"colorscale\":[[0.0,\"#0d0887\"],[0.1111111111111111,\"#46039f\"],[0.2222222222222222,\"#7201a8\"],[0.3333333333333333,\"#9c179e\"],[0.4444444444444444,\"#bd3786\"],[0.5555555555555556,\"#d8576b\"],[0.6666666666666666,\"#ed7953\"],[0.7777777777777778,\"#fb9f3a\"],[0.8888888888888888,\"#fdca26\"],[1.0,\"#f0f921\"]]}],\"mesh3d\":[{\"type\":\"mesh3d\",\"colorbar\":{\"outlinewidth\":0,\"ticks\":\"\"}}],\"scatter\":[{\"fillpattern\":{\"fillmode\":\"overlay\",\"size\":10,\"solidity\":0.2},\"type\":\"scatter\"}],\"parcoords\":[{\"type\":\"parcoords\",\"line\":{\"colorbar\":{\"outlinewidth\":0,\"ticks\":\"\"}}}],\"scatterpolargl\":[{\"type\":\"scatterpolargl\",\"marker\":{\"colorbar\":{\"outlinewidth\":0,\"ticks\":\"\"}}}],\"bar\":[{\"error_x\":{\"color\":\"#2a3f5f\"},\"error_y\":{\"color\":\"#2a3f5f\"},\"marker\":{\"line\":{\"color\":\"#E5ECF6\",\"width\":0.5},\"pattern\":{\"fillmode\":\"overlay\",\"size\":10,\"solidity\":0.2}},\"type\":\"bar\"}],\"scattergeo\":[{\"type\":\"scattergeo\",\"marker\":{\"colorbar\":{\"outlinewidth\":0,\"ticks\":\"\"}}}],\"scatterpolar\":[{\"type\":\"scatterpolar\",\"marker\":{\"colorbar\":{\"outlinewidth\":0,\"ticks\":\"\"}}}],\"histogram\":[{\"marker\":{\"pattern\":{\"fillmode\":\"overlay\",\"size\":10,\"solidity\":0.2}},\"type\":\"histogram\"}],\"scattergl\":[{\"type\":\"scattergl\",\"marker\":{\"colorbar\":{\"outlinewidth\":0,\"ticks\":\"\"}}}],\"scatter3d\":[{\"type\":\"scatter3d\",\"line\":{\"colorbar\":{\"outlinewidth\":0,\"ticks\":\"\"}},\"marker\":{\"colorbar\":{\"outlinewidth\":0,\"ticks\":\"\"}}}],\"scattermapbox\":[{\"type\":\"scattermapbox\",\"marker\":{\"colorbar\":{\"outlinewidth\":0,\"ticks\":\"\"}}}],\"scatterternary\":[{\"type\":\"scatterternary\",\"marker\":{\"colorbar\":{\"outlinewidth\":0,\"ticks\":\"\"}}}],\"scattercarpet\":[{\"type\":\"scattercarpet\",\"marker\":{\"colorbar\":{\"outlinewidth\":0,\"ticks\":\"\"}}}],\"carpet\":[{\"aaxis\":{\"endlinecolor\":\"#2a3f5f\",\"gridcolor\":\"white\",\"linecolor\":\"white\",\"minorgridcolor\":\"white\",\"startlinecolor\":\"#2a3f5f\"},\"baxis\":{\"endlinecolor\":\"#2a3f5f\",\"gridcolor\":\"white\",\"linecolor\":\"white\",\"minorgridcolor\":\"white\",\"startlinecolor\":\"#2a3f5f\"},\"type\":\"carpet\"}],\"table\":[{\"cells\":{\"fill\":{\"color\":\"#EBF0F8\"},\"line\":{\"color\":\"white\"}},\"header\":{\"fill\":{\"color\":\"#C8D4E3\"},\"line\":{\"color\":\"white\"}},\"type\":\"table\"}],\"barpolar\":[{\"marker\":{\"line\":{\"color\":\"#E5ECF6\",\"width\":0.5},\"pattern\":{\"fillmode\":\"overlay\",\"size\":10,\"solidity\":0.2}},\"type\":\"barpolar\"}],\"pie\":[{\"automargin\":true,\"type\":\"pie\"}]},\"layout\":{\"autotypenumbers\":\"strict\",\"colorway\":[\"#636efa\",\"#EF553B\",\"#00cc96\",\"#ab63fa\",\"#FFA15A\",\"#19d3f3\",\"#FF6692\",\"#B6E880\",\"#FF97FF\",\"#FECB52\"],\"font\":{\"color\":\"#2a3f5f\"},\"hovermode\":\"closest\",\"hoverlabel\":{\"align\":\"left\"},\"paper_bgcolor\":\"white\",\"plot_bgcolor\":\"#E5ECF6\",\"polar\":{\"bgcolor\":\"#E5ECF6\",\"angularaxis\":{\"gridcolor\":\"white\",\"linecolor\":\"white\",\"ticks\":\"\"},\"radialaxis\":{\"gridcolor\":\"white\",\"linecolor\":\"white\",\"ticks\":\"\"}},\"ternary\":{\"bgcolor\":\"#E5ECF6\",\"aaxis\":{\"gridcolor\":\"white\",\"linecolor\":\"white\",\"ticks\":\"\"},\"baxis\":{\"gridcolor\":\"white\",\"linecolor\":\"white\",\"ticks\":\"\"},\"caxis\":{\"gridcolor\":\"white\",\"linecolor\":\"white\",\"ticks\":\"\"}},\"coloraxis\":{\"colorbar\":{\"outlinewidth\":0,\"ticks\":\"\"}},\"colorscale\":{\"sequential\":[[0.0,\"#0d0887\"],[0.1111111111111111,\"#46039f\"],[0.2222222222222222,\"#7201a8\"],[0.3333333333333333,\"#9c179e\"],[0.4444444444444444,\"#bd3786\"],[0.5555555555555556,\"#d8576b\"],[0.6666666666666666,\"#ed7953\"],[0.7777777777777778,\"#fb9f3a\"],[0.8888888888888888,\"#fdca26\"],[1.0,\"#f0f921\"]],\"sequentialminus\":[[0.0,\"#0d0887\"],[0.1111111111111111,\"#46039f\"],[0.2222222222222222,\"#7201a8\"],[0.3333333333333333,\"#9c179e\"],[0.4444444444444444,\"#bd3786\"],[0.5555555555555556,\"#d8576b\"],[0.6666666666666666,\"#ed7953\"],[0.7777777777777778,\"#fb9f3a\"],[0.8888888888888888,\"#fdca26\"],[1.0,\"#f0f921\"]],\"diverging\":[[0,\"#8e0152\"],[0.1,\"#c51b7d\"],[0.2,\"#de77ae\"],[0.3,\"#f1b6da\"],[0.4,\"#fde0ef\"],[0.5,\"#f7f7f7\"],[0.6,\"#e6f5d0\"],[0.7,\"#b8e186\"],[0.8,\"#7fbc41\"],[0.9,\"#4d9221\"],[1,\"#276419\"]]},\"xaxis\":{\"gridcolor\":\"white\",\"linecolor\":\"white\",\"ticks\":\"\",\"title\":{\"standoff\":15},\"zerolinecolor\":\"white\",\"automargin\":true,\"zerolinewidth\":2},\"yaxis\":{\"gridcolor\":\"white\",\"linecolor\":\"white\",\"ticks\":\"\",\"title\":{\"standoff\":15},\"zerolinecolor\":\"white\",\"automargin\":true,\"zerolinewidth\":2},\"scene\":{\"xaxis\":{\"backgroundcolor\":\"#E5ECF6\",\"gridcolor\":\"white\",\"linecolor\":\"white\",\"showbackground\":true,\"ticks\":\"\",\"zerolinecolor\":\"white\",\"gridwidth\":2},\"yaxis\":{\"backgroundcolor\":\"#E5ECF6\",\"gridcolor\":\"white\",\"linecolor\":\"white\",\"showbackground\":true,\"ticks\":\"\",\"zerolinecolor\":\"white\",\"gridwidth\":2},\"zaxis\":{\"backgroundcolor\":\"#E5ECF6\",\"gridcolor\":\"white\",\"linecolor\":\"white\",\"showbackground\":true,\"ticks\":\"\",\"zerolinecolor\":\"white\",\"gridwidth\":2}},\"shapedefaults\":{\"line\":{\"color\":\"#2a3f5f\"}},\"annotationdefaults\":{\"arrowcolor\":\"#2a3f5f\",\"arrowhead\":0,\"arrowwidth\":1},\"geo\":{\"bgcolor\":\"white\",\"landcolor\":\"#E5ECF6\",\"subunitcolor\":\"white\",\"showland\":true,\"showlakes\":true,\"lakecolor\":\"white\"},\"title\":{\"x\":0.05},\"mapbox\":{\"style\":\"light\"}}},\"xaxis\":{\"title\":{\"text\":\"Dose Amount\"},\"showline\":true,\"linewidth\":1,\"linecolor\":\"black\"},\"yaxis\":{\"title\":{\"text\":\"Relative Weight\"},\"showline\":true,\"linewidth\":1,\"linecolor\":\"black\"},\"title\":{\"text\":\"Box Plot with Jitter Points by Sex and Tissue\"},\"plot_bgcolor\":\"white\",\"paper_bgcolor\":\"white\"},                        {\"responsive\": true}                    ).then(function(){\n",
       "                            \n",
       "var gd = document.getElementById('a39f49d5-93db-402e-a155-12695eb5a670');\n",
       "var x = new MutationObserver(function (mutations, observer) {{\n",
       "        var display = window.getComputedStyle(gd).display;\n",
       "        if (!display || display === 'none') {{\n",
       "            console.log([gd, 'removed!']);\n",
       "            Plotly.purge(gd);\n",
       "            observer.disconnect();\n",
       "        }}\n",
       "}});\n",
       "\n",
       "// Listen for the removal of the full notebook cells\n",
       "var notebookContainer = gd.closest('#notebook-container');\n",
       "if (notebookContainer) {{\n",
       "    x.observe(notebookContainer, {childList: true});\n",
       "}}\n",
       "\n",
       "// Listen for the clearing of the current output cell\n",
       "var outputEl = gd.closest('.output');\n",
       "if (outputEl) {{\n",
       "    x.observe(outputEl, {childList: true});\n",
       "}}\n",
       "\n",
       "                        })                };                });            </script>        </div>"
      ]
     },
     "metadata": {},
     "output_type": "display_data"
    }
   ],
   "source": [
    "df = input_data\n",
    "\n",
    "# Convert \"dose_amount_x\" to a categorical variable with a specific order (if needed)\n",
    "dose_order = sorted(df[\"dose_amount_x\"].unique())\n",
    "df[\"dose_amount_x\"] = pd.Categorical(df[\"dose_amount_x\"], categories=dose_order, ordered=True)\n",
    "\n",
    "# Function to handle conversion of numeric and float values to string\n",
    "def format_dose_value(value):\n",
    "    if isinstance(value, (int, float)):\n",
    "        return str(value).rstrip('0').rstrip('.')\n",
    "    return value\n",
    "\n",
    "# Convert \"dose_amount_x\" to a string and handle the conversion of numeric and float values\n",
    "df[\"dose_amount_x\"] = df[\"dose_amount_x\"].apply(format_dose_value)\n",
    "\n",
    "# Create a box plot using Plotly graph objects\n",
    "box_fig = go.Figure()\n",
    "for site in df[\"biospecimen_anatomic_site\"].unique():\n",
    "    box_data = df[df[\"biospecimen_anatomic_site\"] == site]\n",
    "    box_fig.add_trace(\n",
    "        go.Box(\n",
    "            x=box_data[\"dose_amount_x\"],\n",
    "            y=box_data[\"relative_weight\"],\n",
    "            name=site,\n",
    "            boxpoints=False,  # Do not show points in the box plot\n",
    "        )\n",
    "    )\n",
    "\n",
    "# Add jitter points to the same figure\n",
    "for site in df[\"biospecimen_anatomic_site\"].unique():\n",
    "    jitter_data = df[df[\"biospecimen_anatomic_site\"] == site]\n",
    "    box_fig.add_trace(\n",
    "        go.Scatter(\n",
    "            x=jitter_data[\"dose_amount_x\"],\n",
    "            y=jitter_data[\"relative_weight\"],\n",
    "            name=f\"{site} Jitter\",\n",
    "            mode=\"markers\",\n",
    "            marker=dict(size=8),\n",
    "            showlegend=False,  # To avoid duplicating the legend\n",
    "        )\n",
    "    )\n",
    "\n",
    "box_fig.update_layout(\n",
    "    xaxis_title=\"Dose Amount\",\n",
    "    yaxis_title=\"Relative Weight\",\n",
    "    title=\"Box Plot with Jitter Points by Sex and Tissue\",\n",
    "    plot_bgcolor='white',  # Set background color to white\n",
    "    paper_bgcolor='white',  # Set paper color to white\n",
    ")\n",
    "\n",
    "# Set the plot area border color\n",
    "box_fig.update_xaxes(showline=True, linewidth=1, linecolor='black')  # Set x-axis border color\n",
    "box_fig.update_yaxes(showline=True, linewidth=1, linecolor='black')  # Set y-axis border color\n",
    "\n",
    "# Show the plot\n",
    "box_fig.show()"
   ]
  },
  {
   "cell_type": "markdown",
   "id": "8395da6f",
   "metadata": {},
   "source": [
    "### Plotly interactive visualization of un-normalized liver weights\n",
    "---\n",
    "### Boxplot of liver weights"
   ]
  },
  {
   "cell_type": "code",
   "execution_count": 56,
   "id": "473c97f8",
   "metadata": {},
   "outputs": [
    {
     "data": {
      "application/vnd.plotly.v1+json": {
       "config": {
        "plotlyServerURL": "https://plot.ly"
       },
       "data": [
        {
         "boxpoints": false,
         "name": "Liver",
         "type": "box",
         "x": [
          "0.0",
          "0.0",
          "0.0",
          "0.0",
          "0.0",
          "0.0",
          "0.0",
          "0.0",
          "0.0",
          "0.01",
          "0.01",
          "0.01",
          "0.01",
          "0.01",
          "0.01",
          "0.01",
          "0.01",
          "0.01",
          "0.03",
          "0.03",
          "0.03",
          "0.03",
          "0.03",
          "0.03",
          "0.03",
          "0.03",
          "0.03",
          "0.1",
          "0.1",
          "0.1",
          "0.1",
          "0.1",
          "0.1",
          "0.1",
          "0.1",
          "0.1",
          "0.3",
          "0.3",
          "0.3",
          "0.3",
          "0.3",
          "0.3",
          "0.3",
          "0.3",
          "0.3",
          "1.0",
          "1.0",
          "1.0",
          "1.0",
          "1.0",
          "1.0",
          "1.0",
          "1.0",
          "1.0",
          "3.0",
          "3.0",
          "3.0",
          "3.0",
          "3.0",
          "3.0",
          "3.0",
          "3.0",
          "3.0",
          "10.0",
          "10.0",
          "10.0",
          "10.0",
          "10.0",
          "10.0",
          "10.0",
          "10.0",
          "10.0",
          "30",
          "30",
          "30",
          "30",
          "30",
          "30",
          "30",
          "30",
          "30"
         ],
         "y": [
          1.282,
          1.0466,
          1.1512,
          1.2087,
          1.3836,
          1.2128,
          1.2397,
          1.2722,
          1.0846,
          1.3342,
          1.413,
          1.4509,
          1.097,
          1.1072,
          1.1717,
          1.083,
          1.1453,
          0.9968,
          1.2526,
          1.225,
          1.3013,
          1.2874,
          1.3778,
          1.5225,
          1.4131,
          1.5186,
          1.3347,
          1.3268,
          1.3838,
          1.0873,
          1.4106,
          1.4639,
          1.4635,
          1.4537,
          1.2504,
          1.223,
          1.4857,
          1.4069,
          1.2131,
          1.5373,
          1.5744,
          1.6094,
          1.54,
          1.5153,
          1.5969,
          1.3737,
          1.5226,
          1.2108,
          1.6262,
          1.748,
          1.6081,
          1.329,
          1.2578,
          1.5211,
          1.6504,
          1.5607,
          1.6247,
          1.5241,
          1.6027,
          1.5322,
          1.6738,
          1.5882,
          1.44,
          1.5781,
          1.5084,
          1.64,
          1.7256,
          1.4016,
          1.4822,
          1.5397,
          1.61,
          1.3561,
          1.5766,
          1.3546,
          1.4645,
          1.4843,
          1.5412,
          1.3499,
          1.6011,
          1.4221,
          1.4126
         ]
        },
        {
         "marker": {
          "size": 8
         },
         "mode": "markers",
         "name": "Liver Jitter",
         "showlegend": false,
         "type": "scatter",
         "x": [
          "0.0",
          "0.0",
          "0.0",
          "0.0",
          "0.0",
          "0.0",
          "0.0",
          "0.0",
          "0.0",
          "0.01",
          "0.01",
          "0.01",
          "0.01",
          "0.01",
          "0.01",
          "0.01",
          "0.01",
          "0.01",
          "0.03",
          "0.03",
          "0.03",
          "0.03",
          "0.03",
          "0.03",
          "0.03",
          "0.03",
          "0.03",
          "0.1",
          "0.1",
          "0.1",
          "0.1",
          "0.1",
          "0.1",
          "0.1",
          "0.1",
          "0.1",
          "0.3",
          "0.3",
          "0.3",
          "0.3",
          "0.3",
          "0.3",
          "0.3",
          "0.3",
          "0.3",
          "1.0",
          "1.0",
          "1.0",
          "1.0",
          "1.0",
          "1.0",
          "1.0",
          "1.0",
          "1.0",
          "3.0",
          "3.0",
          "3.0",
          "3.0",
          "3.0",
          "3.0",
          "3.0",
          "3.0",
          "3.0",
          "10.0",
          "10.0",
          "10.0",
          "10.0",
          "10.0",
          "10.0",
          "10.0",
          "10.0",
          "10.0",
          "30",
          "30",
          "30",
          "30",
          "30",
          "30",
          "30",
          "30",
          "30"
         ],
         "y": [
          1.282,
          1.0466,
          1.1512,
          1.2087,
          1.3836,
          1.2128,
          1.2397,
          1.2722,
          1.0846,
          1.3342,
          1.413,
          1.4509,
          1.097,
          1.1072,
          1.1717,
          1.083,
          1.1453,
          0.9968,
          1.2526,
          1.225,
          1.3013,
          1.2874,
          1.3778,
          1.5225,
          1.4131,
          1.5186,
          1.3347,
          1.3268,
          1.3838,
          1.0873,
          1.4106,
          1.4639,
          1.4635,
          1.4537,
          1.2504,
          1.223,
          1.4857,
          1.4069,
          1.2131,
          1.5373,
          1.5744,
          1.6094,
          1.54,
          1.5153,
          1.5969,
          1.3737,
          1.5226,
          1.2108,
          1.6262,
          1.748,
          1.6081,
          1.329,
          1.2578,
          1.5211,
          1.6504,
          1.5607,
          1.6247,
          1.5241,
          1.6027,
          1.5322,
          1.6738,
          1.5882,
          1.44,
          1.5781,
          1.5084,
          1.64,
          1.7256,
          1.4016,
          1.4822,
          1.5397,
          1.61,
          1.3561,
          1.5766,
          1.3546,
          1.4645,
          1.4843,
          1.5412,
          1.3499,
          1.6011,
          1.4221,
          1.4126
         ]
        }
       ],
       "layout": {
        "paper_bgcolor": "white",
        "plot_bgcolor": "white",
        "template": {
         "data": {
          "bar": [
           {
            "error_x": {
             "color": "#2a3f5f"
            },
            "error_y": {
             "color": "#2a3f5f"
            },
            "marker": {
             "line": {
              "color": "#E5ECF6",
              "width": 0.5
             },
             "pattern": {
              "fillmode": "overlay",
              "size": 10,
              "solidity": 0.2
             }
            },
            "type": "bar"
           }
          ],
          "barpolar": [
           {
            "marker": {
             "line": {
              "color": "#E5ECF6",
              "width": 0.5
             },
             "pattern": {
              "fillmode": "overlay",
              "size": 10,
              "solidity": 0.2
             }
            },
            "type": "barpolar"
           }
          ],
          "carpet": [
           {
            "aaxis": {
             "endlinecolor": "#2a3f5f",
             "gridcolor": "white",
             "linecolor": "white",
             "minorgridcolor": "white",
             "startlinecolor": "#2a3f5f"
            },
            "baxis": {
             "endlinecolor": "#2a3f5f",
             "gridcolor": "white",
             "linecolor": "white",
             "minorgridcolor": "white",
             "startlinecolor": "#2a3f5f"
            },
            "type": "carpet"
           }
          ],
          "choropleth": [
           {
            "colorbar": {
             "outlinewidth": 0,
             "ticks": ""
            },
            "type": "choropleth"
           }
          ],
          "contour": [
           {
            "colorbar": {
             "outlinewidth": 0,
             "ticks": ""
            },
            "colorscale": [
             [
              0,
              "#0d0887"
             ],
             [
              0.1111111111111111,
              "#46039f"
             ],
             [
              0.2222222222222222,
              "#7201a8"
             ],
             [
              0.3333333333333333,
              "#9c179e"
             ],
             [
              0.4444444444444444,
              "#bd3786"
             ],
             [
              0.5555555555555556,
              "#d8576b"
             ],
             [
              0.6666666666666666,
              "#ed7953"
             ],
             [
              0.7777777777777778,
              "#fb9f3a"
             ],
             [
              0.8888888888888888,
              "#fdca26"
             ],
             [
              1,
              "#f0f921"
             ]
            ],
            "type": "contour"
           }
          ],
          "contourcarpet": [
           {
            "colorbar": {
             "outlinewidth": 0,
             "ticks": ""
            },
            "type": "contourcarpet"
           }
          ],
          "heatmap": [
           {
            "colorbar": {
             "outlinewidth": 0,
             "ticks": ""
            },
            "colorscale": [
             [
              0,
              "#0d0887"
             ],
             [
              0.1111111111111111,
              "#46039f"
             ],
             [
              0.2222222222222222,
              "#7201a8"
             ],
             [
              0.3333333333333333,
              "#9c179e"
             ],
             [
              0.4444444444444444,
              "#bd3786"
             ],
             [
              0.5555555555555556,
              "#d8576b"
             ],
             [
              0.6666666666666666,
              "#ed7953"
             ],
             [
              0.7777777777777778,
              "#fb9f3a"
             ],
             [
              0.8888888888888888,
              "#fdca26"
             ],
             [
              1,
              "#f0f921"
             ]
            ],
            "type": "heatmap"
           }
          ],
          "heatmapgl": [
           {
            "colorbar": {
             "outlinewidth": 0,
             "ticks": ""
            },
            "colorscale": [
             [
              0,
              "#0d0887"
             ],
             [
              0.1111111111111111,
              "#46039f"
             ],
             [
              0.2222222222222222,
              "#7201a8"
             ],
             [
              0.3333333333333333,
              "#9c179e"
             ],
             [
              0.4444444444444444,
              "#bd3786"
             ],
             [
              0.5555555555555556,
              "#d8576b"
             ],
             [
              0.6666666666666666,
              "#ed7953"
             ],
             [
              0.7777777777777778,
              "#fb9f3a"
             ],
             [
              0.8888888888888888,
              "#fdca26"
             ],
             [
              1,
              "#f0f921"
             ]
            ],
            "type": "heatmapgl"
           }
          ],
          "histogram": [
           {
            "marker": {
             "pattern": {
              "fillmode": "overlay",
              "size": 10,
              "solidity": 0.2
             }
            },
            "type": "histogram"
           }
          ],
          "histogram2d": [
           {
            "colorbar": {
             "outlinewidth": 0,
             "ticks": ""
            },
            "colorscale": [
             [
              0,
              "#0d0887"
             ],
             [
              0.1111111111111111,
              "#46039f"
             ],
             [
              0.2222222222222222,
              "#7201a8"
             ],
             [
              0.3333333333333333,
              "#9c179e"
             ],
             [
              0.4444444444444444,
              "#bd3786"
             ],
             [
              0.5555555555555556,
              "#d8576b"
             ],
             [
              0.6666666666666666,
              "#ed7953"
             ],
             [
              0.7777777777777778,
              "#fb9f3a"
             ],
             [
              0.8888888888888888,
              "#fdca26"
             ],
             [
              1,
              "#f0f921"
             ]
            ],
            "type": "histogram2d"
           }
          ],
          "histogram2dcontour": [
           {
            "colorbar": {
             "outlinewidth": 0,
             "ticks": ""
            },
            "colorscale": [
             [
              0,
              "#0d0887"
             ],
             [
              0.1111111111111111,
              "#46039f"
             ],
             [
              0.2222222222222222,
              "#7201a8"
             ],
             [
              0.3333333333333333,
              "#9c179e"
             ],
             [
              0.4444444444444444,
              "#bd3786"
             ],
             [
              0.5555555555555556,
              "#d8576b"
             ],
             [
              0.6666666666666666,
              "#ed7953"
             ],
             [
              0.7777777777777778,
              "#fb9f3a"
             ],
             [
              0.8888888888888888,
              "#fdca26"
             ],
             [
              1,
              "#f0f921"
             ]
            ],
            "type": "histogram2dcontour"
           }
          ],
          "mesh3d": [
           {
            "colorbar": {
             "outlinewidth": 0,
             "ticks": ""
            },
            "type": "mesh3d"
           }
          ],
          "parcoords": [
           {
            "line": {
             "colorbar": {
              "outlinewidth": 0,
              "ticks": ""
             }
            },
            "type": "parcoords"
           }
          ],
          "pie": [
           {
            "automargin": true,
            "type": "pie"
           }
          ],
          "scatter": [
           {
            "fillpattern": {
             "fillmode": "overlay",
             "size": 10,
             "solidity": 0.2
            },
            "type": "scatter"
           }
          ],
          "scatter3d": [
           {
            "line": {
             "colorbar": {
              "outlinewidth": 0,
              "ticks": ""
             }
            },
            "marker": {
             "colorbar": {
              "outlinewidth": 0,
              "ticks": ""
             }
            },
            "type": "scatter3d"
           }
          ],
          "scattercarpet": [
           {
            "marker": {
             "colorbar": {
              "outlinewidth": 0,
              "ticks": ""
             }
            },
            "type": "scattercarpet"
           }
          ],
          "scattergeo": [
           {
            "marker": {
             "colorbar": {
              "outlinewidth": 0,
              "ticks": ""
             }
            },
            "type": "scattergeo"
           }
          ],
          "scattergl": [
           {
            "marker": {
             "colorbar": {
              "outlinewidth": 0,
              "ticks": ""
             }
            },
            "type": "scattergl"
           }
          ],
          "scattermapbox": [
           {
            "marker": {
             "colorbar": {
              "outlinewidth": 0,
              "ticks": ""
             }
            },
            "type": "scattermapbox"
           }
          ],
          "scatterpolar": [
           {
            "marker": {
             "colorbar": {
              "outlinewidth": 0,
              "ticks": ""
             }
            },
            "type": "scatterpolar"
           }
          ],
          "scatterpolargl": [
           {
            "marker": {
             "colorbar": {
              "outlinewidth": 0,
              "ticks": ""
             }
            },
            "type": "scatterpolargl"
           }
          ],
          "scatterternary": [
           {
            "marker": {
             "colorbar": {
              "outlinewidth": 0,
              "ticks": ""
             }
            },
            "type": "scatterternary"
           }
          ],
          "surface": [
           {
            "colorbar": {
             "outlinewidth": 0,
             "ticks": ""
            },
            "colorscale": [
             [
              0,
              "#0d0887"
             ],
             [
              0.1111111111111111,
              "#46039f"
             ],
             [
              0.2222222222222222,
              "#7201a8"
             ],
             [
              0.3333333333333333,
              "#9c179e"
             ],
             [
              0.4444444444444444,
              "#bd3786"
             ],
             [
              0.5555555555555556,
              "#d8576b"
             ],
             [
              0.6666666666666666,
              "#ed7953"
             ],
             [
              0.7777777777777778,
              "#fb9f3a"
             ],
             [
              0.8888888888888888,
              "#fdca26"
             ],
             [
              1,
              "#f0f921"
             ]
            ],
            "type": "surface"
           }
          ],
          "table": [
           {
            "cells": {
             "fill": {
              "color": "#EBF0F8"
             },
             "line": {
              "color": "white"
             }
            },
            "header": {
             "fill": {
              "color": "#C8D4E3"
             },
             "line": {
              "color": "white"
             }
            },
            "type": "table"
           }
          ]
         },
         "layout": {
          "annotationdefaults": {
           "arrowcolor": "#2a3f5f",
           "arrowhead": 0,
           "arrowwidth": 1
          },
          "autotypenumbers": "strict",
          "coloraxis": {
           "colorbar": {
            "outlinewidth": 0,
            "ticks": ""
           }
          },
          "colorscale": {
           "diverging": [
            [
             0,
             "#8e0152"
            ],
            [
             0.1,
             "#c51b7d"
            ],
            [
             0.2,
             "#de77ae"
            ],
            [
             0.3,
             "#f1b6da"
            ],
            [
             0.4,
             "#fde0ef"
            ],
            [
             0.5,
             "#f7f7f7"
            ],
            [
             0.6,
             "#e6f5d0"
            ],
            [
             0.7,
             "#b8e186"
            ],
            [
             0.8,
             "#7fbc41"
            ],
            [
             0.9,
             "#4d9221"
            ],
            [
             1,
             "#276419"
            ]
           ],
           "sequential": [
            [
             0,
             "#0d0887"
            ],
            [
             0.1111111111111111,
             "#46039f"
            ],
            [
             0.2222222222222222,
             "#7201a8"
            ],
            [
             0.3333333333333333,
             "#9c179e"
            ],
            [
             0.4444444444444444,
             "#bd3786"
            ],
            [
             0.5555555555555556,
             "#d8576b"
            ],
            [
             0.6666666666666666,
             "#ed7953"
            ],
            [
             0.7777777777777778,
             "#fb9f3a"
            ],
            [
             0.8888888888888888,
             "#fdca26"
            ],
            [
             1,
             "#f0f921"
            ]
           ],
           "sequentialminus": [
            [
             0,
             "#0d0887"
            ],
            [
             0.1111111111111111,
             "#46039f"
            ],
            [
             0.2222222222222222,
             "#7201a8"
            ],
            [
             0.3333333333333333,
             "#9c179e"
            ],
            [
             0.4444444444444444,
             "#bd3786"
            ],
            [
             0.5555555555555556,
             "#d8576b"
            ],
            [
             0.6666666666666666,
             "#ed7953"
            ],
            [
             0.7777777777777778,
             "#fb9f3a"
            ],
            [
             0.8888888888888888,
             "#fdca26"
            ],
            [
             1,
             "#f0f921"
            ]
           ]
          },
          "colorway": [
           "#636efa",
           "#EF553B",
           "#00cc96",
           "#ab63fa",
           "#FFA15A",
           "#19d3f3",
           "#FF6692",
           "#B6E880",
           "#FF97FF",
           "#FECB52"
          ],
          "font": {
           "color": "#2a3f5f"
          },
          "geo": {
           "bgcolor": "white",
           "lakecolor": "white",
           "landcolor": "#E5ECF6",
           "showlakes": true,
           "showland": true,
           "subunitcolor": "white"
          },
          "hoverlabel": {
           "align": "left"
          },
          "hovermode": "closest",
          "mapbox": {
           "style": "light"
          },
          "paper_bgcolor": "white",
          "plot_bgcolor": "#E5ECF6",
          "polar": {
           "angularaxis": {
            "gridcolor": "white",
            "linecolor": "white",
            "ticks": ""
           },
           "bgcolor": "#E5ECF6",
           "radialaxis": {
            "gridcolor": "white",
            "linecolor": "white",
            "ticks": ""
           }
          },
          "scene": {
           "xaxis": {
            "backgroundcolor": "#E5ECF6",
            "gridcolor": "white",
            "gridwidth": 2,
            "linecolor": "white",
            "showbackground": true,
            "ticks": "",
            "zerolinecolor": "white"
           },
           "yaxis": {
            "backgroundcolor": "#E5ECF6",
            "gridcolor": "white",
            "gridwidth": 2,
            "linecolor": "white",
            "showbackground": true,
            "ticks": "",
            "zerolinecolor": "white"
           },
           "zaxis": {
            "backgroundcolor": "#E5ECF6",
            "gridcolor": "white",
            "gridwidth": 2,
            "linecolor": "white",
            "showbackground": true,
            "ticks": "",
            "zerolinecolor": "white"
           }
          },
          "shapedefaults": {
           "line": {
            "color": "#2a3f5f"
           }
          },
          "ternary": {
           "aaxis": {
            "gridcolor": "white",
            "linecolor": "white",
            "ticks": ""
           },
           "baxis": {
            "gridcolor": "white",
            "linecolor": "white",
            "ticks": ""
           },
           "bgcolor": "#E5ECF6",
           "caxis": {
            "gridcolor": "white",
            "linecolor": "white",
            "ticks": ""
           }
          },
          "title": {
           "x": 0.05
          },
          "xaxis": {
           "automargin": true,
           "gridcolor": "white",
           "linecolor": "white",
           "ticks": "",
           "title": {
            "standoff": 15
           },
           "zerolinecolor": "white",
           "zerolinewidth": 2
          },
          "yaxis": {
           "automargin": true,
           "gridcolor": "white",
           "linecolor": "white",
           "ticks": "",
           "title": {
            "standoff": 15
           },
           "zerolinecolor": "white",
           "zerolinewidth": 2
          }
         }
        },
        "title": {
         "text": "Box Plot with Jitter Points by Sex and Tissue"
        },
        "xaxis": {
         "linecolor": "black",
         "linewidth": 1,
         "showline": true,
         "title": {
          "text": "Dose Amount"
         }
        },
        "yaxis": {
         "linecolor": "black",
         "linewidth": 1,
         "showline": true,
         "title": {
          "text": "Relative Weight"
         }
        }
       }
      },
      "text/html": [
       "<div>                            <div id=\"ce8568c6-3352-4356-87c1-e4917ecc0b38\" class=\"plotly-graph-div\" style=\"height:525px; width:100%;\"></div>            <script type=\"text/javascript\">                require([\"plotly\"], function(Plotly) {                    window.PLOTLYENV=window.PLOTLYENV || {};                                    if (document.getElementById(\"ce8568c6-3352-4356-87c1-e4917ecc0b38\")) {                    Plotly.newPlot(                        \"ce8568c6-3352-4356-87c1-e4917ecc0b38\",                        [{\"boxpoints\":false,\"name\":\"Liver\",\"x\":[\"0.0\",\"0.0\",\"0.0\",\"0.0\",\"0.0\",\"0.0\",\"0.0\",\"0.0\",\"0.0\",\"0.01\",\"0.01\",\"0.01\",\"0.01\",\"0.01\",\"0.01\",\"0.01\",\"0.01\",\"0.01\",\"0.03\",\"0.03\",\"0.03\",\"0.03\",\"0.03\",\"0.03\",\"0.03\",\"0.03\",\"0.03\",\"0.1\",\"0.1\",\"0.1\",\"0.1\",\"0.1\",\"0.1\",\"0.1\",\"0.1\",\"0.1\",\"0.3\",\"0.3\",\"0.3\",\"0.3\",\"0.3\",\"0.3\",\"0.3\",\"0.3\",\"0.3\",\"1.0\",\"1.0\",\"1.0\",\"1.0\",\"1.0\",\"1.0\",\"1.0\",\"1.0\",\"1.0\",\"3.0\",\"3.0\",\"3.0\",\"3.0\",\"3.0\",\"3.0\",\"3.0\",\"3.0\",\"3.0\",\"10.0\",\"10.0\",\"10.0\",\"10.0\",\"10.0\",\"10.0\",\"10.0\",\"10.0\",\"10.0\",\"30\",\"30\",\"30\",\"30\",\"30\",\"30\",\"30\",\"30\",\"30\"],\"y\":[1.282,1.0466,1.1512,1.2087,1.3836,1.2128,1.2397,1.2722,1.0846,1.3342,1.413,1.4509,1.097,1.1072,1.1717,1.083,1.1453,0.9968,1.2526,1.225,1.3013,1.2874,1.3778,1.5225,1.4131,1.5186,1.3347,1.3268,1.3838,1.0873,1.4106,1.4639,1.4635,1.4537,1.2504,1.223,1.4857,1.4069,1.2131,1.5373,1.5744,1.6094,1.54,1.5153,1.5969,1.3737,1.5226,1.2108,1.6262,1.748,1.6081,1.329,1.2578,1.5211,1.6504,1.5607,1.6247,1.5241,1.6027,1.5322,1.6738,1.5882,1.44,1.5781,1.5084,1.64,1.7256,1.4016,1.4822,1.5397,1.61,1.3561,1.5766,1.3546,1.4645,1.4843,1.5412,1.3499,1.6011,1.4221,1.4126],\"type\":\"box\"},{\"marker\":{\"size\":8},\"mode\":\"markers\",\"name\":\"Liver Jitter\",\"showlegend\":false,\"x\":[\"0.0\",\"0.0\",\"0.0\",\"0.0\",\"0.0\",\"0.0\",\"0.0\",\"0.0\",\"0.0\",\"0.01\",\"0.01\",\"0.01\",\"0.01\",\"0.01\",\"0.01\",\"0.01\",\"0.01\",\"0.01\",\"0.03\",\"0.03\",\"0.03\",\"0.03\",\"0.03\",\"0.03\",\"0.03\",\"0.03\",\"0.03\",\"0.1\",\"0.1\",\"0.1\",\"0.1\",\"0.1\",\"0.1\",\"0.1\",\"0.1\",\"0.1\",\"0.3\",\"0.3\",\"0.3\",\"0.3\",\"0.3\",\"0.3\",\"0.3\",\"0.3\",\"0.3\",\"1.0\",\"1.0\",\"1.0\",\"1.0\",\"1.0\",\"1.0\",\"1.0\",\"1.0\",\"1.0\",\"3.0\",\"3.0\",\"3.0\",\"3.0\",\"3.0\",\"3.0\",\"3.0\",\"3.0\",\"3.0\",\"10.0\",\"10.0\",\"10.0\",\"10.0\",\"10.0\",\"10.0\",\"10.0\",\"10.0\",\"10.0\",\"30\",\"30\",\"30\",\"30\",\"30\",\"30\",\"30\",\"30\",\"30\"],\"y\":[1.282,1.0466,1.1512,1.2087,1.3836,1.2128,1.2397,1.2722,1.0846,1.3342,1.413,1.4509,1.097,1.1072,1.1717,1.083,1.1453,0.9968,1.2526,1.225,1.3013,1.2874,1.3778,1.5225,1.4131,1.5186,1.3347,1.3268,1.3838,1.0873,1.4106,1.4639,1.4635,1.4537,1.2504,1.223,1.4857,1.4069,1.2131,1.5373,1.5744,1.6094,1.54,1.5153,1.5969,1.3737,1.5226,1.2108,1.6262,1.748,1.6081,1.329,1.2578,1.5211,1.6504,1.5607,1.6247,1.5241,1.6027,1.5322,1.6738,1.5882,1.44,1.5781,1.5084,1.64,1.7256,1.4016,1.4822,1.5397,1.61,1.3561,1.5766,1.3546,1.4645,1.4843,1.5412,1.3499,1.6011,1.4221,1.4126],\"type\":\"scatter\"}],                        {\"template\":{\"data\":{\"histogram2dcontour\":[{\"type\":\"histogram2dcontour\",\"colorbar\":{\"outlinewidth\":0,\"ticks\":\"\"},\"colorscale\":[[0.0,\"#0d0887\"],[0.1111111111111111,\"#46039f\"],[0.2222222222222222,\"#7201a8\"],[0.3333333333333333,\"#9c179e\"],[0.4444444444444444,\"#bd3786\"],[0.5555555555555556,\"#d8576b\"],[0.6666666666666666,\"#ed7953\"],[0.7777777777777778,\"#fb9f3a\"],[0.8888888888888888,\"#fdca26\"],[1.0,\"#f0f921\"]]}],\"choropleth\":[{\"type\":\"choropleth\",\"colorbar\":{\"outlinewidth\":0,\"ticks\":\"\"}}],\"histogram2d\":[{\"type\":\"histogram2d\",\"colorbar\":{\"outlinewidth\":0,\"ticks\":\"\"},\"colorscale\":[[0.0,\"#0d0887\"],[0.1111111111111111,\"#46039f\"],[0.2222222222222222,\"#7201a8\"],[0.3333333333333333,\"#9c179e\"],[0.4444444444444444,\"#bd3786\"],[0.5555555555555556,\"#d8576b\"],[0.6666666666666666,\"#ed7953\"],[0.7777777777777778,\"#fb9f3a\"],[0.8888888888888888,\"#fdca26\"],[1.0,\"#f0f921\"]]}],\"heatmap\":[{\"type\":\"heatmap\",\"colorbar\":{\"outlinewidth\":0,\"ticks\":\"\"},\"colorscale\":[[0.0,\"#0d0887\"],[0.1111111111111111,\"#46039f\"],[0.2222222222222222,\"#7201a8\"],[0.3333333333333333,\"#9c179e\"],[0.4444444444444444,\"#bd3786\"],[0.5555555555555556,\"#d8576b\"],[0.6666666666666666,\"#ed7953\"],[0.7777777777777778,\"#fb9f3a\"],[0.8888888888888888,\"#fdca26\"],[1.0,\"#f0f921\"]]}],\"heatmapgl\":[{\"type\":\"heatmapgl\",\"colorbar\":{\"outlinewidth\":0,\"ticks\":\"\"},\"colorscale\":[[0.0,\"#0d0887\"],[0.1111111111111111,\"#46039f\"],[0.2222222222222222,\"#7201a8\"],[0.3333333333333333,\"#9c179e\"],[0.4444444444444444,\"#bd3786\"],[0.5555555555555556,\"#d8576b\"],[0.6666666666666666,\"#ed7953\"],[0.7777777777777778,\"#fb9f3a\"],[0.8888888888888888,\"#fdca26\"],[1.0,\"#f0f921\"]]}],\"contourcarpet\":[{\"type\":\"contourcarpet\",\"colorbar\":{\"outlinewidth\":0,\"ticks\":\"\"}}],\"contour\":[{\"type\":\"contour\",\"colorbar\":{\"outlinewidth\":0,\"ticks\":\"\"},\"colorscale\":[[0.0,\"#0d0887\"],[0.1111111111111111,\"#46039f\"],[0.2222222222222222,\"#7201a8\"],[0.3333333333333333,\"#9c179e\"],[0.4444444444444444,\"#bd3786\"],[0.5555555555555556,\"#d8576b\"],[0.6666666666666666,\"#ed7953\"],[0.7777777777777778,\"#fb9f3a\"],[0.8888888888888888,\"#fdca26\"],[1.0,\"#f0f921\"]]}],\"surface\":[{\"type\":\"surface\",\"colorbar\":{\"outlinewidth\":0,\"ticks\":\"\"},\"colorscale\":[[0.0,\"#0d0887\"],[0.1111111111111111,\"#46039f\"],[0.2222222222222222,\"#7201a8\"],[0.3333333333333333,\"#9c179e\"],[0.4444444444444444,\"#bd3786\"],[0.5555555555555556,\"#d8576b\"],[0.6666666666666666,\"#ed7953\"],[0.7777777777777778,\"#fb9f3a\"],[0.8888888888888888,\"#fdca26\"],[1.0,\"#f0f921\"]]}],\"mesh3d\":[{\"type\":\"mesh3d\",\"colorbar\":{\"outlinewidth\":0,\"ticks\":\"\"}}],\"scatter\":[{\"fillpattern\":{\"fillmode\":\"overlay\",\"size\":10,\"solidity\":0.2},\"type\":\"scatter\"}],\"parcoords\":[{\"type\":\"parcoords\",\"line\":{\"colorbar\":{\"outlinewidth\":0,\"ticks\":\"\"}}}],\"scatterpolargl\":[{\"type\":\"scatterpolargl\",\"marker\":{\"colorbar\":{\"outlinewidth\":0,\"ticks\":\"\"}}}],\"bar\":[{\"error_x\":{\"color\":\"#2a3f5f\"},\"error_y\":{\"color\":\"#2a3f5f\"},\"marker\":{\"line\":{\"color\":\"#E5ECF6\",\"width\":0.5},\"pattern\":{\"fillmode\":\"overlay\",\"size\":10,\"solidity\":0.2}},\"type\":\"bar\"}],\"scattergeo\":[{\"type\":\"scattergeo\",\"marker\":{\"colorbar\":{\"outlinewidth\":0,\"ticks\":\"\"}}}],\"scatterpolar\":[{\"type\":\"scatterpolar\",\"marker\":{\"colorbar\":{\"outlinewidth\":0,\"ticks\":\"\"}}}],\"histogram\":[{\"marker\":{\"pattern\":{\"fillmode\":\"overlay\",\"size\":10,\"solidity\":0.2}},\"type\":\"histogram\"}],\"scattergl\":[{\"type\":\"scattergl\",\"marker\":{\"colorbar\":{\"outlinewidth\":0,\"ticks\":\"\"}}}],\"scatter3d\":[{\"type\":\"scatter3d\",\"line\":{\"colorbar\":{\"outlinewidth\":0,\"ticks\":\"\"}},\"marker\":{\"colorbar\":{\"outlinewidth\":0,\"ticks\":\"\"}}}],\"scattermapbox\":[{\"type\":\"scattermapbox\",\"marker\":{\"colorbar\":{\"outlinewidth\":0,\"ticks\":\"\"}}}],\"scatterternary\":[{\"type\":\"scatterternary\",\"marker\":{\"colorbar\":{\"outlinewidth\":0,\"ticks\":\"\"}}}],\"scattercarpet\":[{\"type\":\"scattercarpet\",\"marker\":{\"colorbar\":{\"outlinewidth\":0,\"ticks\":\"\"}}}],\"carpet\":[{\"aaxis\":{\"endlinecolor\":\"#2a3f5f\",\"gridcolor\":\"white\",\"linecolor\":\"white\",\"minorgridcolor\":\"white\",\"startlinecolor\":\"#2a3f5f\"},\"baxis\":{\"endlinecolor\":\"#2a3f5f\",\"gridcolor\":\"white\",\"linecolor\":\"white\",\"minorgridcolor\":\"white\",\"startlinecolor\":\"#2a3f5f\"},\"type\":\"carpet\"}],\"table\":[{\"cells\":{\"fill\":{\"color\":\"#EBF0F8\"},\"line\":{\"color\":\"white\"}},\"header\":{\"fill\":{\"color\":\"#C8D4E3\"},\"line\":{\"color\":\"white\"}},\"type\":\"table\"}],\"barpolar\":[{\"marker\":{\"line\":{\"color\":\"#E5ECF6\",\"width\":0.5},\"pattern\":{\"fillmode\":\"overlay\",\"size\":10,\"solidity\":0.2}},\"type\":\"barpolar\"}],\"pie\":[{\"automargin\":true,\"type\":\"pie\"}]},\"layout\":{\"autotypenumbers\":\"strict\",\"colorway\":[\"#636efa\",\"#EF553B\",\"#00cc96\",\"#ab63fa\",\"#FFA15A\",\"#19d3f3\",\"#FF6692\",\"#B6E880\",\"#FF97FF\",\"#FECB52\"],\"font\":{\"color\":\"#2a3f5f\"},\"hovermode\":\"closest\",\"hoverlabel\":{\"align\":\"left\"},\"paper_bgcolor\":\"white\",\"plot_bgcolor\":\"#E5ECF6\",\"polar\":{\"bgcolor\":\"#E5ECF6\",\"angularaxis\":{\"gridcolor\":\"white\",\"linecolor\":\"white\",\"ticks\":\"\"},\"radialaxis\":{\"gridcolor\":\"white\",\"linecolor\":\"white\",\"ticks\":\"\"}},\"ternary\":{\"bgcolor\":\"#E5ECF6\",\"aaxis\":{\"gridcolor\":\"white\",\"linecolor\":\"white\",\"ticks\":\"\"},\"baxis\":{\"gridcolor\":\"white\",\"linecolor\":\"white\",\"ticks\":\"\"},\"caxis\":{\"gridcolor\":\"white\",\"linecolor\":\"white\",\"ticks\":\"\"}},\"coloraxis\":{\"colorbar\":{\"outlinewidth\":0,\"ticks\":\"\"}},\"colorscale\":{\"sequential\":[[0.0,\"#0d0887\"],[0.1111111111111111,\"#46039f\"],[0.2222222222222222,\"#7201a8\"],[0.3333333333333333,\"#9c179e\"],[0.4444444444444444,\"#bd3786\"],[0.5555555555555556,\"#d8576b\"],[0.6666666666666666,\"#ed7953\"],[0.7777777777777778,\"#fb9f3a\"],[0.8888888888888888,\"#fdca26\"],[1.0,\"#f0f921\"]],\"sequentialminus\":[[0.0,\"#0d0887\"],[0.1111111111111111,\"#46039f\"],[0.2222222222222222,\"#7201a8\"],[0.3333333333333333,\"#9c179e\"],[0.4444444444444444,\"#bd3786\"],[0.5555555555555556,\"#d8576b\"],[0.6666666666666666,\"#ed7953\"],[0.7777777777777778,\"#fb9f3a\"],[0.8888888888888888,\"#fdca26\"],[1.0,\"#f0f921\"]],\"diverging\":[[0,\"#8e0152\"],[0.1,\"#c51b7d\"],[0.2,\"#de77ae\"],[0.3,\"#f1b6da\"],[0.4,\"#fde0ef\"],[0.5,\"#f7f7f7\"],[0.6,\"#e6f5d0\"],[0.7,\"#b8e186\"],[0.8,\"#7fbc41\"],[0.9,\"#4d9221\"],[1,\"#276419\"]]},\"xaxis\":{\"gridcolor\":\"white\",\"linecolor\":\"white\",\"ticks\":\"\",\"title\":{\"standoff\":15},\"zerolinecolor\":\"white\",\"automargin\":true,\"zerolinewidth\":2},\"yaxis\":{\"gridcolor\":\"white\",\"linecolor\":\"white\",\"ticks\":\"\",\"title\":{\"standoff\":15},\"zerolinecolor\":\"white\",\"automargin\":true,\"zerolinewidth\":2},\"scene\":{\"xaxis\":{\"backgroundcolor\":\"#E5ECF6\",\"gridcolor\":\"white\",\"linecolor\":\"white\",\"showbackground\":true,\"ticks\":\"\",\"zerolinecolor\":\"white\",\"gridwidth\":2},\"yaxis\":{\"backgroundcolor\":\"#E5ECF6\",\"gridcolor\":\"white\",\"linecolor\":\"white\",\"showbackground\":true,\"ticks\":\"\",\"zerolinecolor\":\"white\",\"gridwidth\":2},\"zaxis\":{\"backgroundcolor\":\"#E5ECF6\",\"gridcolor\":\"white\",\"linecolor\":\"white\",\"showbackground\":true,\"ticks\":\"\",\"zerolinecolor\":\"white\",\"gridwidth\":2}},\"shapedefaults\":{\"line\":{\"color\":\"#2a3f5f\"}},\"annotationdefaults\":{\"arrowcolor\":\"#2a3f5f\",\"arrowhead\":0,\"arrowwidth\":1},\"geo\":{\"bgcolor\":\"white\",\"landcolor\":\"#E5ECF6\",\"subunitcolor\":\"white\",\"showland\":true,\"showlakes\":true,\"lakecolor\":\"white\"},\"title\":{\"x\":0.05},\"mapbox\":{\"style\":\"light\"}}},\"xaxis\":{\"title\":{\"text\":\"Dose Amount\"},\"showline\":true,\"linewidth\":1,\"linecolor\":\"black\"},\"yaxis\":{\"title\":{\"text\":\"Relative Weight\"},\"showline\":true,\"linewidth\":1,\"linecolor\":\"black\"},\"title\":{\"text\":\"Box Plot with Jitter Points by Sex and Tissue\"},\"plot_bgcolor\":\"white\",\"paper_bgcolor\":\"white\"},                        {\"responsive\": true}                    ).then(function(){\n",
       "                            \n",
       "var gd = document.getElementById('ce8568c6-3352-4356-87c1-e4917ecc0b38');\n",
       "var x = new MutationObserver(function (mutations, observer) {{\n",
       "        var display = window.getComputedStyle(gd).display;\n",
       "        if (!display || display === 'none') {{\n",
       "            console.log([gd, 'removed!']);\n",
       "            Plotly.purge(gd);\n",
       "            observer.disconnect();\n",
       "        }}\n",
       "}});\n",
       "\n",
       "// Listen for the removal of the full notebook cells\n",
       "var notebookContainer = gd.closest('#notebook-container');\n",
       "if (notebookContainer) {{\n",
       "    x.observe(notebookContainer, {childList: true});\n",
       "}}\n",
       "\n",
       "// Listen for the clearing of the current output cell\n",
       "var outputEl = gd.closest('.output');\n",
       "if (outputEl) {{\n",
       "    x.observe(outputEl, {childList: true});\n",
       "}}\n",
       "\n",
       "                        })                };                });            </script>        </div>"
      ]
     },
     "metadata": {},
     "output_type": "display_data"
    }
   ],
   "source": [
    "df = input_data\n",
    "\n",
    "# Convert \"dose_amount_x\" to a categorical variable with a specific order (if needed)\n",
    "dose_order = sorted(df[\"dose_amount_x\"].unique())\n",
    "df[\"dose_amount_x\"] = pd.Categorical(df[\"dose_amount_x\"], categories=dose_order, ordered=True)\n",
    "\n",
    "# Create a box plot using Plotly graph objects\n",
    "box_fig = go.Figure()\n",
    "for site in df[\"biospecimen_anatomic_site\"].unique():\n",
    "    box_data = df[df[\"biospecimen_anatomic_site\"] == site]\n",
    "    box_fig.add_trace(\n",
    "        go.Box(\n",
    "            x=box_data[\"dose_amount_x\"],\n",
    "            y=box_data[\"value_y\"],\n",
    "            name=site,\n",
    "            boxpoints=False,  # Do not show points in the box plot\n",
    "        )\n",
    "    )\n",
    "\n",
    "# Add jitter points to the same figure\n",
    "for site in df[\"biospecimen_anatomic_site\"].unique():\n",
    "    jitter_data = df[df[\"biospecimen_anatomic_site\"] == site]\n",
    "    box_fig.add_trace(\n",
    "        go.Scatter(\n",
    "            x=jitter_data[\"dose_amount_x\"],\n",
    "            y=jitter_data[\"value_y\"],\n",
    "            name=f\"{site} Jitter\",\n",
    "            mode=\"markers\",\n",
    "            marker=dict(size=8),\n",
    "            showlegend=False,  # To avoid duplicating the legend\n",
    "        )\n",
    "    )\n",
    "\n",
    "box_fig.update_layout(\n",
    "    xaxis_title=\"Dose Amount\",\n",
    "    yaxis_title=\"Relative Weight\",\n",
    "    title=\"Box Plot with Jitter Points by Sex and Tissue\",\n",
    "    plot_bgcolor='white',  # Set background color to white\n",
    "    paper_bgcolor='white',  # Set paper color to white\n",
    ")\n",
    "\n",
    "# Set the plot area border color\n",
    "box_fig.update_xaxes(showline=True, linewidth=1, linecolor='black')  # Set x-axis border color\n",
    "box_fig.update_yaxes(showline=True, linewidth=1, linecolor='black')  # Set y-axis border color\n",
    "\n",
    "# Show the plot\n",
    "box_fig.show()"
   ]
  }
 ],
 "metadata": {
  "kernelspec": {
   "display_name": "Python 3 (ipykernel)",
   "language": "python",
   "name": "python3"
  },
  "language_info": {
   "codemirror_mode": {
    "name": "ipython",
    "version": 3
   },
   "file_extension": ".py",
   "mimetype": "text/x-python",
   "name": "python",
   "nbconvert_exporter": "python",
   "pygments_lexer": "ipython3",
   "version": "3.9.13"
  }
 },
 "nbformat": 4,
 "nbformat_minor": 5
}
